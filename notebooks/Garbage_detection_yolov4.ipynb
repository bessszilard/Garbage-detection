{
  "nbformat": 4,
  "nbformat_minor": 0,
  "metadata": {
    "colab": {
      "name": "Garbage_detection_yolov4.ipynb",
      "provenance": [],
      "collapsed_sections": [
        "m9wmq8xvrHUn",
        "fnM32nz-tTRE"
      ],
      "toc_visible": true
    },
    "kernelspec": {
      "name": "python3",
      "display_name": "Python 3"
    },
    "accelerator": "GPU"
  },
  "cells": [
    {
      "cell_type": "markdown",
      "metadata": {
        "id": "t0B_K-8Djzs0",
        "colab_type": "text"
      },
      "source": [
        "# Helper functions"
      ]
    },
    {
      "cell_type": "code",
      "metadata": {
        "id": "P4SBzE9Fd5Hi",
        "colab_type": "code",
        "colab": {}
      },
      "source": [
        "from IPython.display import Image\n",
        "import os\n",
        "import shutil\n",
        "from os import listdir\n",
        "from os.path import isfile, join"
      ],
      "execution_count": null,
      "outputs": []
    },
    {
      "cell_type": "code",
      "metadata": {
        "id": "CsYBju1jtLSk",
        "colab_type": "code",
        "colab": {}
      },
      "source": [
        "def create_empty_dir(dir):\n",
        "    \"\"\"\n",
        "    Creates a directory.\n",
        "    If the fodler exists, it clears it's content by recreating it.\n",
        "    @param: dir - folder's path string\n",
        "    \"\"\"\n",
        "    if os.path.isdir(dir):\n",
        "        shutil.rmtree(dir)    \n",
        "    os.mkdir(dir)"
      ],
      "execution_count": null,
      "outputs": []
    },
    {
      "cell_type": "code",
      "metadata": {
        "id": "qf4SPo9hcKbi",
        "colab_type": "code",
        "colab": {}
      },
      "source": [
        "def get_file_list(dir, ext=None):\n",
        "    \"\"\"\n",
        "    Returns the file list of the given folder.\n",
        "\n",
        "    @param dir - folder's path string\n",
        "    @param ext - extensions filter list. It could be str or a list\n",
        "    @return list of files in the folder\n",
        "    \"\"\"\n",
        "    # single extension\n",
        "    if type(ext) == str:\n",
        "        return [join(frame_dir, f) for f in listdir(frame_dir) if isfile(join(frame_dir, f)) and f.split(\".\")[-1] == ext]\n",
        "\n",
        "    # extension list\n",
        "    if type(ext) == list:\n",
        "        return [join(frame_dir, f) for f in listdir(frame_dir) if isfile(join(frame_dir, f)) and f.split(\".\")[-1] in ext]\n",
        "    \n",
        "    # no extensions\n",
        "    return [join(frame_dir, f) for f in listdir(frame_dir) if isfile(join(frame_dir, f))]"
      ],
      "execution_count": null,
      "outputs": []
    },
    {
      "cell_type": "markdown",
      "metadata": {
        "id": "7co2B_5qdqts",
        "colab_type": "text"
      },
      "source": [
        "# Darknet"
      ]
    },
    {
      "cell_type": "code",
      "metadata": {
        "id": "uxly9BEeu51Z",
        "colab_type": "code",
        "colab": {}
      },
      "source": [
        "%cd /content/"
      ],
      "execution_count": null,
      "outputs": []
    },
    {
      "cell_type": "code",
      "metadata": {
        "id": "xTZ76g6gdr_O",
        "colab_type": "code",
        "colab": {}
      },
      "source": [
        "# based on https://colab.research.google.com/drive/1_GdoqCJWXsChrOiY8sZMr_zbr_fH-0Fg?usp=sharing#scrollTo=GQQrAMdXN22a\n",
        "!git clone https://github.com/AlexeyAB/darknet"
      ],
      "execution_count": null,
      "outputs": []
    },
    {
      "cell_type": "code",
      "metadata": {
        "id": "6L-ZLRJZdurs",
        "colab_type": "code",
        "colab": {
          "base_uri": "https://localhost:8080/",
          "height": 34
        },
        "outputId": "990e2c00-c14c-406f-8f67-1ddfcbbd878f"
      },
      "source": [
        "# enable GPU and OPENCV in the makefile\n",
        "%cd darknet\n",
        "!sed -i 's/OPENCV=0/OPENCV=1/' Makefile\n",
        "!sed -i 's/GPU=0/GPU=1/' Makefile\n",
        "!sed -i 's/CUDNN=0/CUDNN=1/' Makefile\n",
        "!sed -i 's/CUDNN_HALF=0/CUDNN_HALF=1/' Makefile"
      ],
      "execution_count": null,
      "outputs": [
        {
          "output_type": "stream",
          "text": [
            "/content/darknet\n"
          ],
          "name": "stdout"
        }
      ]
    },
    {
      "cell_type": "code",
      "metadata": {
        "id": "waqA8fRRdySw",
        "colab_type": "code",
        "colab": {}
      },
      "source": [
        "# check CUDA\n",
        "!/usr/local/cuda/bin/nvcc --version"
      ],
      "execution_count": null,
      "outputs": []
    },
    {
      "cell_type": "code",
      "metadata": {
        "id": "REC41e9Tdzqk",
        "colab_type": "code",
        "colab": {}
      },
      "source": [
        "# build darknet library\n",
        "!make"
      ],
      "execution_count": null,
      "outputs": []
    },
    {
      "cell_type": "markdown",
      "metadata": {
        "id": "GOcfWZglYK-k",
        "colab_type": "text"
      },
      "source": [
        "# Copy custom files"
      ]
    },
    {
      "cell_type": "code",
      "metadata": {
        "id": "lCXb5nFVQhqe",
        "colab_type": "code",
        "colab": {}
      },
      "source": [
        "# manully annotated smaller dataset (50 images)\n",
        "# !unzip /content/drive/My\\ Drive/20200722/task_garbage_detection_2-2020_07_23_13_39_54-yolo-1.1.zip -d /content/darknet/data/\n",
        "\n",
        "# generated and manually fixed dataset (322 images)\n",
        "!unzip /content/drive/My\\ Drive/20200722/task_garbage_det_fps_15_img_annot_322-2020_07_24_13_19_02-yolo-1.1.zip -d /content/darknet/data/"
      ],
      "execution_count": null,
      "outputs": []
    },
    {
      "cell_type": "code",
      "metadata": {
        "id": "2jl_InvOXueq",
        "colab_type": "code",
        "colab": {}
      },
      "source": [
        "!cp /content/drive/My\\ Drive/20200722/yolov4-custom.cfg ./cfg/"
      ],
      "execution_count": null,
      "outputs": []
    },
    {
      "cell_type": "code",
      "metadata": {
        "id": "tbtjiaIPYfhQ",
        "colab_type": "code",
        "colab": {}
      },
      "source": [
        "objd_path = 'data/obj.data'\n",
        "cfg_path = 'cfg/yolov4-custom.cfg'"
      ],
      "execution_count": null,
      "outputs": []
    },
    {
      "cell_type": "code",
      "metadata": {
        "id": "XGa6cDnbZFxm",
        "colab_type": "code",
        "colab": {}
      },
      "source": [
        "!cat {data_path}\n",
        "#!cat {cfg_path}"
      ],
      "execution_count": null,
      "outputs": []
    },
    {
      "cell_type": "markdown",
      "metadata": {
        "id": "_kEcvxLOQ5bO",
        "colab_type": "text"
      },
      "source": [
        "# Train model on custom dataset"
      ]
    },
    {
      "cell_type": "code",
      "metadata": {
        "id": "NOfYpMn1d1Bn",
        "colab_type": "code",
        "colab": {}
      },
      "source": [
        "# download COCO dataset\n",
        "!wget https://github.com/AlexeyAB/darknet/releases/download/darknet_yolo_v3_optimal/yolov4.conv.137"
      ],
      "execution_count": null,
      "outputs": []
    },
    {
      "cell_type": "code",
      "metadata": {
        "id": "vs9vOWvjRZ-E",
        "colab_type": "code",
        "colab": {}
      },
      "source": [
        "weight_path = 'yolov4.conv.137'"
      ],
      "execution_count": null,
      "outputs": []
    },
    {
      "cell_type": "code",
      "metadata": {
        "id": "4myQUk5MSlSS",
        "colab_type": "code",
        "colab": {}
      },
      "source": [
        "!./darknet detector train {objd_path} {cfg_path} {weight_path} -dont_show -map"
      ],
      "execution_count": null,
      "outputs": []
    },
    {
      "cell_type": "code",
      "metadata": {
        "id": "DA-jNLzuVsdA",
        "colab_type": "code",
        "colab": {}
      },
      "source": [
        "Image('chart.png')"
      ],
      "execution_count": null,
      "outputs": []
    },
    {
      "cell_type": "markdown",
      "metadata": {
        "id": "l6bcLXIpSkvM",
        "colab_type": "text"
      },
      "source": [
        "## Store weights on drive"
      ]
    },
    {
      "cell_type": "code",
      "metadata": {
        "id": "mdUa85LjUqPC",
        "colab_type": "code",
        "colab": {}
      },
      "source": [
        "from distutils.dir_util import copy_tree"
      ],
      "execution_count": null,
      "outputs": []
    },
    {
      "cell_type": "code",
      "metadata": {
        "id": "xMSn0RXISj45",
        "colab_type": "code",
        "colab": {}
      },
      "source": [
        "backup_path = '/content/drive/My Drive/20200726/yolo_backup'\n",
        "orig_backup_dir = '/content/darknet/backup'\n",
        "\n",
        "create_empty_dir(backup_path)\n",
        "copy_tree(orig_backup_dir, backup_path)"
      ],
      "execution_count": null,
      "outputs": []
    },
    {
      "cell_type": "markdown",
      "metadata": {
        "id": "FOUEA4_pJJ5E",
        "colab_type": "text"
      },
      "source": [
        "# Detections"
      ]
    },
    {
      "cell_type": "markdown",
      "metadata": {
        "id": "N4qwh0S0QJPi",
        "colab_type": "text"
      },
      "source": [
        "### Import existing model"
      ]
    },
    {
      "cell_type": "code",
      "metadata": {
        "id": "Fd1KwfE2QIFu",
        "colab_type": "code",
        "colab": {}
      },
      "source": [
        "weight_path = '/content/drive/My\\ Drive/20200724/yolo_backup/yolov4-custom_best.weights'"
      ],
      "execution_count": null,
      "outputs": []
    },
    {
      "cell_type": "markdown",
      "metadata": {
        "id": "qSzXKc3YZetg",
        "colab_type": "text"
      },
      "source": [
        "## Run detection on a single image"
      ]
    },
    {
      "cell_type": "code",
      "metadata": {
        "id": "NcOJFWt4YrHM",
        "colab_type": "code",
        "colab": {}
      },
      "source": [
        "img_path = '/content/darknet/data/obj_train_data/fps_15_frame_0034.jpg'"
      ],
      "execution_count": null,
      "outputs": []
    },
    {
      "cell_type": "code",
      "metadata": {
        "id": "dz53gChkYHIJ",
        "colab_type": "code",
        "colab": {}
      },
      "source": [
        "!./darknet detector test data/obj.data cfg/yolov4-custom.cfg {weight_path} {img_path} \\\n",
        "        -thresh 0.1 -dont_show\n",
        "\n",
        "Image('predictions.jpg')"
      ],
      "execution_count": null,
      "outputs": []
    },
    {
      "cell_type": "markdown",
      "metadata": {
        "id": "64WsG7u5ZjND",
        "colab_type": "text"
      },
      "source": [
        "## Run detection on a video"
      ]
    },
    {
      "cell_type": "code",
      "metadata": {
        "id": "hku8wbNpZlBl",
        "colab_type": "code",
        "colab": {}
      },
      "source": [
        "video_path = '/content/drive/My\\ Drive/20200724/VID_20200722_115436_stabiilizo_annot.mp4'\n",
        "video_out = '/content/results.avi'"
      ],
      "execution_count": null,
      "outputs": []
    },
    {
      "cell_type": "code",
      "metadata": {
        "id": "PQ7mhKn2Oavg",
        "colab_type": "code",
        "colab": {}
      },
      "source": [
        "!./darknet detector demo {data_path} {cfg_path} {weight_path} \\\n",
        "    -dont_show {video_path} -i 0 -out_filename {video_out} -thresh 0.1"
      ],
      "execution_count": null,
      "outputs": []
    },
    {
      "cell_type": "code",
      "metadata": {
        "id": "oTDBsqEMPDwA",
        "colab_type": "code",
        "colab": {}
      },
      "source": [
        "!cp ./results.avi /content/drive/My\\ Drive/20200722/"
      ],
      "execution_count": null,
      "outputs": []
    },
    {
      "cell_type": "markdown",
      "metadata": {
        "id": "r0VMxE6KRZwx",
        "colab_type": "text"
      },
      "source": [
        "# Generate annotations"
      ]
    },
    {
      "cell_type": "markdown",
      "metadata": {
        "id": "e8npqP2ThCO6",
        "colab_type": "text"
      },
      "source": [
        "## Convert Video to frames and create frame_list.txt "
      ]
    },
    {
      "cell_type": "code",
      "metadata": {
        "id": "5SUhCTjAU3gd",
        "colab_type": "code",
        "colab": {}
      },
      "source": [
        "# Video to frames\n",
        "frame_dir = '/content/frames'\n",
        "input_video = '/content/drive/My\\ Drive/20200724/VID_20200722_115436_stabiilizo_annot.mp4'\n",
        "create_empty_dir(frame_dir)\n",
        "\n",
        "fps = 15\n",
        "frames_name = os.path.join(frame_dir, \"fps_{}_frame_%04d.jpg\".format(fps))\n",
        "!ffmpeg -i {input_video} -vf fps={fps} -qscale:v 2 {frames_name}"
      ],
      "execution_count": null,
      "outputs": []
    },
    {
      "cell_type": "code",
      "metadata": {
        "id": "7IGvvj3uXuDl",
        "colab_type": "code",
        "colab": {}
      },
      "source": [
        "frame_dir = '/content/frames'\n",
        "frame_list_file = '/content/frames_list.txt'\n",
        "\n",
        "frame_list = get_file_list(frame_list_file, ext='jpg')\n",
        "print(\"Number of frames: {}\".format(len(frame_list)))\n",
        "\n",
        "# write frame list to file\n",
        "with open(frame_list_file, 'w') as f:\n",
        "    for frame_path in frame_list:\n",
        "        f.write(frame_path + \"\\n\")"
      ],
      "execution_count": null,
      "outputs": []
    },
    {
      "cell_type": "markdown",
      "metadata": {
        "id": "37OwDZXpeqvF",
        "colab_type": "text"
      },
      "source": [
        "## Generate json with the trained model"
      ]
    },
    {
      "cell_type": "code",
      "metadata": {
        "id": "DMXgPcTmeuW6",
        "colab_type": "code",
        "colab": {}
      },
      "source": [
        "weight_path = '/content/drive/My\\ Drive/20200724/yolo_backup/yolov4-custom_best.weights'\n",
        "output_json_path = 'content/result.json'"
      ],
      "execution_count": null,
      "outputs": []
    },
    {
      "cell_type": "code",
      "metadata": {
        "id": "wM1ojBDfRazB",
        "colab_type": "code",
        "colab": {}
      },
      "source": [
        "!./darknet detector test {data_path} {cfg_path} {weight_path} -dont_show -out /content/result.json -ext_output \\\n",
        "    <{frame_list_file}> /content/result.txt -thresh 0.1"
      ],
      "execution_count": null,
      "outputs": []
    },
    {
      "cell_type": "markdown",
      "metadata": {
        "id": "sPvkSE92jQYH",
        "colab_type": "text"
      },
      "source": [
        "## Convert JSON to Pascal VOC"
      ]
    },
    {
      "cell_type": "code",
      "metadata": {
        "id": "dtjvGfmzkXLn",
        "colab_type": "code",
        "colab": {}
      },
      "source": [
        "!pip install pascal-voc-writer"
      ],
      "execution_count": null,
      "outputs": []
    },
    {
      "cell_type": "code",
      "metadata": {
        "id": "-skOJt58jUrM",
        "colab_type": "code",
        "colab": {}
      },
      "source": [
        "import json\n",
        "from pprint import pprint\n",
        "from PIL import Image\n",
        "from pascal_voc_writer import Writer"
      ],
      "execution_count": null,
      "outputs": []
    },
    {
      "cell_type": "code",
      "metadata": {
        "id": "N64l9UuRlPWS",
        "colab_type": "code",
        "colab": {}
      },
      "source": [
        "with open('/content/result.json') as f:\n",
        "    data = json.load(f)"
      ],
      "execution_count": null,
      "outputs": []
    },
    {
      "cell_type": "code",
      "metadata": {
        "id": "R9bcmPdcj4OH",
        "colab_type": "code",
        "colab": {}
      },
      "source": [
        "# clear folder if exsists\n",
        "annot_dir = '/content/pascal_voc'\n",
        "create_empty_dir(annot_dir)\n",
        "\n",
        "for det_result in data:\n",
        "    # pprint(image_res)\n",
        "    img_path = det_result['filename']\n",
        "    img = Image.open(img_path)\n",
        "    width, height = img.size\n",
        "\n",
        "    # Writer(path, width, height)\n",
        "    writer = Writer(img_path, width, height)\n",
        "\n",
        "    for obj in det_result['objects']:\n",
        "        bb_x_center = obj['relative_coordinates']['center_x']\n",
        "        bb_y_center = obj['relative_coordinates']['center_y']\n",
        "        \n",
        "        bb_width = obj['relative_coordinates']['width']\n",
        "        bb_height = obj['relative_coordinates']['height']\n",
        "\n",
        "        xmin = int((bb_x_center - bb_width/2) * width)\n",
        "        xmax = int((bb_x_center + bb_width/2) * width)\n",
        "        \n",
        "        ymin = int((bb_y_center - bb_height/2) * height)\n",
        "        ymax = int((bb_y_center + bb_height/2) * height)\n",
        "\n",
        "        # ::addObject(name, xmin, ymin, xmax, ymax)\n",
        "        writer.addObject(obj['name'], xmin, ymin, xmax, ymax)\n",
        "\n",
        "    #image name without extension\n",
        "    xml_name = img_path.split(\"/\")[-1].split('.')[0] + \".xml\"\n",
        "    xml_path = os.path.join(annot_dir, xml_name)\n",
        "    writer.save(xml_path)\n",
        "    # print(xml_name)"
      ],
      "execution_count": null,
      "outputs": []
    },
    {
      "cell_type": "code",
      "metadata": {
        "id": "7KbhscCFp4QH",
        "colab_type": "code",
        "colab": {}
      },
      "source": [
        "!cd /content/; zip frames/pascal_voc.zip pascal_voc/*\n",
        "!cd /content/; zip garbage_det_fps_15_img_annot_322.zip frames/*"
      ],
      "execution_count": null,
      "outputs": []
    },
    {
      "cell_type": "code",
      "metadata": {
        "id": "RfllE1WQqgE8",
        "colab_type": "code",
        "colab": {}
      },
      "source": [
        "!cp /content/garbage_det_fps_15_img_annot_322.zip /content/drive/My\\ Drive/20200722"
      ],
      "execution_count": null,
      "outputs": []
    },
    {
      "cell_type": "markdown",
      "metadata": {
        "id": "FGWafBW2Oo0g",
        "colab_type": "text"
      },
      "source": [
        "# Tensorflow -Yolov4"
      ]
    },
    {
      "cell_type": "code",
      "metadata": {
        "id": "Dsmqbg_Bzl6n",
        "colab_type": "code",
        "colab": {}
      },
      "source": [
        "!cp /content/drive/My\\ Drive/20200724/VID_20200722_115436_stabiilizo_annot.mp4 /content/"
      ],
      "execution_count": null,
      "outputs": []
    },
    {
      "cell_type": "code",
      "metadata": {
        "id": "ZWiZ7kRzWRvZ",
        "colab_type": "code",
        "colab": {}
      },
      "source": [
        "data_path = '/content/darknet/data/obj.data'\n",
        "cfg_path = '/content/darknet/cfg/yolov4-custom.cfg'\n",
        "weight_path = '/content/drive/My\\ Drive/20200724/yolo_backup/yolov4-custom_best.weights'\n",
        "img_path = '/content/fps_5_frame_0002.jpg'\n",
        "input_video = '/content/VID_20200724_115436_stabiilizo_annot.mp4'"
      ],
      "execution_count": null,
      "outputs": []
    },
    {
      "cell_type": "code",
      "metadata": {
        "id": "_azHdFsZVL66",
        "colab_type": "code",
        "colab": {}
      },
      "source": [
        "# !git clone https://github.com/hunglc007/tensorflow-yolov4-tflite\n",
        "!git clone https://github.com/bessszilard/tensorflow-yolov4-tflite"
      ],
      "execution_count": null,
      "outputs": []
    },
    {
      "cell_type": "code",
      "metadata": {
        "id": "XnXYFwstSrDG",
        "colab_type": "code",
        "colab": {}
      },
      "source": [
        "%cd /content/tensorflow-yolov4-tflite/\n",
        "!git checkout add_video_output_and_dont_show_flag #add_custom_name_flag_to_save_model "
      ],
      "execution_count": null,
      "outputs": []
    },
    {
      "cell_type": "code",
      "metadata": {
        "id": "vDtJThpIVRF-",
        "colab_type": "code",
        "colab": {}
      },
      "source": [
        "!cd /content/tensorflow-yolov4-tflite/; pip install -r requirements.txt"
      ],
      "execution_count": null,
      "outputs": []
    },
    {
      "cell_type": "code",
      "metadata": {
        "id": "d6VT7X0MgnSQ",
        "colab_type": "code",
        "colab": {}
      },
      "source": [
        "config_path = '/content/tensorflow-yolov4-tflite/core/config.py'\n",
        "custom_name_path = \"/content/darknet/data/obj.names\"\n",
        "\n",
        "# Read in the file\n",
        "with open(config_path, 'r') as file :\n",
        "  filedata = file.read()\n",
        "\n",
        "# Replace the target string\n",
        "filedata = filedata.replace(\"./data/classes/coco.names\", custom_name_path)\n",
        "\n",
        "# Write the file out again\n",
        "with open(config_path, 'w') as file:\n",
        "  file.write(filedata)\n"
      ],
      "execution_count": null,
      "outputs": []
    },
    {
      "cell_type": "code",
      "metadata": {
        "id": "Gbx5dzRtVQ6D",
        "colab_type": "code",
        "colab": {}
      },
      "source": [
        "%cd /content/tensorflow-yolov4-tflite\n",
        "create_empty_dir('/content/yolov4-416/')\n",
        "!python save_model.py --weights {weight_path} --output /content/yolov4-416 --input_size 416 --model yolov4"
      ],
      "execution_count": null,
      "outputs": []
    },
    {
      "cell_type": "code",
      "metadata": {
        "id": "GTNHgURFxvTJ",
        "colab_type": "code",
        "colab": {}
      },
      "source": [
        "tf_weights = '/content/yolov4-416'"
      ],
      "execution_count": null,
      "outputs": []
    },
    {
      "cell_type": "code",
      "metadata": {
        "id": "-gdXFasLwgof",
        "colab_type": "code",
        "colab": {}
      },
      "source": [
        "!python detectvideo.py --weights /content/yolov4-416 --size 416 --model yolov4 \\\n",
        "    --video /content/VID_20200722_115436_stabiilizo_annot.mp4 \\\n",
        "    --output /content/results.avi \\\n",
        "    --dis_cv2_window"
      ],
      "execution_count": null,
      "outputs": []
    },
    {
      "cell_type": "code",
      "metadata": {
        "id": "J_X9mipyVLWC",
        "colab_type": "code",
        "colab": {}
      },
      "source": [
        ""
      ],
      "execution_count": null,
      "outputs": []
    }
  ]
}