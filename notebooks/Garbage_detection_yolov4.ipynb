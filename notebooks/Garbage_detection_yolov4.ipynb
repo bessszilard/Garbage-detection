{
  "nbformat": 4,
  "nbformat_minor": 0,
  "metadata": {
    "colab": {
      "name": "Garbage_detection_yolov4.ipynb",
      "provenance": [],
      "collapsed_sections": [],
      "toc_visible": true
    },
    "kernelspec": {
      "name": "python3",
      "display_name": "Python 3"
    },
    "accelerator": "GPU"
  },
  "cells": [
    {
      "cell_type": "markdown",
      "metadata": {
        "id": "7co2B_5qdqts",
        "colab_type": "text"
      },
      "source": [
        "# Darknet"
      ]
    },
    {
      "cell_type": "code",
      "metadata": {
        "id": "xTZ76g6gdr_O",
        "colab_type": "code",
        "colab": {}
      },
      "source": [
        "# based on https://colab.research.google.com/drive/1_GdoqCJWXsChrOiY8sZMr_zbr_fH-0Fg?usp=sharing#scrollTo=GQQrAMdXN22a\n",
        "# clone darknet repo\n",
        "!git clone https://github.com/AlexeyAB/darknet"
      ],
      "execution_count": null,
      "outputs": []
    },
    {
      "cell_type": "code",
      "metadata": {
        "id": "6L-ZLRJZdurs",
        "colab_type": "code",
        "colab": {}
      },
      "source": [
        "# change makefile to have GPU and OPENCV enabled\n",
        "%cd darknet\n",
        "!sed -i 's/OPENCV=0/OPENCV=1/' Makefile\n",
        "!sed -i 's/GPU=0/GPU=1/' Makefile\n",
        "!sed -i 's/CUDNN=0/CUDNN=1/' Makefile\n",
        "!sed -i 's/CUDNN_HALF=0/CUDNN_HALF=1/' Makefile"
      ],
      "execution_count": null,
      "outputs": []
    },
    {
      "cell_type": "code",
      "metadata": {
        "id": "waqA8fRRdySw",
        "colab_type": "code",
        "colab": {}
      },
      "source": [
        "# verify CUDA\n",
        "!/usr/local/cuda/bin/nvcc --version"
      ],
      "execution_count": null,
      "outputs": []
    },
    {
      "cell_type": "code",
      "metadata": {
        "id": "REC41e9Tdzqk",
        "colab_type": "code",
        "colab": {}
      },
      "source": [
        "# make darknet (builds darknet so that you can then use the darknet executable file to run or train object detectors)\n",
        "!make"
      ],
      "execution_count": null,
      "outputs": []
    },
    {
      "cell_type": "code",
      "metadata": {
        "id": "NOfYpMn1d1Bn",
        "colab_type": "code",
        "colab": {}
      },
      "source": [
        "!wget https://github.com/AlexeyAB/darknet/releases/download/darknet_yolo_v3_optimal/yolov4.conv.137"
      ],
      "execution_count": null,
      "outputs": []
    },
    {
      "cell_type": "code",
      "metadata": {
        "id": "P4SBzE9Fd5Hi",
        "colab_type": "code",
        "colab": {}
      },
      "source": [
        "# define helper functions\n",
        "def imShow(path):\n",
        "  import cv2\n",
        "  import matplotlib.pyplot as plt\n",
        "  %matplotlib inline\n",
        "\n",
        "  image = cv2.imread(path)\n",
        "  height, width = image.shape[:2]\n",
        "  resized_image = cv2.resize(image,(3*width, 3*height), interpolation = cv2.INTER_CUBIC)\n",
        "\n",
        "  fig = plt.gcf()\n",
        "  fig.set_size_inches(18, 10)\n",
        "  plt.axis(\"off\")\n",
        "  plt.imshow(cv2.cvtColor(resized_image, cv2.COLOR_BGR2RGB))\n",
        "  plt.show()\n",
        "\n",
        "# use this to upload files\n",
        "def upload():\n",
        "  from google.colab import files\n",
        "  uploaded = files.upload() \n",
        "  for name, data in uploaded.items():\n",
        "    with open(name, 'wb') as f:\n",
        "      f.write(data)\n",
        "      print ('saved file', name)\n",
        "\n",
        "# use this to download a file  \n",
        "def download(path):\n",
        "  from google.colab import files\n",
        "  files.download(path)"
      ],
      "execution_count": 110,
      "outputs": []
    },
    {
      "cell_type": "code",
      "metadata": {
        "id": "lCXb5nFVQhqe",
        "colab_type": "code",
        "colab": {}
      },
      "source": [
        "# !unzip /content/drive/My\\ Drive/20200722/task_garbage_detection_2-2020_07_23_13_39_54-yolo-1.1.zip -d /content/darknet/data/\n",
        "!unzip /content/drive/My\\ Drive/20200722/task_garbage_det_fps_15_img_annot_322-2020_07_24_13_19_02-yolo-1.1.zip -d /content/darknet/data/"
      ],
      "execution_count": null,
      "outputs": []
    },
    {
      "cell_type": "code",
      "metadata": {
        "id": "18SB_DFpSII3",
        "colab_type": "code",
        "colab": {}
      },
      "source": [
        "!cp /content/drive/My\\ Drive/20200722/yolov4-custom.cfg /content/darknet/cfg/"
      ],
      "execution_count": 9,
      "outputs": []
    },
    {
      "cell_type": "code",
      "metadata": {
        "id": "M46aPlK7_lQg",
        "colab_type": "code",
        "colab": {}
      },
      "source": [
        "!rm /content/backup/*"
      ],
      "execution_count": null,
      "outputs": []
    },
    {
      "cell_type": "code",
      "metadata": {
        "id": "4myQUk5MSlSS",
        "colab_type": "code",
        "colab": {
          "base_uri": "https://localhost:8080/",
          "height": 1000
        },
        "outputId": "9048e1ca-ff6f-4383-e492-89d5358bb925"
      },
      "source": [
        "!./darknet detector train data/obj.data cfg/yolov4-custom.cfg yolov4.conv.137 -dont_show -map"
      ],
      "execution_count": 114,
      "outputs": [
        {
          "output_type": "stream",
          "text": [
            "v3 (iou loss, Normalizer: (iou: 0.07, cls: 1.00) Region 139 Avg (IOU: 0.851786, GIOU: 0.849271), Class: 0.995378, Obj: 0.919470, No Obj: 0.003687, .5R: 1.000000, .75R: 0.942857, count: 35, class_loss = 1.110456, iou_loss = 41.971745, total_loss = 43.082199 \n",
            "v3 (iou loss, Normalizer: (iou: 0.07, cls: 1.00) Region 150 Avg (IOU: 0.850754, GIOU: 0.846098), Class: 0.997330, Obj: 0.945543, No Obj: 0.017881, .5R: 1.000000, .75R: 0.884058, count: 69, class_loss = 0.905769, iou_loss = 22.983297, total_loss = 23.889067 \n",
            "v3 (iou loss, Normalizer: (iou: 0.07, cls: 1.00) Region 161 Avg (IOU: 0.691550, GIOU: 0.671181), Class: 0.991318, Obj: 0.728409, No Obj: 0.007409, .5R: 0.923077, .75R: 0.230769, count: 13, class_loss = 0.581209, iou_loss = 0.581517, total_loss = 1.162726 \n",
            " total_bbox = 4538083, rewritten_bbox = 0.005311 % \n",
            "v3 (iou loss, Normalizer: (iou: 0.07, cls: 1.00) Region 139 Avg (IOU: 0.869799, GIOU: 0.867182), Class: 0.995186, Obj: 0.953230, No Obj: 0.005151, .5R: 1.000000, .75R: 0.921569, count: 51, class_loss = 0.401989, iou_loss = 61.818451, total_loss = 62.220440 \n",
            "v3 (iou loss, Normalizer: (iou: 0.07, cls: 1.00) Region 150 Avg (IOU: 0.849715, GIOU: 0.845452), Class: 0.996987, Obj: 0.983574, No Obj: 0.023292, .5R: 1.000000, .75R: 0.882353, count: 85, class_loss = 0.230464, iou_loss = 26.640390, total_loss = 26.870855 \n",
            "v3 (iou loss, Normalizer: (iou: 0.07, cls: 1.00) Region 161 Avg (IOU: 0.727315, GIOU: 0.708188), Class: 0.992579, Obj: 0.757606, No Obj: 0.009342, .5R: 0.937500, .75R: 0.437500, count: 16, class_loss = 0.566644, iou_loss = 1.333953, total_loss = 1.900597 \n",
            " total_bbox = 4538235, rewritten_bbox = 0.005310 % \n",
            "v3 (iou loss, Normalizer: (iou: 0.07, cls: 1.00) Region 139 Avg (IOU: 0.835242, GIOU: 0.828142), Class: 0.978700, Obj: 0.866531, No Obj: 0.008942, .5R: 0.969697, .75R: 0.878788, count: 99, class_loss = 3.555239, iou_loss = 141.983276, total_loss = 145.538513 \n",
            "v3 (iou loss, Normalizer: (iou: 0.07, cls: 1.00) Region 150 Avg (IOU: 0.850323, GIOU: 0.846149), Class: 0.996346, Obj: 0.956893, No Obj: 0.030931, .5R: 1.000000, .75R: 0.922481, count: 129, class_loss = 0.983123, iou_loss = 42.941284, total_loss = 43.924408 \n",
            "v3 (iou loss, Normalizer: (iou: 0.07, cls: 1.00) Region 161 Avg (IOU: 0.770482, GIOU: 0.760386), Class: 0.993665, Obj: 0.674087, No Obj: 0.010037, .5R: 1.000000, .75R: 0.588235, count: 17, class_loss = 0.883127, iou_loss = 1.662294, total_loss = 2.545420 \n",
            " total_bbox = 4538480, rewritten_bbox = 0.005310 % \n",
            "v3 (iou loss, Normalizer: (iou: 0.07, cls: 1.00) Region 139 Avg (IOU: 0.859063, GIOU: 0.855106), Class: 0.993763, Obj: 0.933017, No Obj: 0.011700, .5R: 0.991525, .75R: 0.940678, count: 118, class_loss = 1.257156, iou_loss = 168.349136, total_loss = 169.606293 \n",
            "v3 (iou loss, Normalizer: (iou: 0.07, cls: 1.00) Region 150 Avg (IOU: 0.853645, GIOU: 0.848871), Class: 0.997018, Obj: 0.953082, No Obj: 0.040771, .5R: 1.000000, .75R: 0.929032, count: 155, class_loss = 1.130497, iou_loss = 57.437843, total_loss = 58.568340 \n",
            "v3 (iou loss, Normalizer: (iou: 0.07, cls: 1.00) Region 161 Avg (IOU: 0.730402, GIOU: 0.713746), Class: 0.993700, Obj: 0.670758, No Obj: 0.010720, .5R: 1.000000, .75R: 0.428571, count: 21, class_loss = 1.262328, iou_loss = 1.414773, total_loss = 2.677102 \n",
            " total_bbox = 4538774, rewritten_bbox = 0.005310 % \n",
            "v3 (iou loss, Normalizer: (iou: 0.07, cls: 1.00) Region 139 Avg (IOU: 0.849684, GIOU: 0.845603), Class: 0.993845, Obj: 0.921970, No Obj: 0.006818, .5R: 0.987180, .75R: 0.935897, count: 78, class_loss = 1.559776, iou_loss = 109.445518, total_loss = 111.005295 \n",
            "v3 (iou loss, Normalizer: (iou: 0.07, cls: 1.00) Region 150 Avg (IOU: 0.840764, GIOU: 0.836557), Class: 0.994076, Obj: 0.930532, No Obj: 0.023383, .5R: 1.000000, .75R: 0.871287, count: 101, class_loss = 2.144053, iou_loss = 39.300083, total_loss = 41.444138 \n",
            "v3 (iou loss, Normalizer: (iou: 0.07, cls: 1.00) Region 161 Avg (IOU: 0.670656, GIOU: 0.647533), Class: 0.996224, Obj: 0.743405, No Obj: 0.009465, .5R: 0.882353, .75R: 0.176471, count: 17, class_loss = 0.670239, iou_loss = 0.843830, total_loss = 1.514069 \n",
            " total_bbox = 4538970, rewritten_bbox = 0.005310 % \n",
            "v3 (iou loss, Normalizer: (iou: 0.07, cls: 1.00) Region 139 Avg (IOU: 0.874880, GIOU: 0.872134), Class: 0.995742, Obj: 0.994438, No Obj: 0.004339, .5R: 1.000000, .75R: 0.977778, count: 45, class_loss = 0.014847, iou_loss = 54.948555, total_loss = 54.963402 \n",
            "v3 (iou loss, Normalizer: (iou: 0.07, cls: 1.00) Region 150 Avg (IOU: 0.866239, GIOU: 0.863245), Class: 0.998118, Obj: 0.990676, No Obj: 0.019843, .5R: 1.000000, .75R: 0.934211, count: 76, class_loss = 0.288845, iou_loss = 27.884577, total_loss = 28.173422 \n",
            "v3 (iou loss, Normalizer: (iou: 0.07, cls: 1.00) Region 161 Avg (IOU: 0.681351, GIOU: 0.653385), Class: 0.996349, Obj: 0.685501, No Obj: 0.009495, .5R: 0.937500, .75R: 0.187500, count: 16, class_loss = 1.008767, iou_loss = 0.950866, total_loss = 1.959633 \n",
            " total_bbox = 4539107, rewritten_bbox = 0.005309 % \n",
            "v3 (iou loss, Normalizer: (iou: 0.07, cls: 1.00) Region 139 Avg (IOU: 0.892518, GIOU: 0.890954), Class: 0.996916, Obj: 0.993585, No Obj: 0.004225, .5R: 1.000000, .75R: 1.000000, count: 45, class_loss = 0.250093, iou_loss = 60.842136, total_loss = 61.092228 \n",
            "v3 (iou loss, Normalizer: (iou: 0.07, cls: 1.00) Region 150 Avg (IOU: 0.860990, GIOU: 0.857115), Class: 0.996944, Obj: 0.975433, No Obj: 0.020473, .5R: 1.000000, .75R: 0.962963, count: 81, class_loss = 0.316315, iou_loss = 26.500317, total_loss = 26.816631 \n",
            "v3 (iou loss, Normalizer: (iou: 0.07, cls: 1.00) Region 161 Avg (IOU: 0.729133, GIOU: 0.713755), Class: 0.993280, Obj: 0.850827, No Obj: 0.008185, .5R: 0.916667, .75R: 0.500000, count: 12, class_loss = 0.168568, iou_loss = 0.458706, total_loss = 0.627274 \n",
            " total_bbox = 4539245, rewritten_bbox = 0.005309 % \n",
            "v3 (iou loss, Normalizer: (iou: 0.07, cls: 1.00) Region 139 Avg (IOU: 0.843635, GIOU: 0.837676), Class: 0.989712, Obj: 0.933510, No Obj: 0.012851, .5R: 0.981707, .75R: 0.902439, count: 164, class_loss = 2.268072, iou_loss = 255.590820, total_loss = 257.858887 \n",
            "v3 (iou loss, Normalizer: (iou: 0.07, cls: 1.00) Region 150 Avg (IOU: 0.851603, GIOU: 0.846665), Class: 0.986803, Obj: 0.920747, No Obj: 0.039776, .5R: 0.993378, .75R: 0.913907, count: 151, class_loss = 1.980046, iou_loss = 57.600189, total_loss = 59.580235 \n",
            "v3 (iou loss, Normalizer: (iou: 0.07, cls: 1.00) Region 161 Avg (IOU: 0.772013, GIOU: 0.758432), Class: 0.984855, Obj: 0.781904, No Obj: 0.006369, .5R: 1.000000, .75R: 0.727273, count: 11, class_loss = 0.229723, iou_loss = 1.139152, total_loss = 1.368875 \n",
            " total_bbox = 4539571, rewritten_bbox = 0.005309 % \n",
            "v3 (iou loss, Normalizer: (iou: 0.07, cls: 1.00) Region 139 Avg (IOU: 0.830708, GIOU: 0.825146), Class: 0.980802, Obj: 0.900329, No Obj: 0.012022, .5R: 0.987097, .75R: 0.870968, count: 155, class_loss = 3.860381, iou_loss = 267.954102, total_loss = 271.814484 \n",
            "v3 (iou loss, Normalizer: (iou: 0.07, cls: 1.00) Region 150 Avg (IOU: 0.852070, GIOU: 0.847144), Class: 0.993257, Obj: 0.941993, No Obj: 0.034600, .5R: 1.000000, .75R: 0.904110, count: 146, class_loss = 1.182147, iou_loss = 53.524174, total_loss = 54.706322 \n",
            "v3 (iou loss, Normalizer: (iou: 0.07, cls: 1.00) Region 161 Avg (IOU: 0.742051, GIOU: 0.726239), Class: 0.993272, Obj: 0.766196, No Obj: 0.007541, .5R: 1.000000, .75R: 0.416667, count: 12, class_loss = 0.454563, iou_loss = 0.803149, total_loss = 1.257712 \n",
            " total_bbox = 4539884, rewritten_bbox = 0.005309 % \n",
            "v3 (iou loss, Normalizer: (iou: 0.07, cls: 1.00) Region 139 Avg (IOU: 0.860524, GIOU: 0.857648), Class: 0.989217, Obj: 0.924832, No Obj: 0.011149, .5R: 0.991597, .75R: 0.941177, count: 119, class_loss = 2.192107, iou_loss = 188.683365, total_loss = 190.875473 \n",
            "v3 (iou loss, Normalizer: (iou: 0.07, cls: 1.00) Region 150 Avg (IOU: 0.856765, GIOU: 0.853666), Class: 0.996138, Obj: 0.923210, No Obj: 0.030987, .5R: 1.000000, .75R: 0.928571, count: 126, class_loss = 1.731462, iou_loss = 55.166248, total_loss = 56.897709 \n",
            "v3 (iou loss, Normalizer: (iou: 0.07, cls: 1.00) Region 161 Avg (IOU: 0.696210, GIOU: 0.682778), Class: 0.994385, Obj: 0.856394, No Obj: 0.009303, .5R: 0.857143, .75R: 0.285714, count: 14, class_loss = 0.208535, iou_loss = 0.689353, total_loss = 0.897888 \n",
            " total_bbox = 4540143, rewritten_bbox = 0.005308 % \n",
            "v3 (iou loss, Normalizer: (iou: 0.07, cls: 1.00) Region 139 Avg (IOU: 0.876918, GIOU: 0.874460), Class: 0.994953, Obj: 0.955055, No Obj: 0.005088, .5R: 1.000000, .75R: 1.000000, count: 45, class_loss = 0.671584, iou_loss = 55.914738, total_loss = 56.586323 \n",
            "v3 (iou loss, Normalizer: (iou: 0.07, cls: 1.00) Region 150 Avg (IOU: 0.873600, GIOU: 0.871095), Class: 0.995904, Obj: 0.946164, No Obj: 0.022998, .5R: 1.000000, .75R: 0.974359, count: 78, class_loss = 0.583777, iou_loss = 29.964748, total_loss = 30.548525 \n",
            "v3 (iou loss, Normalizer: (iou: 0.07, cls: 1.00) Region 161 Avg (IOU: 0.684159, GIOU: 0.666439), Class: 0.992827, Obj: 0.853551, No Obj: 0.007163, .5R: 0.916667, .75R: 0.250000, count: 12, class_loss = 0.149020, iou_loss = 0.395347, total_loss = 0.544367 \n",
            " total_bbox = 4540278, rewritten_bbox = 0.005308 % \n",
            "v3 (iou loss, Normalizer: (iou: 0.07, cls: 1.00) Region 139 Avg (IOU: 0.871933, GIOU: 0.869808), Class: 0.994944, Obj: 0.980658, No Obj: 0.003790, .5R: 1.000000, .75R: 1.000000, count: 39, class_loss = 0.037452, iou_loss = 51.131931, total_loss = 51.169384 \n",
            "v3 (iou loss, Normalizer: (iou: 0.07, cls: 1.00) Region 150 Avg (IOU: 0.837594, GIOU: 0.832944), Class: 0.997678, Obj: 0.989122, No Obj: 0.019543, .5R: 1.000000, .75R: 0.898734, count: 79, class_loss = 0.528875, iou_loss = 21.310022, total_loss = 21.838898 \n",
            "v3 (iou loss, Normalizer: (iou: 0.07, cls: 1.00) Region 161 Avg (IOU: 0.658580, GIOU: 0.628322), Class: 0.997078, Obj: 0.737352, No Obj: 0.012898, .5R: 0.850000, .75R: 0.150000, count: 20, class_loss = 1.159409, iou_loss = 0.602547, total_loss = 1.761956 \n",
            " total_bbox = 4540416, rewritten_bbox = 0.005308 % \n",
            "v3 (iou loss, Normalizer: (iou: 0.07, cls: 1.00) Region 139 Avg (IOU: 0.864369, GIOU: 0.861692), Class: 0.995936, Obj: 0.989449, No Obj: 0.003998, .5R: 1.000000, .75R: 0.953488, count: 43, class_loss = 0.467945, iou_loss = 55.564926, total_loss = 56.032871 \n",
            "v3 (iou loss, Normalizer: (iou: 0.07, cls: 1.00) Region 150 Avg (IOU: 0.872035, GIOU: 0.870085), Class: 0.996279, Obj: 0.987133, No Obj: 0.017684, .5R: 1.000000, .75R: 0.985507, count: 69, class_loss = 0.487970, iou_loss = 27.523060, total_loss = 28.011030 \n",
            "v3 (iou loss, Normalizer: (iou: 0.07, cls: 1.00) Region 161 Avg (IOU: 0.721897, GIOU: 0.698845), Class: 0.992912, Obj: 0.663117, No Obj: 0.006542, .5R: 0.928571, .75R: 0.500000, count: 14, class_loss = 0.957600, iou_loss = 0.524234, total_loss = 1.481834 \n",
            " total_bbox = 4540542, rewritten_bbox = 0.005308 % \n",
            "v3 (iou loss, Normalizer: (iou: 0.07, cls: 1.00) Region 139 Avg (IOU: 0.878643, GIOU: 0.876590), Class: 0.994366, Obj: 0.968646, No Obj: 0.005141, .5R: 1.000000, .75R: 0.982456, count: 57, class_loss = 0.272566, iou_loss = 78.384010, total_loss = 78.656578 \n",
            "v3 (iou loss, Normalizer: (iou: 0.07, cls: 1.00) Region 150 Avg (IOU: 0.850708, GIOU: 0.845872), Class: 0.994368, Obj: 0.915233, No Obj: 0.017640, .5R: 1.000000, .75R: 0.941176, count: 68, class_loss = 1.157491, iou_loss = 23.847206, total_loss = 25.004698 \n",
            "v3 (iou loss, Normalizer: (iou: 0.07, cls: 1.00) Region 161 Avg (IOU: 0.683057, GIOU: 0.658233), Class: 0.989275, Obj: 0.696611, No Obj: 0.006105, .5R: 1.000000, .75R: 0.100000, count: 10, class_loss = 0.556543, iou_loss = 0.377177, total_loss = 0.933720 \n",
            " total_bbox = 4540677, rewritten_bbox = 0.005308 % \n",
            "v3 (iou loss, Normalizer: (iou: 0.07, cls: 1.00) Region 139 Avg (IOU: 0.860737, GIOU: 0.857201), Class: 0.995059, Obj: 0.976024, No Obj: 0.004718, .5R: 1.000000, .75R: 0.944444, count: 54, class_loss = 0.186217, iou_loss = 74.565727, total_loss = 74.751945 \n",
            "v3 (iou loss, Normalizer: (iou: 0.07, cls: 1.00) Region 150 Avg (IOU: 0.873916, GIOU: 0.871209), Class: 0.995376, Obj: 0.980354, No Obj: 0.017417, .5R: 1.000000, .75R: 0.958904, count: 73, class_loss = 0.069011, iou_loss = 28.070810, total_loss = 28.139820 \n",
            "v3 (iou loss, Normalizer: (iou: 0.07, cls: 1.00) Region 161 Avg (IOU: 0.711097, GIOU: 0.694898), Class: 0.987877, Obj: 0.744156, No Obj: 0.005348, .5R: 1.000000, .75R: 0.400000, count: 10, class_loss = 0.376810, iou_loss = 0.462414, total_loss = 0.839224 \n",
            " total_bbox = 4540814, rewritten_bbox = 0.005307 % \n",
            "\n",
            " (next mAP calculation at 1500 iterations) \n",
            " Last accuracy mAP@0.5 = 99.99 %, best = 99.99 % \n",
            " 1410: 0.891242, 1.177269 avg loss, 0.001000 rate, 4.075812 seconds, 90240 images, 8.628915 hours left\n",
            "Resizing, random_coef = 1.40 \n",
            "\n",
            " 352 x 352 \n",
            " try to allocate additional workspace_size = 52.43 MB \n",
            " CUDA allocate done! \n",
            "Loaded: 3.034788 seconds - performance bottleneck on CPU or Disk HDD/SSD\n",
            "v3 (iou loss, Normalizer: (iou: 0.07, cls: 1.00) Region 139 Avg (IOU: 0.845279, GIOU: 0.840038), Class: 0.989595, Obj: 0.904174, No Obj: 0.010791, .5R: 0.975806, .75R: 0.919355, count: 124, class_loss = 2.264205, iou_loss = 191.235107, total_loss = 193.499313 \n",
            "v3 (iou loss, Normalizer: (iou: 0.07, cls: 1.00) Region 150 Avg (IOU: 0.840973, GIOU: 0.837217), Class: 0.995938, Obj: 0.944196, No Obj: 0.034708, .5R: 0.992908, .75R: 0.886525, count: 141, class_loss = 1.266182, iou_loss = 45.683033, total_loss = 46.949215 \n",
            "v3 (iou loss, Normalizer: (iou: 0.07, cls: 1.00) Region 161 Avg (IOU: 0.688963, GIOU: 0.652786), Class: 0.985981, Obj: 0.663640, No Obj: 0.007818, .5R: 0.857143, .75R: 0.428571, count: 14, class_loss = 0.717957, iou_loss = 1.137695, total_loss = 1.855652 \n",
            " total_bbox = 4541093, rewritten_bbox = 0.005307 % \n",
            "v3 (iou loss, Normalizer: (iou: 0.07, cls: 1.00) Region 139 Avg (IOU: 0.834551, GIOU: 0.827423), Class: 0.973305, Obj: 0.914177, No Obj: 0.010052, .5R: 0.983051, .75R: 0.881356, count: 118, class_loss = 3.656738, iou_loss = 170.763489, total_loss = 174.420227 \n",
            "v3 (iou loss, Normalizer: (iou: 0.07, cls: 1.00) Region 150 Avg (IOU: 0.838188, GIOU: 0.834882), Class: 0.986419, Obj: 0.956851, No Obj: 0.028434, .5R: 1.000000, .75R: 0.890756, count: 119, class_loss = 2.117032, iou_loss = 41.300632, total_loss = 43.417664 \n",
            "v3 (iou loss, Normalizer: (iou: 0.07, cls: 1.00) Region 161 Avg (IOU: 0.680008, GIOU: 0.671943), Class: 0.994782, Obj: 0.876053, No Obj: 0.007773, .5R: 0.833333, .75R: 0.250000, count: 12, class_loss = 0.123171, iou_loss = 0.530904, total_loss = 0.654075 \n",
            " total_bbox = 4541342, rewritten_bbox = 0.005307 % \n",
            "v3 (iou loss, Normalizer: (iou: 0.07, cls: 1.00) Region 139 Avg (IOU: 0.835683, GIOU: 0.832087), Class: 0.990401, Obj: 0.879176, No Obj: 0.009872, .5R: 0.991228, .75R: 0.807018, count: 114, class_loss = 3.854204, iou_loss = 192.155121, total_loss = 196.009323 \n",
            "v3 (iou loss, Normalizer: (iou: 0.07, cls: 1.00) Region 150 Avg (IOU: 0.821458, GIOU: 0.817885), Class: 0.994859, Obj: 0.939350, No Obj: 0.033639, .5R: 1.000000, .75R: 0.821705, count: 129, class_loss = 2.696003, iou_loss = 37.913635, total_loss = 40.609638 \n",
            "v3 (iou loss, Normalizer: (iou: 0.07, cls: 1.00) Region 161 Avg (IOU: 0.769454, GIOU: 0.756087), Class: 0.994315, Obj: 0.855647, No Obj: 0.008722, .5R: 1.000000, .75R: 0.545455, count: 11, class_loss = 0.195807, iou_loss = 0.482703, total_loss = 0.678510 \n",
            " total_bbox = 4541596, rewritten_bbox = 0.005307 % \n",
            "v3 (iou loss, Normalizer: (iou: 0.07, cls: 1.00) Region 139 Avg (IOU: 0.821458, GIOU: 0.813489), Class: 0.951585, Obj: 0.834924, No Obj: 0.009691, .5R: 0.960938, .75R: 0.867188, count: 128, class_loss = 7.394167, iou_loss = 175.184052, total_loss = 182.578217 \n",
            "v3 (iou loss, Normalizer: (iou: 0.07, cls: 1.00) Region 150 Avg (IOU: 0.827777, GIOU: 0.824000), Class: 0.980663, Obj: 0.914440, No Obj: 0.034435, .5R: 0.992701, .75R: 0.854015, count: 137, class_loss = 4.464405, iou_loss = 39.292973, total_loss = 43.757378 \n",
            "v3 (iou loss, Normalizer: (iou: 0.07, cls: 1.00) Region 161 Avg (IOU: 0.746544, GIOU: 0.730285), Class: 0.994608, Obj: 0.749181, No Obj: 0.010516, .5R: 0.937500, .75R: 0.687500, count: 16, class_loss = 0.804328, iou_loss = 1.171054, total_loss = 1.975383 \n",
            " total_bbox = 4541877, rewritten_bbox = 0.005306 % \n",
            "v3 (iou loss, Normalizer: (iou: 0.07, cls: 1.00) Region 139 Avg (IOU: 0.845746, GIOU: 0.838641), Class: 0.974220, Obj: 0.927676, No Obj: 0.008952, .5R: 0.989583, .75R: 0.875000, count: 96, class_loss = 2.553894, iou_loss = 127.403397, total_loss = 129.957291 \n",
            "v3 (iou loss, Normalizer: (iou: 0.07, cls: 1.00) Region 150 Avg (IOU: 0.844031, GIOU: 0.839420), Class: 0.997737, Obj: 0.964840, No Obj: 0.033819, .5R: 0.992537, .75R: 0.917910, count: 134, class_loss = 0.755459, iou_loss = 41.250156, total_loss = 42.005615 \n",
            "v3 (iou loss, Normalizer: (iou: 0.07, cls: 1.00) Region 161 Avg (IOU: 0.735495, GIOU: 0.721364), Class: 0.996653, Obj: 0.819630, No Obj: 0.012967, .5R: 0.950000, .75R: 0.600000, count: 20, class_loss = 0.530527, iou_loss = 0.882997, total_loss = 1.413524 \n",
            " total_bbox = 4542127, rewritten_bbox = 0.005306 % \n",
            "v3 (iou loss, Normalizer: (iou: 0.07, cls: 1.00) Region 139 Avg (IOU: 0.831672, GIOU: 0.825511), Class: 0.988745, Obj: 0.908993, No Obj: 0.007534, .5R: 0.978022, .75R: 0.846154, count: 91, class_loss = 2.262013, iou_loss = 135.188416, total_loss = 137.450424 \n",
            "v3 (iou loss, Normalizer: (iou: 0.07, cls: 1.00) Region 150 Avg (IOU: 0.835553, GIOU: 0.832666), Class: 0.995797, Obj: 0.962127, No Obj: 0.026014, .5R: 0.990000, .75R: 0.920000, count: 100, class_loss = 1.565053, iou_loss = 34.765541, total_loss = 36.330593 \n",
            "v3 (iou loss, Normalizer: (iou: 0.07, cls: 1.00) Region 161 Avg (IOU: 0.656790, GIOU: 0.631151), Class: 0.993946, Obj: 0.738530, No Obj: 0.010777, .5R: 0.764706, .75R: 0.352941, count: 17, class_loss = 0.796627, iou_loss = 1.327946, total_loss = 2.124573 \n",
            " total_bbox = 4542335, rewritten_bbox = 0.005306 % \n",
            "v3 (iou loss, Normalizer: (iou: 0.07, cls: 1.00) Region 139 Avg (IOU: 0.873136, GIOU: 0.870161), Class: 0.995494, Obj: 0.993821, No Obj: 0.003467, .5R: 1.000000, .75R: 0.971429, count: 35, class_loss = 0.025010, iou_loss = 39.880375, total_loss = 39.905384 \n",
            "v3 (iou loss, Normalizer: (iou: 0.07, cls: 1.00) Region 150 Avg (IOU: 0.845969, GIOU: 0.843521), Class: 0.996526, Obj: 0.989275, No Obj: 0.021478, .5R: 1.000000, .75R: 0.948052, count: 77, class_loss = 0.859755, iou_loss = 21.842356, total_loss = 22.702110 \n",
            "v3 (iou loss, Normalizer: (iou: 0.07, cls: 1.00) Region 161 Avg (IOU: 0.700176, GIOU: 0.677935), Class: 0.996292, Obj: 0.816014, No Obj: 0.011783, .5R: 0.888889, .75R: 0.444444, count: 18, class_loss = 0.483473, iou_loss = 0.651150, total_loss = 1.134624 \n",
            " total_bbox = 4542465, rewritten_bbox = 0.005305 % \n",
            "v3 (iou loss, Normalizer: (iou: 0.07, cls: 1.00) Region 139 Avg (IOU: 0.854861, GIOU: 0.852172), Class: 0.993351, Obj: 0.985920, No Obj: 0.004888, .5R: 1.000000, .75R: 0.981481, count: 54, class_loss = 0.253946, iou_loss = 77.603317, total_loss = 77.857262 \n",
            "v3 (iou loss, Normalizer: (iou: 0.07, cls: 1.00) Region 150 Avg (IOU: 0.837142, GIOU: 0.834723), Class: 0.994463, Obj: 0.961191, No Obj: 0.017515, .5R: 1.000000, .75R: 0.867647, count: 68, class_loss = 0.231817, iou_loss = 21.258438, total_loss = 21.490255 \n",
            "v3 (iou loss, Normalizer: (iou: 0.07, cls: 1.00) Region 161 Avg (IOU: 0.717166, GIOU: 0.697155), Class: 0.991604, Obj: 0.915556, No Obj: 0.005843, .5R: 1.000000, .75R: 0.333333, count: 9, class_loss = 0.052312, iou_loss = 0.290678, total_loss = 0.342989 \n",
            " total_bbox = 4542596, rewritten_bbox = 0.005305 % \n",
            "v3 (iou loss, Normalizer: (iou: 0.07, cls: 1.00) Region 139 Avg (IOU: 0.823583, GIOU: 0.817416), Class: 0.996276, Obj: 0.927123, No Obj: 0.002862, .5R: 1.000000, .75R: 0.875000, count: 32, class_loss = 0.507745, iou_loss = 32.124149, total_loss = 32.631893 \n",
            "v3 (iou loss, Normalizer: (iou: 0.07, cls: 1.00) Region 150 Avg (IOU: 0.818854, GIOU: 0.811979), Class: 0.998509, Obj: 0.969156, No Obj: 0.021714, .5R: 1.000000, .75R: 0.773333, count: 75, class_loss = 2.014058, iou_loss = 18.206465, total_loss = 20.220524 \n",
            "v3 (iou loss, Normalizer: (iou: 0.07, cls: 1.00) Region 161 Avg (IOU: 0.662450, GIOU: 0.637434), Class: 0.997015, Obj: 0.820287, No Obj: 0.012823, .5R: 0.833333, .75R: 0.333333, count: 18, class_loss = 0.767776, iou_loss = 1.147017, total_loss = 1.914792 \n",
            " total_bbox = 4542721, rewritten_bbox = 0.005305 % \n",
            "v3 (iou loss, Normalizer: (iou: 0.07, cls: 1.00) Region 139 Avg (IOU: 0.874283, GIOU: 0.872035), Class: 0.995145, Obj: 0.977004, No Obj: 0.004388, .5R: 1.000000, .75R: 1.000000, count: 49, class_loss = 0.075468, iou_loss = 68.878838, total_loss = 68.954308 \n",
            "v3 (iou loss, Normalizer: (iou: 0.07, cls: 1.00) Region 150 Avg (IOU: 0.843399, GIOU: 0.840938), Class: 0.997360, Obj: 0.988872, No Obj: 0.016674, .5R: 1.000000, .75R: 0.955882, count: 68, class_loss = 0.344837, iou_loss = 21.199543, total_loss = 21.544380 \n",
            "v3 (iou loss, Normalizer: (iou: 0.07, cls: 1.00) Region 161 Avg (IOU: 0.750337, GIOU: 0.729112), Class: 0.996563, Obj: 0.796588, No Obj: 0.006812, .5R: 0.900000, .75R: 0.700000, count: 10, class_loss = 0.357336, iou_loss = 1.260930, total_loss = 1.618266 \n",
            " total_bbox = 4542848, rewritten_bbox = 0.005305 % \n",
            "v3 (iou loss, Normalizer: (iou: 0.07, cls: 1.00) Region 139 Avg (IOU: 0.864461, GIOU: 0.861515), Class: 0.994972, Obj: 0.978597, No Obj: 0.004263, .5R: 1.000000, .75R: 0.934783, count: 46, class_loss = 0.073917, iou_loss = 61.491734, total_loss = 61.565651 \n",
            "v3 (iou loss, Normalizer: (iou: 0.07, cls: 1.00) Region 150 Avg (IOU: 0.844933, GIOU: 0.842354), Class: 0.997058, Obj: 0.969516, No Obj: 0.019606, .5R: 1.000000, .75R: 0.891892, count: 74, class_loss = 0.205090, iou_loss = 22.751263, total_loss = 22.956352 \n",
            "v3 (iou loss, Normalizer: (iou: 0.07, cls: 1.00) Region 161 Avg (IOU: 0.734507, GIOU: 0.720937), Class: 0.991530, Obj: 0.689251, No Obj: 0.008057, .5R: 0.928571, .75R: 0.500000, count: 14, class_loss = 0.717946, iou_loss = 1.180310, total_loss = 1.898256 \n",
            " total_bbox = 4542982, rewritten_bbox = 0.005305 % \n",
            "v3 (iou loss, Normalizer: (iou: 0.07, cls: 1.00) Region 139 Avg (IOU: 0.865817, GIOU: 0.863246), Class: 0.991890, Obj: 0.965488, No Obj: 0.004324, .5R: 1.000000, .75R: 0.965517, count: 58, class_loss = 0.472535, iou_loss = 94.582062, total_loss = 95.054596 \n",
            "v3 (iou loss, Normalizer: (iou: 0.07, cls: 1.00) Region 150 Avg (IOU: 0.854839, GIOU: 0.853186), Class: 0.996437, Obj: 0.989247, No Obj: 0.014940, .5R: 1.000000, .75R: 0.928571, count: 70, class_loss = 0.078432, iou_loss = 24.231756, total_loss = 24.310188 \n",
            "v3 (iou loss, Normalizer: (iou: 0.07, cls: 1.00) Region 161 Avg (IOU: 0.764428, GIOU: 0.744510), Class: 0.994389, Obj: 0.825239, No Obj: 0.004926, .5R: 1.000000, .75R: 0.625000, count: 8, class_loss = 0.176824, iou_loss = 0.472501, total_loss = 0.649325 \n",
            " total_bbox = 4543118, rewritten_bbox = 0.005305 % \n",
            "v3 (iou loss, Normalizer: (iou: 0.07, cls: 1.00) Region 139 Avg (IOU: 0.882056, GIOU: 0.880103), Class: 0.994487, Obj: 0.992974, No Obj: 0.004978, .5R: 1.000000, .75R: 0.982143, count: 56, class_loss = 0.026484, iou_loss = 74.551277, total_loss = 74.577759 \n",
            "v3 (iou loss, Normalizer: (iou: 0.07, cls: 1.00) Region 150 Avg (IOU: 0.855876, GIOU: 0.853276), Class: 0.996157, Obj: 0.993227, No Obj: 0.017460, .5R: 1.000000, .75R: 0.972222, count: 72, class_loss = 0.005728, iou_loss = 22.639715, total_loss = 22.645443 \n",
            "v3 (iou loss, Normalizer: (iou: 0.07, cls: 1.00) Region 161 Avg (IOU: 0.719092, GIOU: 0.698544), Class: 0.993247, Obj: 0.832880, No Obj: 0.006108, .5R: 1.000000, .75R: 0.500000, count: 8, class_loss = 0.312694, iou_loss = 0.305565, total_loss = 0.618260 \n",
            " total_bbox = 4543254, rewritten_bbox = 0.005305 % \n",
            "v3 (iou loss, Normalizer: (iou: 0.07, cls: 1.00) Region 139 Avg (IOU: 0.836659, GIOU: 0.832081), Class: 0.986655, Obj: 0.902715, No Obj: 0.006124, .5R: 0.986842, .75R: 0.868421, count: 76, class_loss = 1.663446, iou_loss = 108.176903, total_loss = 109.840347 \n",
            "v3 (iou loss, Normalizer: (iou: 0.07, cls: 1.00) Region 150 Avg (IOU: 0.844962, GIOU: 0.841621), Class: 0.996581, Obj: 0.962982, No Obj: 0.026325, .5R: 1.000000, .75R: 0.910000, count: 100, class_loss = 0.897549, iou_loss = 32.489712, total_loss = 33.387260 \n",
            "v3 (iou loss, Normalizer: (iou: 0.07, cls: 1.00) Region 161 Avg (IOU: 0.696442, GIOU: 0.677547), Class: 0.991590, Obj: 0.687074, No Obj: 0.009245, .5R: 0.875000, .75R: 0.375000, count: 16, class_loss = 1.137903, iou_loss = 1.530097, total_loss = 2.667999 \n",
            " total_bbox = 4543446, rewritten_bbox = 0.005304 % \n",
            "v3 (iou loss, Normalizer: (iou: 0.07, cls: 1.00) Region 139 Avg (IOU: 0.826374, GIOU: 0.820295), Class: 0.968965, Obj: 0.863926, No Obj: 0.008137, .5R: 0.970000, .75R: 0.820000, count: 100, class_loss = 3.866594, iou_loss = 151.207214, total_loss = 155.073807 \n",
            "v3 (iou loss, Normalizer: (iou: 0.07, cls: 1.00) Region 150 Avg (IOU: 0.851054, GIOU: 0.848280), Class: 0.994067, Obj: 0.982197, No Obj: 0.028980, .5R: 1.000000, .75R: 0.933962, count: 106, class_loss = 0.456937, iou_loss = 37.743526, total_loss = 38.200462 \n",
            "v3 (iou loss, Normalizer: (iou: 0.07, cls: 1.00) Region 161 Avg (IOU: 0.694961, GIOU: 0.664421), Class: 0.996129, Obj: 0.613782, No Obj: 0.010093, .5R: 0.933333, .75R: 0.266667, count: 15, class_loss = 1.149521, iou_loss = 0.999800, total_loss = 2.149321 \n",
            " total_bbox = 4543667, rewritten_bbox = 0.005304 % \n",
            "v3 (iou loss, Normalizer: (iou: 0.07, cls: 1.00) Region 139 Avg (IOU: 0.833825, GIOU: 0.826592), Class: 0.987940, Obj: 0.894102, No Obj: 0.012081, .5R: 0.977099, .75R: 0.870229, count: 131, class_loss = 4.781314, iou_loss = 187.764587, total_loss = 192.545898 \n",
            "v3 (iou loss, Normalizer: (iou: 0.07, cls: 1.00) Region 150 Avg (IOU: 0.844148, GIOU: 0.840889), Class: 0.996775, Obj: 0.950466, No Obj: 0.039075, .5R: 0.993378, .75R: 0.907285, count: 151, class_loss = 1.140471, iou_loss = 48.805191, total_loss = 49.945663 \n",
            "v3 (iou loss, Normalizer: (iou: 0.07, cls: 1.00) Region 161 Avg (IOU: 0.688887, GIOU: 0.662814), Class: 0.994282, Obj: 0.716826, No Obj: 0.010551, .5R: 0.882353, .75R: 0.411765, count: 17, class_loss = 0.976541, iou_loss = 1.052244, total_loss = 2.028785 \n",
            " total_bbox = 4543966, rewritten_bbox = 0.005304 % \n",
            "\n",
            " (next mAP calculation at 1500 iterations) \n",
            " Last accuracy mAP@0.5 = 99.99 %, best = 99.99 % \n",
            " 1411: 1.297899, 1.189332 avg loss, 0.001000 rate, 4.120547 seconds, 90304 images, 8.594593 hours left\n",
            "Loaded: 0.935399 seconds - performance bottleneck on CPU or Disk HDD/SSD\n",
            "v3 (iou loss, Normalizer: (iou: 0.07, cls: 1.00) Region 139 Avg (IOU: 0.914967, GIOU: 0.913285), Class: 0.994226, Obj: 0.994203, No Obj: 0.004251, .5R: 1.000000, .75R: 1.000000, count: 46, class_loss = 0.083982, iou_loss = 64.450409, total_loss = 64.534393 \n",
            "v3 (iou loss, Normalizer: (iou: 0.07, cls: 1.00) Region 150 Avg (IOU: 0.853756, GIOU: 0.852564), Class: 0.996742, Obj: 0.983423, No Obj: 0.018847, .5R: 1.000000, .75R: 0.897436, count: 78, class_loss = 0.139781, iou_loss = 23.914810, total_loss = 24.054592 \n",
            "v3 (iou loss, Normalizer: (iou: 0.07, cls: 1.00) Region 161 Avg (IOU: 0.812157, GIOU: 0.810191), Class: 0.994972, Obj: 0.878950, No Obj: 0.006711, .5R: 1.000000, .75R: 0.800000, count: 10, class_loss = 0.122828, iou_loss = 0.682202, total_loss = 0.805030 \n",
            " total_bbox = 4544100, rewritten_bbox = 0.005304 % \n",
            "v3 (iou loss, Normalizer: (iou: 0.07, cls: 1.00) Region 139 Avg (IOU: 0.869654, GIOU: 0.865377), Class: 0.993688, Obj: 0.955934, No Obj: 0.003940, .5R: 1.000000, .75R: 0.948718, count: 39, class_loss = 1.033993, iou_loss = 44.654469, total_loss = 45.688461 \n",
            "v3 (iou loss, Normalizer: (iou: 0.07, cls: 1.00) Region 150 Avg (IOU: 0.852863, GIOU: 0.851554), Class: 0.997346, Obj: 0.987021, No Obj: 0.018308, .5R: 1.000000, .75R: 0.900000, count: 80, class_loss = 0.030933, iou_loss = 21.697599, total_loss = 21.728533 \n",
            "v3 (iou loss, Normalizer: (iou: 0.07, cls: 1.00) Region 161 Avg (IOU: 0.789501, GIOU: 0.775247), Class: 0.994464, Obj: 0.772781, No Obj: 0.010230, .5R: 0.875000, .75R: 0.812500, count: 16, class_loss = 0.553353, iou_loss = 1.604384, total_loss = 2.157737 \n",
            " total_bbox = 4544235, rewritten_bbox = 0.005303 % \n",
            "v3 (iou loss, Normalizer: (iou: 0.07, cls: 1.00) Region 139 Avg (IOU: 0.887660, GIOU: 0.883845), Class: 0.993907, Obj: 0.967247, No Obj: 0.005144, .5R: 1.000000, .75R: 0.966667, count: 60, class_loss = 0.293804, iou_loss = 77.877197, total_loss = 78.170998 \n",
            "v3 (iou loss, Normalizer: (iou: 0.07, cls: 1.00) Region 150 Avg (IOU: 0.850606, GIOU: 0.848772), Class: 0.995811, Obj: 0.989315, No Obj: 0.021275, .5R: 1.000000, .75R: 0.896552, count: 87, class_loss = 0.055114, iou_loss = 27.733276, total_loss = 27.788391 \n",
            "v3 (iou loss, Normalizer: (iou: 0.07, cls: 1.00) Region 161 Avg (IOU: 0.780540, GIOU: 0.776538), Class: 0.995852, Obj: 0.886500, No Obj: 0.009201, .5R: 0.923077, .75R: 0.615385, count: 13, class_loss = 0.140279, iou_loss = 0.998166, total_loss = 1.138445 \n",
            " total_bbox = 4544395, rewritten_bbox = 0.005303 % \n",
            "v3 (iou loss, Normalizer: (iou: 0.07, cls: 1.00) Region 139 Avg (IOU: 0.869011, GIOU: 0.865820), Class: 0.991584, Obj: 0.938617, No Obj: 0.009788, .5R: 0.990099, .75R: 0.960396, count: 101, class_loss = 1.125898, iou_loss = 138.038315, total_loss = 139.164215 \n",
            "v3 (iou loss, Normalizer: (iou: 0.07, cls: 1.00) Region 150 Avg (IOU: 0.836766, GIOU: 0.834680), Class: 0.997596, Obj: 0.945620, No Obj: 0.038579, .5R: 1.000000, .75R: 0.847222, count: 144, class_loss = 1.119588, iou_loss = 47.854603, total_loss = 48.974190 \n",
            "v3 (iou loss, Normalizer: (iou: 0.07, cls: 1.00) Region 161 Avg (IOU: 0.770914, GIOU: 0.765162), Class: 0.994236, Obj: 0.723411, No Obj: 0.012272, .5R: 1.000000, .75R: 0.571429, count: 21, class_loss = 0.916679, iou_loss = 2.251028, total_loss = 3.167707 \n",
            " total_bbox = 4544661, rewritten_bbox = 0.005303 % \n",
            "v3 (iou loss, Normalizer: (iou: 0.07, cls: 1.00) Region 139 Avg (IOU: 0.843008, GIOU: 0.837371), Class: 0.991697, Obj: 0.912791, No Obj: 0.010988, .5R: 0.969466, .75R: 0.900763, count: 131, class_loss = 2.184639, iou_loss = 192.723816, total_loss = 194.908447 \n",
            "v3 (iou loss, Normalizer: (iou: 0.07, cls: 1.00) Region 150 Avg (IOU: 0.826532, GIOU: 0.823280), Class: 0.997901, Obj: 0.960066, No Obj: 0.034973, .5R: 1.000000, .75R: 0.804196, count: 143, class_loss = 0.815050, iou_loss = 43.059158, total_loss = 43.874210 \n",
            "v3 (iou loss, Normalizer: (iou: 0.07, cls: 1.00) Region 161 Avg (IOU: 0.748801, GIOU: 0.745079), Class: 0.994193, Obj: 0.748814, No Obj: 0.012333, .5R: 1.000000, .75R: 0.421053, count: 19, class_loss = 0.931503, iou_loss = 1.127460, total_loss = 2.058963 \n",
            " total_bbox = 4544954, rewritten_bbox = 0.005303 % \n",
            "v3 (iou loss, Normalizer: (iou: 0.07, cls: 1.00) Region 139 Avg (IOU: 0.864445, GIOU: 0.860553), Class: 0.990597, Obj: 0.906990, No Obj: 0.009624, .5R: 1.000000, .75R: 0.933962, count: 106, class_loss = 2.210582, iou_loss = 171.384247, total_loss = 173.594833 \n",
            "v3 (iou loss, Normalizer: (iou: 0.07, cls: 1.00) Region 150 Avg (IOU: 0.837629, GIOU: 0.834428), Class: 0.993720, Obj: 0.965778, No Obj: 0.034719, .5R: 1.000000, .75R: 0.862903, count: 124, class_loss = 2.043690, iou_loss = 37.719086, total_loss = 39.762775 \n",
            "v3 (iou loss, Normalizer: (iou: 0.07, cls: 1.00) Region 161 Avg (IOU: 0.738250, GIOU: 0.722181), Class: 0.994569, Obj: 0.796560, No Obj: 0.012487, .5R: 0.947368, .75R: 0.631579, count: 19, class_loss = 0.752724, iou_loss = 1.709985, total_loss = 2.462709 \n",
            " total_bbox = 4545203, rewritten_bbox = 0.005302 % \n",
            "v3 (iou loss, Normalizer: (iou: 0.07, cls: 1.00) Region 139 Avg (IOU: 0.866639, GIOU: 0.862772), Class: 0.986316, Obj: 0.906708, No Obj: 0.008920, .5R: 0.990991, .75R: 0.873874, count: 111, class_loss = 2.737677, iou_loss = 179.062927, total_loss = 181.800598 \n",
            "v3 (iou loss, Normalizer: (iou: 0.07, cls: 1.00) Region 150 Avg (IOU: 0.834785, GIOU: 0.831225), Class: 0.996923, Obj: 0.951815, No Obj: 0.028233, .5R: 1.000000, .75R: 0.858491, count: 106, class_loss = 0.964786, iou_loss = 35.640614, total_loss = 36.605400 \n",
            "v3 (iou loss, Normalizer: (iou: 0.07, cls: 1.00) Region 161 Avg (IOU: 0.727718, GIOU: 0.726537), Class: 0.991353, Obj: 0.658747, No Obj: 0.007238, .5R: 1.000000, .75R: 0.400000, count: 10, class_loss = 0.724397, iou_loss = 0.653130, total_loss = 1.377527 \n",
            " total_bbox = 4545430, rewritten_bbox = 0.005302 % \n",
            "v3 (iou loss, Normalizer: (iou: 0.07, cls: 1.00) Region 139 Avg (IOU: 0.853402, GIOU: 0.849407), Class: 0.973433, Obj: 0.915117, No Obj: 0.010286, .5R: 1.000000, .75R: 0.916667, count: 120, class_loss = 4.800982, iou_loss = 183.031479, total_loss = 187.832458 \n",
            "v3 (iou loss, Normalizer: (iou: 0.07, cls: 1.00) Region 150 Avg (IOU: 0.828532, GIOU: 0.825199), Class: 0.970676, Obj: 0.943000, No Obj: 0.031254, .5R: 0.992000, .75R: 0.824000, count: 125, class_loss = 3.033692, iou_loss = 36.529789, total_loss = 39.563480 \n",
            "v3 (iou loss, Normalizer: (iou: 0.07, cls: 1.00) Region 161 Avg (IOU: 0.790499, GIOU: 0.787947), Class: 0.994105, Obj: 0.750826, No Obj: 0.008095, .5R: 0.900000, .75R: 0.800000, count: 10, class_loss = 0.453179, iou_loss = 1.196173, total_loss = 1.649352 \n",
            " total_bbox = 4545685, rewritten_bbox = 0.005302 % \n",
            "v3 (iou loss, Normalizer: (iou: 0.07, cls: 1.00) Region 139 Avg (IOU: 0.839368, GIOU: 0.830175), Class: 0.989142, Obj: 0.882739, No Obj: 0.011278, .5R: 0.974576, .75R: 0.872881, count: 118, class_loss = 4.008660, iou_loss = 170.624481, total_loss = 174.633148 \n",
            "v3 (iou loss, Normalizer: (iou: 0.07, cls: 1.00) Region 150 Avg (IOU: 0.832905, GIOU: 0.829715), Class: 0.997844, Obj: 0.930800, No Obj: 0.041157, .5R: 1.000000, .75R: 0.832168, count: 143, class_loss = 3.182215, iou_loss = 44.368881, total_loss = 47.551098 \n",
            "v3 (iou loss, Normalizer: (iou: 0.07, cls: 1.00) Region 161 Avg (IOU: 0.717799, GIOU: 0.717187), Class: 0.993492, Obj: 0.757481, No Obj: 0.011488, .5R: 1.000000, .75R: 0.533333, count: 15, class_loss = 0.697027, iou_loss = 0.768771, total_loss = 1.465798 \n",
            " total_bbox = 4545961, rewritten_bbox = 0.005301 % \n",
            "v3 (iou loss, Normalizer: (iou: 0.07, cls: 1.00) Region 139 Avg (IOU: 0.825221, GIOU: 0.816602), Class: 0.987558, Obj: 0.884747, No Obj: 0.008401, .5R: 0.981651, .75R: 0.816514, count: 109, class_loss = 3.457971, iou_loss = 170.887726, total_loss = 174.345703 \n",
            "v3 (iou loss, Normalizer: (iou: 0.07, cls: 1.00) Region 150 Avg (IOU: 0.830489, GIOU: 0.827528), Class: 0.994393, Obj: 0.940350, No Obj: 0.027492, .5R: 1.000000, .75R: 0.831858, count: 113, class_loss = 1.380381, iou_loss = 35.645576, total_loss = 37.025959 \n",
            "v3 (iou loss, Normalizer: (iou: 0.07, cls: 1.00) Region 161 Avg (IOU: 0.725587, GIOU: 0.710943), Class: 0.993401, Obj: 0.797424, No Obj: 0.009739, .5R: 0.857143, .75R: 0.642857, count: 14, class_loss = 0.426691, iou_loss = 0.805644, total_loss = 1.232335 \n",
            " total_bbox = 4546197, rewritten_bbox = 0.005301 % \n",
            "v3 (iou loss, Normalizer: (iou: 0.07, cls: 1.00) Region 139 Avg (IOU: 0.848804, GIOU: 0.842169), Class: 0.990252, Obj: 0.901008, No Obj: 0.010376, .5R: 0.991071, .75R: 0.892857, count: 112, class_loss = 3.032391, iou_loss = 203.906784, total_loss = 206.939178 \n",
            "v3 (iou loss, Normalizer: (iou: 0.07, cls: 1.00) Region 150 Avg (IOU: 0.836563, GIOU: 0.834069), Class: 0.991960, Obj: 0.950278, No Obj: 0.028406, .5R: 1.000000, .75R: 0.878505, count: 107, class_loss = 1.168552, iou_loss = 40.110996, total_loss = 41.279549 \n",
            "v3 (iou loss, Normalizer: (iou: 0.07, cls: 1.00) Region 161 Avg (IOU: 0.714716, GIOU: 0.689214), Class: 0.996793, Obj: 0.802220, No Obj: 0.008224, .5R: 0.916667, .75R: 0.500000, count: 12, class_loss = 0.399155, iou_loss = 0.962534, total_loss = 1.361689 \n",
            " total_bbox = 4546428, rewritten_bbox = 0.005301 % \n",
            "v3 (iou loss, Normalizer: (iou: 0.07, cls: 1.00) Region 139 Avg (IOU: 0.858005, GIOU: 0.852475), Class: 0.992081, Obj: 0.899156, No Obj: 0.010719, .5R: 0.990741, .75R: 0.916667, count: 108, class_loss = 3.130162, iou_loss = 145.200226, total_loss = 148.330383 \n",
            "v3 (iou loss, Normalizer: (iou: 0.07, cls: 1.00) Region 150 Avg (IOU: 0.841608, GIOU: 0.839799), Class: 0.997815, Obj: 0.957887, No Obj: 0.038063, .5R: 1.000000, .75R: 0.868613, count: 137, class_loss = 1.711696, iou_loss = 40.236080, total_loss = 41.947777 \n",
            "v3 (iou loss, Normalizer: (iou: 0.07, cls: 1.00) Region 161 Avg (IOU: 0.756957, GIOU: 0.753080), Class: 0.988812, Obj: 0.741473, No Obj: 0.011693, .5R: 1.000000, .75R: 0.421053, count: 19, class_loss = 0.796494, iou_loss = 1.628507, total_loss = 2.425001 \n",
            " total_bbox = 4546692, rewritten_bbox = 0.005301 % \n",
            "v3 (iou loss, Normalizer: (iou: 0.07, cls: 1.00) Region 139 Avg (IOU: 0.839712, GIOU: 0.831740), Class: 0.981127, Obj: 0.848972, No Obj: 0.013295, .5R: 0.987805, .75R: 0.878049, count: 164, class_loss = 5.818737, iou_loss = 284.596802, total_loss = 290.415527 \n",
            "v3 (iou loss, Normalizer: (iou: 0.07, cls: 1.00) Region 150 Avg (IOU: 0.838582, GIOU: 0.836261), Class: 0.995518, Obj: 0.922470, No Obj: 0.041118, .5R: 0.993631, .75R: 0.859873, count: 157, class_loss = 2.763303, iou_loss = 49.516472, total_loss = 52.279774 \n",
            "v3 (iou loss, Normalizer: (iou: 0.07, cls: 1.00) Region 161 Avg (IOU: 0.771157, GIOU: 0.768660), Class: 0.994971, Obj: 0.833545, No Obj: 0.010361, .5R: 1.000000, .75R: 0.571429, count: 14, class_loss = 0.325285, iou_loss = 0.963427, total_loss = 1.288712 \n",
            " total_bbox = 4547027, rewritten_bbox = 0.005300 % \n",
            "v3 (iou loss, Normalizer: (iou: 0.07, cls: 1.00) Region 139 Avg (IOU: 0.879696, GIOU: 0.877090), Class: 0.993643, Obj: 0.921313, No Obj: 0.007167, .5R: 1.000000, .75R: 0.987654, count: 81, class_loss = 1.082089, iou_loss = 128.336472, total_loss = 129.418564 \n",
            "v3 (iou loss, Normalizer: (iou: 0.07, cls: 1.00) Region 150 Avg (IOU: 0.827398, GIOU: 0.819414), Class: 0.975742, Obj: 0.973059, No Obj: 0.026770, .5R: 0.971429, .75R: 0.800000, count: 105, class_loss = 0.950133, iou_loss = 31.231209, total_loss = 32.181343 \n",
            "v3 (iou loss, Normalizer: (iou: 0.07, cls: 1.00) Region 161 Avg (IOU: 0.800191, GIOU: 0.794684), Class: 0.994925, Obj: 0.848246, No Obj: 0.009624, .5R: 0.916667, .75R: 0.750000, count: 12, class_loss = 0.319867, iou_loss = 0.927579, total_loss = 1.247446 \n",
            " total_bbox = 4547225, rewritten_bbox = 0.005344 % \n",
            "v3 (iou loss, Normalizer: (iou: 0.07, cls: 1.00) Region 139 Avg (IOU: 0.905379, GIOU: 0.903389), Class: 0.996385, Obj: 0.989863, No Obj: 0.004725, .5R: 1.000000, .75R: 0.980000, count: 50, class_loss = 0.030986, iou_loss = 63.398293, total_loss = 63.429279 \n",
            "v3 (iou loss, Normalizer: (iou: 0.07, cls: 1.00) Region 150 Avg (IOU: 0.855702, GIOU: 0.854481), Class: 0.996747, Obj: 0.983604, No Obj: 0.019371, .5R: 1.000000, .75R: 0.910256, count: 78, class_loss = 0.092146, iou_loss = 25.429682, total_loss = 25.521828 \n",
            "v3 (iou loss, Normalizer: (iou: 0.07, cls: 1.00) Region 161 Avg (IOU: 0.775067, GIOU: 0.762677), Class: 0.993448, Obj: 0.888756, No Obj: 0.007816, .5R: 0.916667, .75R: 0.666667, count: 12, class_loss = 0.192540, iou_loss = 1.438230, total_loss = 1.630770 \n",
            " total_bbox = 4547365, rewritten_bbox = 0.005344 % \n",
            "v3 (iou loss, Normalizer: (iou: 0.07, cls: 1.00) Region 139 Avg (IOU: 0.913004, GIOU: 0.911290), Class: 0.995457, Obj: 0.992768, No Obj: 0.003875, .5R: 1.000000, .75R: 1.000000, count: 34, class_loss = 0.053927, iou_loss = 41.289677, total_loss = 41.343605 \n",
            "v3 (iou loss, Normalizer: (iou: 0.07, cls: 1.00) Region 150 Avg (IOU: 0.833789, GIOU: 0.832114), Class: 0.998310, Obj: 0.980477, No Obj: 0.021014, .5R: 1.000000, .75R: 0.888889, count: 81, class_loss = 0.557395, iou_loss = 23.831470, total_loss = 24.388866 \n",
            "v3 (iou loss, Normalizer: (iou: 0.07, cls: 1.00) Region 161 Avg (IOU: 0.685430, GIOU: 0.665651), Class: 0.994689, Obj: 0.867121, No Obj: 0.014975, .5R: 0.818182, .75R: 0.409091, count: 22, class_loss = 0.409022, iou_loss = 0.947153, total_loss = 1.356176 \n",
            " total_bbox = 4547502, rewritten_bbox = 0.005344 % \n",
            "\n",
            " (next mAP calculation at 1500 iterations) \n",
            " Last accuracy mAP@0.5 = 99.99 %, best = 99.99 % \n",
            " 1412: 1.320967, 1.202495 avg loss, 0.001000 rate, 3.854452 seconds, 90368 images, 8.599858 hours left\n",
            "Loaded: 0.000057 seconds\n",
            "v3 (iou loss, Normalizer: (iou: 0.07, cls: 1.00) Region 139 Avg (IOU: 0.883318, GIOU: 0.881346), Class: 0.995035, Obj: 0.992650, No Obj: 0.005433, .5R: 1.000000, .75R: 1.000000, count: 55, class_loss = 0.183408, iou_loss = 70.616516, total_loss = 70.799927 \n",
            "v3 (iou loss, Normalizer: (iou: 0.07, cls: 1.00) Region 150 Avg (IOU: 0.867447, GIOU: 0.865365), Class: 0.996362, Obj: 0.989929, No Obj: 0.018458, .5R: 1.000000, .75R: 0.972603, count: 73, class_loss = 0.058185, iou_loss = 26.420057, total_loss = 26.478243 \n",
            "v3 (iou loss, Normalizer: (iou: 0.07, cls: 1.00) Region 161 Avg (IOU: 0.809909, GIOU: 0.805110), Class: 0.992304, Obj: 0.964688, No Obj: 0.007013, .5R: 1.000000, .75R: 0.666667, count: 9, class_loss = 0.132629, iou_loss = 0.728122, total_loss = 0.860750 \n",
            " total_bbox = 4547639, rewritten_bbox = 0.005343 % \n",
            "v3 (iou loss, Normalizer: (iou: 0.07, cls: 1.00) Region 139 Avg (IOU: 0.878446, GIOU: 0.876300), Class: 0.996516, Obj: 0.996603, No Obj: 0.003886, .5R: 1.000000, .75R: 1.000000, count: 40, class_loss = 0.013988, iou_loss = 49.938541, total_loss = 49.952530 \n",
            "v3 (iou loss, Normalizer: (iou: 0.07, cls: 1.00) Region 150 Avg (IOU: 0.856827, GIOU: 0.854618), Class: 0.998308, Obj: 0.994937, No Obj: 0.021336, .5R: 1.000000, .75R: 0.939024, count: 82, class_loss = 0.027113, iou_loss = 25.700703, total_loss = 25.727816 \n",
            "v3 (iou loss, Normalizer: (iou: 0.07, cls: 1.00) Region 161 Avg (IOU: 0.827131, GIOU: 0.819948), Class: 0.997162, Obj: 0.930039, No Obj: 0.010294, .5R: 0.933333, .75R: 0.933333, count: 15, class_loss = 0.098051, iou_loss = 1.263699, total_loss = 1.361750 \n",
            " total_bbox = 4547776, rewritten_bbox = 0.005343 % \n",
            "v3 (iou loss, Normalizer: (iou: 0.07, cls: 1.00) Region 139 Avg (IOU: 0.862676, GIOU: 0.859897), Class: 0.993395, Obj: 0.963774, No Obj: 0.006074, .5R: 1.000000, .75R: 0.956522, count: 69, class_loss = 0.366492, iou_loss = 105.903503, total_loss = 106.269997 \n",
            "v3 (iou loss, Normalizer: (iou: 0.07, cls: 1.00) Region 150 Avg (IOU: 0.847018, GIOU: 0.843921), Class: 0.987828, Obj: 0.941916, No Obj: 0.023924, .5R: 1.000000, .75R: 0.887640, count: 89, class_loss = 1.268233, iou_loss = 30.674526, total_loss = 31.942759 \n",
            "v3 (iou loss, Normalizer: (iou: 0.07, cls: 1.00) Region 161 Avg (IOU: 0.783240, GIOU: 0.771206), Class: 0.995716, Obj: 0.915164, No Obj: 0.008163, .5R: 0.909091, .75R: 0.818182, count: 11, class_loss = 0.170840, iou_loss = 0.598278, total_loss = 0.769117 \n",
            " total_bbox = 4547945, rewritten_bbox = 0.005343 % \n",
            "v3 (iou loss, Normalizer: (iou: 0.07, cls: 1.00) Region 139 Avg (IOU: 0.841746, GIOU: 0.838486), Class: 0.994015, Obj: 0.951343, No Obj: 0.008652, .5R: 0.987952, .75R: 0.903614, count: 83, class_loss = 0.615697, iou_loss = 106.873871, total_loss = 107.489571 \n",
            "v3 (iou loss, Normalizer: (iou: 0.07, cls: 1.00) Region 150 Avg (IOU: 0.854207, GIOU: 0.851516), Class: 0.997688, Obj: 0.962476, No Obj: 0.029505, .5R: 1.000000, .75R: 0.954955, count: 111, class_loss = 0.320290, iou_loss = 39.279282, total_loss = 39.599571 \n",
            "v3 (iou loss, Normalizer: (iou: 0.07, cls: 1.00) Region 161 Avg (IOU: 0.710854, GIOU: 0.690091), Class: 0.992038, Obj: 0.773678, No Obj: 0.010690, .5R: 0.933333, .75R: 0.466667, count: 15, class_loss = 0.528989, iou_loss = 0.594091, total_loss = 1.123081 \n",
            " total_bbox = 4548154, rewritten_bbox = 0.005343 % \n",
            "v3 (iou loss, Normalizer: (iou: 0.07, cls: 1.00) Region 139 Avg (IOU: 0.851600, GIOU: 0.848592), Class: 0.994577, Obj: 0.924100, No Obj: 0.011985, .5R: 1.000000, .75R: 0.932836, count: 134, class_loss = 2.197246, iou_loss = 209.638351, total_loss = 211.835602 \n",
            "v3 (iou loss, Normalizer: (iou: 0.07, cls: 1.00) Region 150 Avg (IOU: 0.839769, GIOU: 0.836625), Class: 0.998275, Obj: 0.920064, No Obj: 0.035526, .5R: 1.000000, .75R: 0.895833, count: 144, class_loss = 2.256324, iou_loss = 46.762043, total_loss = 49.018368 \n",
            "v3 (iou loss, Normalizer: (iou: 0.07, cls: 1.00) Region 161 Avg (IOU: 0.720831, GIOU: 0.712451), Class: 0.998228, Obj: 0.755586, No Obj: 0.014246, .5R: 0.909091, .75R: 0.409091, count: 22, class_loss = 0.979454, iou_loss = 1.351822, total_loss = 2.331276 \n",
            " total_bbox = 4548454, rewritten_bbox = 0.005342 % \n",
            "v3 (iou loss, Normalizer: (iou: 0.07, cls: 1.00) Region 139 Avg (IOU: 0.849277, GIOU: 0.841699), Class: 0.986357, Obj: 0.934518, No Obj: 0.009956, .5R: 0.982456, .75R: 0.921053, count: 114, class_loss = 1.552721, iou_loss = 177.017960, total_loss = 178.570679 \n",
            "v3 (iou loss, Normalizer: (iou: 0.07, cls: 1.00) Region 150 Avg (IOU: 0.851026, GIOU: 0.847936), Class: 0.995304, Obj: 0.947969, No Obj: 0.029834, .5R: 1.000000, .75R: 0.932203, count: 118, class_loss = 0.726480, iou_loss = 37.808495, total_loss = 38.534973 \n",
            "v3 (iou loss, Normalizer: (iou: 0.07, cls: 1.00) Region 161 Avg (IOU: 0.748817, GIOU: 0.741707), Class: 0.988234, Obj: 0.841539, No Obj: 0.010734, .5R: 0.875000, .75R: 0.562500, count: 16, class_loss = 0.409193, iou_loss = 0.955469, total_loss = 1.364662 \n",
            " total_bbox = 4548702, rewritten_bbox = 0.005342 % \n",
            "v3 (iou loss, Normalizer: (iou: 0.07, cls: 1.00) Region 139 Avg (IOU: 0.868641, GIOU: 0.866152), Class: 0.996243, Obj: 0.976162, No Obj: 0.011403, .5R: 1.000000, .75R: 0.977273, count: 132, class_loss = 0.778402, iou_loss = 203.260925, total_loss = 204.039322 \n",
            "v3 (iou loss, Normalizer: (iou: 0.07, cls: 1.00) Region 150 Avg (IOU: 0.849247, GIOU: 0.846375), Class: 0.998614, Obj: 0.962871, No Obj: 0.038113, .5R: 1.000000, .75R: 0.908451, count: 142, class_loss = 1.063907, iou_loss = 53.619621, total_loss = 54.683529 \n",
            "v3 (iou loss, Normalizer: (iou: 0.07, cls: 1.00) Region 161 Avg (IOU: 0.733388, GIOU: 0.729171), Class: 0.995462, Obj: 0.828558, No Obj: 0.011564, .5R: 1.000000, .75R: 0.352941, count: 17, class_loss = 0.565542, iou_loss = 0.874684, total_loss = 1.440225 \n",
            " total_bbox = 4548993, rewritten_bbox = 0.005342 % \n",
            "v3 (iou loss, Normalizer: (iou: 0.07, cls: 1.00) Region 139 Avg (IOU: 0.838528, GIOU: 0.832227), Class: 0.990566, Obj: 0.874265, No Obj: 0.008935, .5R: 0.980198, .75R: 0.910891, count: 101, class_loss = 3.356145, iou_loss = 157.437225, total_loss = 160.793365 \n",
            "v3 (iou loss, Normalizer: (iou: 0.07, cls: 1.00) Region 150 Avg (IOU: 0.856034, GIOU: 0.853596), Class: 0.996975, Obj: 0.960449, No Obj: 0.028895, .5R: 1.000000, .75R: 0.891892, count: 111, class_loss = 0.683199, iou_loss = 36.845448, total_loss = 37.528645 \n",
            "v3 (iou loss, Normalizer: (iou: 0.07, cls: 1.00) Region 161 Avg (IOU: 0.762585, GIOU: 0.749276), Class: 0.992514, Obj: 0.775600, No Obj: 0.009661, .5R: 0.928571, .75R: 0.714286, count: 14, class_loss = 0.498860, iou_loss = 1.008466, total_loss = 1.507326 \n",
            " total_bbox = 4549219, rewritten_bbox = 0.005342 % \n",
            "v3 (iou loss, Normalizer: (iou: 0.07, cls: 1.00) Region 139 Avg (IOU: 0.856198, GIOU: 0.851613), Class: 0.993070, Obj: 0.904840, No Obj: 0.004009, .5R: 1.000000, .75R: 1.000000, count: 37, class_loss = 0.503899, iou_loss = 38.717972, total_loss = 39.221870 \n",
            "v3 (iou loss, Normalizer: (iou: 0.07, cls: 1.00) Region 150 Avg (IOU: 0.821969, GIOU: 0.817045), Class: 0.998472, Obj: 0.969423, No Obj: 0.023107, .5R: 1.000000, .75R: 0.871795, count: 78, class_loss = 0.313930, iou_loss = 21.376371, total_loss = 21.690302 \n",
            "v3 (iou loss, Normalizer: (iou: 0.07, cls: 1.00) Region 161 Avg (IOU: 0.737511, GIOU: 0.720595), Class: 0.995394, Obj: 0.857759, No Obj: 0.011518, .5R: 0.866667, .75R: 0.600000, count: 15, class_loss = 0.200391, iou_loss = 0.927880, total_loss = 1.128271 \n",
            " total_bbox = 4549349, rewritten_bbox = 0.005341 % \n",
            "v3 (iou loss, Normalizer: (iou: 0.07, cls: 1.00) Region 139 Avg (IOU: 0.868235, GIOU: 0.864757), Class: 0.994891, Obj: 0.984232, No Obj: 0.003971, .5R: 1.000000, .75R: 0.974359, count: 39, class_loss = 0.107538, iou_loss = 56.394825, total_loss = 56.502361 \n",
            "v3 (iou loss, Normalizer: (iou: 0.07, cls: 1.00) Region 150 Avg (IOU: 0.860925, GIOU: 0.858237), Class: 0.998223, Obj: 0.993159, No Obj: 0.021688, .5R: 1.000000, .75R: 0.948052, count: 77, class_loss = 0.143339, iou_loss = 22.026340, total_loss = 22.169680 \n",
            "v3 (iou loss, Normalizer: (iou: 0.07, cls: 1.00) Region 161 Avg (IOU: 0.793790, GIOU: 0.780180), Class: 0.996351, Obj: 0.832705, No Obj: 0.010465, .5R: 0.937500, .75R: 0.812500, count: 16, class_loss = 0.361172, iou_loss = 1.526169, total_loss = 1.887342 \n",
            " total_bbox = 4549481, rewritten_bbox = 0.005341 % \n",
            "v3 (iou loss, Normalizer: (iou: 0.07, cls: 1.00) Region 139 Avg (IOU: 0.885434, GIOU: 0.883130), Class: 0.995566, Obj: 0.988245, No Obj: 0.005327, .5R: 1.000000, .75R: 1.000000, count: 56, class_loss = 0.009902, iou_loss = 81.014679, total_loss = 81.024582 \n",
            "v3 (iou loss, Normalizer: (iou: 0.07, cls: 1.00) Region 150 Avg (IOU: 0.876327, GIOU: 0.874270), Class: 0.997392, Obj: 0.987380, No Obj: 0.017187, .5R: 1.000000, .75R: 0.960526, count: 76, class_loss = 0.020713, iou_loss = 32.046535, total_loss = 32.067249 \n",
            "v3 (iou loss, Normalizer: (iou: 0.07, cls: 1.00) Region 161 Avg (IOU: 0.762480, GIOU: 0.754961), Class: 0.991024, Obj: 0.859682, No Obj: 0.006282, .5R: 1.000000, .75R: 0.444444, count: 9, class_loss = 0.249137, iou_loss = 0.628999, total_loss = 0.878136 \n",
            " total_bbox = 4549622, rewritten_bbox = 0.005341 % \n",
            "v3 (iou loss, Normalizer: (iou: 0.07, cls: 1.00) Region 139 Avg (IOU: 0.860691, GIOU: 0.857200), Class: 0.993460, Obj: 0.980053, No Obj: 0.004615, .5R: 1.000000, .75R: 1.000000, count: 49, class_loss = 0.034361, iou_loss = 73.117577, total_loss = 73.151939 \n",
            "v3 (iou loss, Normalizer: (iou: 0.07, cls: 1.00) Region 150 Avg (IOU: 0.823176, GIOU: 0.818248), Class: 0.996144, Obj: 0.971927, No Obj: 0.016308, .5R: 1.000000, .75R: 0.868852, count: 61, class_loss = 0.388892, iou_loss = 19.455151, total_loss = 19.844042 \n",
            "v3 (iou loss, Normalizer: (iou: 0.07, cls: 1.00) Region 161 Avg (IOU: 0.775666, GIOU: 0.766620), Class: 0.991256, Obj: 0.951547, No Obj: 0.005884, .5R: 1.000000, .75R: 0.500000, count: 6, class_loss = 0.115754, iou_loss = 0.330525, total_loss = 0.446279 \n",
            " total_bbox = 4549738, rewritten_bbox = 0.005341 % \n",
            "v3 (iou loss, Normalizer: (iou: 0.07, cls: 1.00) Region 139 Avg (IOU: 0.857433, GIOU: 0.853491), Class: 0.994862, Obj: 0.978600, No Obj: 0.003971, .5R: 1.000000, .75R: 1.000000, count: 46, class_loss = 0.057492, iou_loss = 64.958992, total_loss = 65.016487 \n",
            "v3 (iou loss, Normalizer: (iou: 0.07, cls: 1.00) Region 150 Avg (IOU: 0.850461, GIOU: 0.846462), Class: 0.997407, Obj: 0.978934, No Obj: 0.018747, .5R: 1.000000, .75R: 0.917808, count: 73, class_loss = 0.517575, iou_loss = 25.499594, total_loss = 26.017168 \n",
            "v3 (iou loss, Normalizer: (iou: 0.07, cls: 1.00) Region 161 Avg (IOU: 0.728511, GIOU: 0.704632), Class: 0.994581, Obj: 0.938128, No Obj: 0.008535, .5R: 0.833333, .75R: 0.666667, count: 12, class_loss = 0.034802, iou_loss = 0.546909, total_loss = 0.581711 \n",
            " total_bbox = 4549869, rewritten_bbox = 0.005341 % \n",
            "v3 (iou loss, Normalizer: (iou: 0.07, cls: 1.00) Region 139 Avg (IOU: 0.887827, GIOU: 0.886047), Class: 0.993951, Obj: 0.991187, No Obj: 0.005243, .5R: 1.000000, .75R: 1.000000, count: 58, class_loss = 0.014028, iou_loss = 92.128639, total_loss = 92.142670 \n",
            "v3 (iou loss, Normalizer: (iou: 0.07, cls: 1.00) Region 150 Avg (IOU: 0.867426, GIOU: 0.865199), Class: 0.996877, Obj: 0.991667, No Obj: 0.017131, .5R: 1.000000, .75R: 0.956522, count: 69, class_loss = 0.094418, iou_loss = 28.240814, total_loss = 28.335232 \n",
            "v3 (iou loss, Normalizer: (iou: 0.07, cls: 1.00) Region 161 Avg (IOU: 0.783032, GIOU: 0.773154), Class: 0.994977, Obj: 0.870712, No Obj: 0.006904, .5R: 0.900000, .75R: 0.700000, count: 10, class_loss = 0.104828, iou_loss = 0.594952, total_loss = 0.699780 \n",
            " total_bbox = 4550006, rewritten_bbox = 0.005341 % \n",
            "v3 (iou loss, Normalizer: (iou: 0.07, cls: 1.00) Region 139 Avg (IOU: 0.891761, GIOU: 0.889679), Class: 0.993859, Obj: 0.986618, No Obj: 0.005658, .5R: 1.000000, .75R: 0.984375, count: 64, class_loss = 0.018510, iou_loss = 95.608917, total_loss = 95.627426 \n",
            "v3 (iou loss, Normalizer: (iou: 0.07, cls: 1.00) Region 150 Avg (IOU: 0.878000, GIOU: 0.875113), Class: 0.992587, Obj: 0.959141, No Obj: 0.017954, .5R: 1.000000, .75R: 0.970588, count: 68, class_loss = 0.305984, iou_loss = 26.207176, total_loss = 26.513161 \n",
            "v3 (iou loss, Normalizer: (iou: 0.07, cls: 1.00) Region 161 Avg (IOU: 0.796200, GIOU: 0.791451), Class: 0.990605, Obj: 0.877710, No Obj: 0.004386, .5R: 1.000000, .75R: 0.666667, count: 6, class_loss = 0.055448, iou_loss = 0.524391, total_loss = 0.579839 \n",
            " total_bbox = 4550144, rewritten_bbox = 0.005340 % \n",
            "v3 (iou loss, Normalizer: (iou: 0.07, cls: 1.00) Region 139 Avg (IOU: 0.865967, GIOU: 0.862660), Class: 0.994443, Obj: 0.958836, No Obj: 0.005018, .5R: 1.000000, .75R: 0.964912, count: 57, class_loss = 0.341695, iou_loss = 88.293488, total_loss = 88.635185 \n",
            "v3 (iou loss, Normalizer: (iou: 0.07, cls: 1.00) Region 150 Avg (IOU: 0.865484, GIOU: 0.863771), Class: 0.996798, Obj: 0.973145, No Obj: 0.017793, .5R: 1.000000, .75R: 0.921875, count: 64, class_loss = 0.236633, iou_loss = 21.982365, total_loss = 22.218998 \n",
            "v3 (iou loss, Normalizer: (iou: 0.07, cls: 1.00) Region 161 Avg (IOU: 0.757592, GIOU: 0.750878), Class: 0.996912, Obj: 0.823506, No Obj: 0.004712, .5R: 1.000000, .75R: 0.571429, count: 7, class_loss = 0.247242, iou_loss = 0.521748, total_loss = 0.768991 \n",
            " total_bbox = 4550272, rewritten_bbox = 0.005340 % \n",
            "\n",
            " (next mAP calculation at 1500 iterations) \n",
            " Last accuracy mAP@0.5 = 99.99 %, best = 99.99 % \n",
            " 1413: 0.489032, 1.131149 avg loss, 0.001000 rate, 3.419652 seconds, 90432 images, 8.574904 hours left\n",
            "Loaded: 0.000053 seconds\n",
            "v3 (iou loss, Normalizer: (iou: 0.07, cls: 1.00) Region 139 Avg (IOU: 0.840286, GIOU: 0.834639), Class: 0.986224, Obj: 0.902321, No Obj: 0.010004, .5R: 0.991453, .75R: 0.863248, count: 117, class_loss = 3.439163, iou_loss = 196.048904, total_loss = 199.488068 \n",
            "v3 (iou loss, Normalizer: (iou: 0.07, cls: 1.00) Region 150 Avg (IOU: 0.847060, GIOU: 0.843179), Class: 0.996674, Obj: 0.964812, No Obj: 0.030196, .5R: 1.000000, .75R: 0.889831, count: 118, class_loss = 1.788852, iou_loss = 48.045235, total_loss = 49.834087 \n",
            "v3 (iou loss, Normalizer: (iou: 0.07, cls: 1.00) Region 161 Avg (IOU: 0.761789, GIOU: 0.758062), Class: 0.995977, Obj: 0.923474, No Obj: 0.009694, .5R: 1.000000, .75R: 0.583333, count: 12, class_loss = 0.283312, iou_loss = 0.704434, total_loss = 0.987746 \n",
            " total_bbox = 4550519, rewritten_bbox = 0.005340 % \n",
            "v3 (iou loss, Normalizer: (iou: 0.07, cls: 1.00) Region 139 Avg (IOU: 0.835080, GIOU: 0.828861), Class: 0.986182, Obj: 0.904716, No Obj: 0.010750, .5R: 0.968000, .75R: 0.888000, count: 125, class_loss = 2.941931, iou_loss = 209.775299, total_loss = 212.717224 \n",
            "v3 (iou loss, Normalizer: (iou: 0.07, cls: 1.00) Region 150 Avg (IOU: 0.856531, GIOU: 0.853135), Class: 0.997940, Obj: 0.956088, No Obj: 0.032217, .5R: 1.000000, .75R: 0.914062, count: 128, class_loss = 1.228325, iou_loss = 54.661102, total_loss = 55.889427 \n",
            "v3 (iou loss, Normalizer: (iou: 0.07, cls: 1.00) Region 161 Avg (IOU: 0.734844, GIOU: 0.728055), Class: 0.993952, Obj: 0.849224, No Obj: 0.010778, .5R: 1.000000, .75R: 0.454545, count: 11, class_loss = 0.782957, iou_loss = 0.595770, total_loss = 1.378727 \n",
            " total_bbox = 4550783, rewritten_bbox = 0.005340 % \n",
            "v3 (iou loss, Normalizer: (iou: 0.07, cls: 1.00) Region 139 Avg (IOU: 0.838069, GIOU: 0.831519), Class: 0.987408, Obj: 0.921864, No Obj: 0.009749, .5R: 0.980000, .75R: 0.890000, count: 100, class_loss = 2.883732, iou_loss = 157.272888, total_loss = 160.156616 \n",
            "v3 (iou loss, Normalizer: (iou: 0.07, cls: 1.00) Region 150 Avg (IOU: 0.845495, GIOU: 0.842192), Class: 0.997251, Obj: 0.952090, No Obj: 0.029534, .5R: 1.000000, .75R: 0.917431, count: 109, class_loss = 1.420226, iou_loss = 46.341343, total_loss = 47.761570 \n",
            "v3 (iou loss, Normalizer: (iou: 0.07, cls: 1.00) Region 161 Avg (IOU: 0.698049, GIOU: 0.683946), Class: 0.997421, Obj: 0.848711, No Obj: 0.008744, .5R: 0.916667, .75R: 0.250000, count: 12, class_loss = 0.242320, iou_loss = 0.543178, total_loss = 0.785498 \n",
            " total_bbox = 4551004, rewritten_bbox = 0.005339 % \n",
            "v3 (iou loss, Normalizer: (iou: 0.07, cls: 1.00) Region 139 Avg (IOU: 0.855070, GIOU: 0.851758), Class: 0.994192, Obj: 0.947734, No Obj: 0.004869, .5R: 1.000000, .75R: 0.931818, count: 44, class_loss = 0.687299, iou_loss = 52.575626, total_loss = 53.262924 \n",
            "v3 (iou loss, Normalizer: (iou: 0.07, cls: 1.00) Region 150 Avg (IOU: 0.851504, GIOU: 0.846093), Class: 0.996892, Obj: 0.970620, No Obj: 0.019871, .5R: 0.985915, .75R: 0.915493, count: 71, class_loss = 0.923569, iou_loss = 22.181082, total_loss = 23.104650 \n",
            "v3 (iou loss, Normalizer: (iou: 0.07, cls: 1.00) Region 161 Avg (IOU: 0.671272, GIOU: 0.656519), Class: 0.992807, Obj: 0.945158, No Obj: 0.009941, .5R: 0.769231, .75R: 0.538462, count: 13, class_loss = 0.176274, iou_loss = 0.456566, total_loss = 0.632840 \n",
            " total_bbox = 4551132, rewritten_bbox = 0.005339 % \n",
            "v3 (iou loss, Normalizer: (iou: 0.07, cls: 1.00) Region 139 Avg (IOU: 0.877467, GIOU: 0.875444), Class: 0.994848, Obj: 0.995858, No Obj: 0.004539, .5R: 1.000000, .75R: 1.000000, count: 54, class_loss = 0.016291, iou_loss = 78.181572, total_loss = 78.197861 \n",
            "v3 (iou loss, Normalizer: (iou: 0.07, cls: 1.00) Region 150 Avg (IOU: 0.866775, GIOU: 0.864025), Class: 0.997855, Obj: 0.992221, No Obj: 0.017443, .5R: 1.000000, .75R: 0.929577, count: 71, class_loss = 0.432677, iou_loss = 23.490700, total_loss = 23.923376 \n",
            "v3 (iou loss, Normalizer: (iou: 0.07, cls: 1.00) Region 161 Avg (IOU: 0.834775, GIOU: 0.831226), Class: 0.991701, Obj: 0.932487, No Obj: 0.007590, .5R: 1.000000, .75R: 1.000000, count: 8, class_loss = 0.366106, iou_loss = 0.724959, total_loss = 1.091064 \n",
            " total_bbox = 4551265, rewritten_bbox = 0.005339 % \n",
            "v3 (iou loss, Normalizer: (iou: 0.07, cls: 1.00) Region 139 Avg (IOU: 0.876115, GIOU: 0.873942), Class: 0.994640, Obj: 0.991462, No Obj: 0.003633, .5R: 1.000000, .75R: 1.000000, count: 44, class_loss = 0.023809, iou_loss = 48.528404, total_loss = 48.552212 \n",
            "v3 (iou loss, Normalizer: (iou: 0.07, cls: 1.00) Region 150 Avg (IOU: 0.845764, GIOU: 0.841946), Class: 0.998257, Obj: 0.995321, No Obj: 0.019863, .5R: 1.000000, .75R: 0.903614, count: 83, class_loss = 0.349368, iou_loss = 21.938440, total_loss = 22.287807 \n",
            "v3 (iou loss, Normalizer: (iou: 0.07, cls: 1.00) Region 161 Avg (IOU: 0.799439, GIOU: 0.786785), Class: 0.996029, Obj: 0.932439, No Obj: 0.012304, .5R: 0.941176, .75R: 0.882353, count: 17, class_loss = 0.142673, iou_loss = 1.331276, total_loss = 1.473949 \n",
            " total_bbox = 4551409, rewritten_bbox = 0.005339 % \n",
            "v3 (iou loss, Normalizer: (iou: 0.07, cls: 1.00) Region 139 Avg (IOU: 0.890040, GIOU: 0.888099), Class: 0.993404, Obj: 0.993141, No Obj: 0.004895, .5R: 1.000000, .75R: 1.000000, count: 56, class_loss = 0.014322, iou_loss = 95.203583, total_loss = 95.217903 \n",
            "v3 (iou loss, Normalizer: (iou: 0.07, cls: 1.00) Region 150 Avg (IOU: 0.856780, GIOU: 0.854014), Class: 0.998168, Obj: 0.988471, No Obj: 0.018301, .5R: 1.000000, .75R: 0.914286, count: 70, class_loss = 1.005605, iou_loss = 27.312059, total_loss = 28.317665 \n",
            "v3 (iou loss, Normalizer: (iou: 0.07, cls: 1.00) Region 161 Avg (IOU: 0.756382, GIOU: 0.736857), Class: 0.996864, Obj: 0.982004, No Obj: 0.008165, .5R: 0.875000, .75R: 0.625000, count: 8, class_loss = 0.293021, iou_loss = 0.286319, total_loss = 0.579340 \n",
            " total_bbox = 4551543, rewritten_bbox = 0.005339 % \n",
            "v3 (iou loss, Normalizer: (iou: 0.07, cls: 1.00) Region 139 Avg (IOU: 0.870301, GIOU: 0.867199), Class: 0.994875, Obj: 0.991892, No Obj: 0.005096, .5R: 1.000000, .75R: 0.983333, count: 60, class_loss = 0.007818, iou_loss = 78.282181, total_loss = 78.290001 \n",
            "v3 (iou loss, Normalizer: (iou: 0.07, cls: 1.00) Region 150 Avg (IOU: 0.874998, GIOU: 0.872355), Class: 0.996895, Obj: 0.989302, No Obj: 0.018070, .5R: 1.000000, .75R: 0.958333, count: 72, class_loss = 0.132084, iou_loss = 30.746588, total_loss = 30.878672 \n",
            "v3 (iou loss, Normalizer: (iou: 0.07, cls: 1.00) Region 161 Avg (IOU: 0.799096, GIOU: 0.786870), Class: 0.988582, Obj: 0.894151, No Obj: 0.005747, .5R: 1.000000, .75R: 0.625000, count: 8, class_loss = 0.117373, iou_loss = 0.799732, total_loss = 0.917106 \n",
            " total_bbox = 4551683, rewritten_bbox = 0.005339 % \n",
            "v3 (iou loss, Normalizer: (iou: 0.07, cls: 1.00) Region 139 Avg (IOU: 0.857633, GIOU: 0.853547), Class: 0.994406, Obj: 0.974072, No Obj: 0.003900, .5R: 0.976191, .75R: 0.952381, count: 42, class_loss = 0.506589, iou_loss = 54.931038, total_loss = 55.437626 \n",
            "v3 (iou loss, Normalizer: (iou: 0.07, cls: 1.00) Region 150 Avg (IOU: 0.838825, GIOU: 0.835768), Class: 0.997448, Obj: 0.981241, No Obj: 0.019833, .5R: 1.000000, .75R: 0.863014, count: 73, class_loss = 0.800678, iou_loss = 23.514359, total_loss = 24.315037 \n",
            "v3 (iou loss, Normalizer: (iou: 0.07, cls: 1.00) Region 161 Avg (IOU: 0.756609, GIOU: 0.743361), Class: 0.990915, Obj: 0.962416, No Obj: 0.009111, .5R: 1.000000, .75R: 0.636364, count: 11, class_loss = 0.263459, iou_loss = 0.688173, total_loss = 0.951633 \n",
            " total_bbox = 4551809, rewritten_bbox = 0.005339 % \n",
            "v3 (iou loss, Normalizer: (iou: 0.07, cls: 1.00) Region 139 Avg (IOU: 0.861809, GIOU: 0.858241), Class: 0.995266, Obj: 0.989181, No Obj: 0.004905, .5R: 1.000000, .75R: 1.000000, count: 50, class_loss = 0.011474, iou_loss = 59.617603, total_loss = 59.629078 \n",
            "v3 (iou loss, Normalizer: (iou: 0.07, cls: 1.00) Region 150 Avg (IOU: 0.862795, GIOU: 0.858511), Class: 0.997547, Obj: 0.995234, No Obj: 0.016630, .5R: 1.000000, .75R: 0.933333, count: 75, class_loss = 0.056809, iou_loss = 27.712688, total_loss = 27.769497 \n",
            "v3 (iou loss, Normalizer: (iou: 0.07, cls: 1.00) Region 161 Avg (IOU: 0.783857, GIOU: 0.775074), Class: 0.992590, Obj: 0.969521, No Obj: 0.009639, .5R: 1.000000, .75R: 0.750000, count: 12, class_loss = 0.381796, iou_loss = 0.968855, total_loss = 1.350651 \n",
            " total_bbox = 4551946, rewritten_bbox = 0.005338 % \n",
            "v3 (iou loss, Normalizer: (iou: 0.07, cls: 1.00) Region 139 Avg (IOU: 0.855120, GIOU: 0.852783), Class: 0.995313, Obj: 0.994528, No Obj: 0.003468, .5R: 1.000000, .75R: 0.967742, count: 31, class_loss = 0.007628, iou_loss = 35.183136, total_loss = 35.190765 \n",
            "v3 (iou loss, Normalizer: (iou: 0.07, cls: 1.00) Region 150 Avg (IOU: 0.825103, GIOU: 0.823608), Class: 0.995700, Obj: 0.985669, No Obj: 0.020116, .5R: 1.000000, .75R: 0.824324, count: 74, class_loss = 0.747270, iou_loss = 22.454292, total_loss = 23.201563 \n",
            "v3 (iou loss, Normalizer: (iou: 0.07, cls: 1.00) Region 161 Avg (IOU: 0.691063, GIOU: 0.674199), Class: 0.994359, Obj: 0.912115, No Obj: 0.011909, .5R: 0.764706, .75R: 0.470588, count: 17, class_loss = 0.145085, iou_loss = 0.854530, total_loss = 0.999616 \n",
            " total_bbox = 4552068, rewritten_bbox = 0.005338 % \n",
            "v3 (iou loss, Normalizer: (iou: 0.07, cls: 1.00) Region 139 Avg (IOU: 0.866871, GIOU: 0.864143), Class: 0.995455, Obj: 0.984245, No Obj: 0.005158, .5R: 1.000000, .75R: 0.979592, count: 49, class_loss = 0.026047, iou_loss = 77.547623, total_loss = 77.573669 \n",
            "v3 (iou loss, Normalizer: (iou: 0.07, cls: 1.00) Region 150 Avg (IOU: 0.844910, GIOU: 0.841761), Class: 0.997887, Obj: 0.966055, No Obj: 0.018283, .5R: 1.000000, .75R: 0.913043, count: 69, class_loss = 1.093019, iou_loss = 28.715368, total_loss = 29.808388 \n",
            "v3 (iou loss, Normalizer: (iou: 0.07, cls: 1.00) Region 161 Avg (IOU: 0.730901, GIOU: 0.706509), Class: 0.994878, Obj: 0.974580, No Obj: 0.008164, .5R: 0.900000, .75R: 0.600000, count: 10, class_loss = 0.210033, iou_loss = 0.594715, total_loss = 0.804748 \n",
            " total_bbox = 4552196, rewritten_bbox = 0.005338 % \n",
            "v3 (iou loss, Normalizer: (iou: 0.07, cls: 1.00) Region 139 Avg (IOU: 0.870508, GIOU: 0.866828), Class: 0.994665, Obj: 0.989880, No Obj: 0.004933, .5R: 1.000000, .75R: 0.961538, count: 52, class_loss = 0.019276, iou_loss = 65.573921, total_loss = 65.593201 \n",
            "v3 (iou loss, Normalizer: (iou: 0.07, cls: 1.00) Region 150 Avg (IOU: 0.867799, GIOU: 0.865744), Class: 0.996953, Obj: 0.985721, No Obj: 0.017268, .5R: 1.000000, .75R: 0.943662, count: 71, class_loss = 0.234234, iou_loss = 28.295630, total_loss = 28.529863 \n",
            "v3 (iou loss, Normalizer: (iou: 0.07, cls: 1.00) Region 161 Avg (IOU: 0.717149, GIOU: 0.693009), Class: 0.988762, Obj: 0.891266, No Obj: 0.007838, .5R: 0.909091, .75R: 0.454545, count: 11, class_loss = 0.131162, iou_loss = 0.564254, total_loss = 0.695416 \n",
            " total_bbox = 4552330, rewritten_bbox = 0.005338 % \n",
            "v3 (iou loss, Normalizer: (iou: 0.07, cls: 1.00) Region 139 Avg (IOU: 0.870591, GIOU: 0.867528), Class: 0.996323, Obj: 0.993011, No Obj: 0.005037, .5R: 1.000000, .75R: 0.977778, count: 45, class_loss = 0.006999, iou_loss = 48.231014, total_loss = 48.238014 \n",
            "v3 (iou loss, Normalizer: (iou: 0.07, cls: 1.00) Region 150 Avg (IOU: 0.853884, GIOU: 0.850422), Class: 0.998353, Obj: 0.982520, No Obj: 0.021376, .5R: 1.000000, .75R: 0.845238, count: 84, class_loss = 0.784476, iou_loss = 28.451092, total_loss = 29.235567 \n",
            "v3 (iou loss, Normalizer: (iou: 0.07, cls: 1.00) Region 161 Avg (IOU: 0.817433, GIOU: 0.813536), Class: 0.996254, Obj: 0.964870, No Obj: 0.008676, .5R: 1.000000, .75R: 0.800000, count: 10, class_loss = 0.169036, iou_loss = 0.722301, total_loss = 0.891337 \n",
            " total_bbox = 4552469, rewritten_bbox = 0.005338 % \n",
            "v3 (iou loss, Normalizer: (iou: 0.07, cls: 1.00) Region 139 Avg (IOU: 0.862004, GIOU: 0.858817), Class: 0.994005, Obj: 0.989331, No Obj: 0.004676, .5R: 1.000000, .75R: 0.978261, count: 46, class_loss = 0.225067, iou_loss = 51.687679, total_loss = 51.912746 \n",
            "v3 (iou loss, Normalizer: (iou: 0.07, cls: 1.00) Region 150 Avg (IOU: 0.854888, GIOU: 0.851997), Class: 0.997459, Obj: 0.992617, No Obj: 0.020274, .5R: 1.000000, .75R: 0.947368, count: 76, class_loss = 0.197126, iou_loss = 31.038656, total_loss = 31.235783 \n",
            "v3 (iou loss, Normalizer: (iou: 0.07, cls: 1.00) Region 161 Avg (IOU: 0.713690, GIOU: 0.683097), Class: 0.991272, Obj: 0.878795, No Obj: 0.008981, .5R: 0.916667, .75R: 0.416667, count: 12, class_loss = 0.378426, iou_loss = 0.446521, total_loss = 0.824947 \n",
            " total_bbox = 4552603, rewritten_bbox = 0.005338 % \n",
            "v3 (iou loss, Normalizer: (iou: 0.07, cls: 1.00) Region 139 Avg (IOU: 0.849193, GIOU: 0.846242), Class: 0.994473, Obj: 0.944019, No Obj: 0.004279, .5R: 1.000000, .75R: 0.952381, count: 42, class_loss = 0.650690, iou_loss = 56.508015, total_loss = 57.158703 \n",
            "v3 (iou loss, Normalizer: (iou: 0.07, cls: 1.00) Region 150 Avg (IOU: 0.845525, GIOU: 0.843116), Class: 0.997396, Obj: 0.965117, No Obj: 0.022023, .5R: 1.000000, .75R: 0.857143, count: 77, class_loss = 1.222910, iou_loss = 22.611856, total_loss = 23.834766 \n",
            "v3 (iou loss, Normalizer: (iou: 0.07, cls: 1.00) Region 161 Avg (IOU: 0.796435, GIOU: 0.791811), Class: 0.993854, Obj: 0.892318, No Obj: 0.011905, .5R: 1.000000, .75R: 0.800000, count: 15, class_loss = 0.247482, iou_loss = 0.879978, total_loss = 1.127460 \n",
            " total_bbox = 4552737, rewritten_bbox = 0.005337 % \n",
            "\n",
            " (next mAP calculation at 1500 iterations) \n",
            " Last accuracy mAP@0.5 = 99.99 %, best = 99.99 % \n",
            " 1414: 0.590938, 1.077128 avg loss, 0.001000 rate, 3.614293 seconds, 90496 images, 8.532728 hours left\n",
            "Loaded: 0.000045 seconds\n",
            "v3 (iou loss, Normalizer: (iou: 0.07, cls: 1.00) Region 139 Avg (IOU: 0.851961, GIOU: 0.848610), Class: 0.986804, Obj: 0.877319, No Obj: 0.010415, .5R: 0.975610, .75R: 0.910569, count: 123, class_loss = 3.766112, iou_loss = 192.792511, total_loss = 196.558624 \n",
            "v3 (iou loss, Normalizer: (iou: 0.07, cls: 1.00) Region 150 Avg (IOU: 0.842716, GIOU: 0.839741), Class: 0.998005, Obj: 0.931796, No Obj: 0.034304, .5R: 1.000000, .75R: 0.859259, count: 135, class_loss = 2.889838, iou_loss = 54.724533, total_loss = 57.614372 \n",
            "v3 (iou loss, Normalizer: (iou: 0.07, cls: 1.00) Region 161 Avg (IOU: 0.741359, GIOU: 0.730997), Class: 0.994016, Obj: 0.965599, No Obj: 0.011286, .5R: 1.000000, .75R: 0.400000, count: 10, class_loss = 0.572046, iou_loss = 0.385265, total_loss = 0.957311 \n",
            " total_bbox = 4553005, rewritten_bbox = 0.005337 % \n",
            "v3 (iou loss, Normalizer: (iou: 0.07, cls: 1.00) Region 139 Avg (IOU: 0.848994, GIOU: 0.843478), Class: 0.983292, Obj: 0.895999, No Obj: 0.009549, .5R: 0.980952, .75R: 0.914286, count: 105, class_loss = 3.688817, iou_loss = 170.123962, total_loss = 173.812775 \n",
            "v3 (iou loss, Normalizer: (iou: 0.07, cls: 1.00) Region 150 Avg (IOU: 0.839406, GIOU: 0.837609), Class: 0.996852, Obj: 0.963212, No Obj: 0.034319, .5R: 1.000000, .75R: 0.878049, count: 123, class_loss = 1.011915, iou_loss = 50.742584, total_loss = 51.754498 \n",
            "v3 (iou loss, Normalizer: (iou: 0.07, cls: 1.00) Region 161 Avg (IOU: 0.650362, GIOU: 0.628492), Class: 0.992501, Obj: 0.712591, No Obj: 0.013051, .5R: 0.800000, .75R: 0.200000, count: 15, class_loss = 1.557311, iou_loss = 0.422070, total_loss = 1.979381 \n",
            " total_bbox = 4553248, rewritten_bbox = 0.005337 % \n",
            "v3 (iou loss, Normalizer: (iou: 0.07, cls: 1.00) Region 139 Avg (IOU: 0.845052, GIOU: 0.841547), Class: 0.987994, Obj: 0.893970, No Obj: 0.009742, .5R: 0.973913, .75R: 0.913043, count: 115, class_loss = 2.703467, iou_loss = 196.896225, total_loss = 199.599686 \n",
            "v3 (iou loss, Normalizer: (iou: 0.07, cls: 1.00) Region 150 Avg (IOU: 0.843946, GIOU: 0.839234), Class: 0.996243, Obj: 0.957175, No Obj: 0.030554, .5R: 1.000000, .75R: 0.860656, count: 122, class_loss = 1.280075, iou_loss = 41.365665, total_loss = 42.645741 \n",
            "v3 (iou loss, Normalizer: (iou: 0.07, cls: 1.00) Region 161 Avg (IOU: 0.724350, GIOU: 0.710730), Class: 0.992779, Obj: 0.942646, No Obj: 0.012076, .5R: 1.000000, .75R: 0.357143, count: 14, class_loss = 0.689629, iou_loss = 0.593643, total_loss = 1.283272 \n",
            " total_bbox = 4553499, rewritten_bbox = 0.005337 % \n",
            "v3 (iou loss, Normalizer: (iou: 0.07, cls: 1.00) Region 139 Avg (IOU: 0.888870, GIOU: 0.887895), Class: 0.995944, Obj: 0.993957, No Obj: 0.004598, .5R: 1.000000, .75R: 1.000000, count: 47, class_loss = 0.001848, iou_loss = 64.914062, total_loss = 64.915909 \n",
            "v3 (iou loss, Normalizer: (iou: 0.07, cls: 1.00) Region 150 Avg (IOU: 0.848345, GIOU: 0.843224), Class: 0.997890, Obj: 0.962573, No Obj: 0.020908, .5R: 1.000000, .75R: 0.855263, count: 76, class_loss = 0.967912, iou_loss = 24.468105, total_loss = 25.436016 \n",
            "v3 (iou loss, Normalizer: (iou: 0.07, cls: 1.00) Region 161 Avg (IOU: 0.764835, GIOU: 0.755948), Class: 0.998195, Obj: 0.883898, No Obj: 0.011155, .5R: 0.933333, .75R: 0.600000, count: 15, class_loss = 0.348901, iou_loss = 0.980630, total_loss = 1.329531 \n",
            " total_bbox = 4553637, rewritten_bbox = 0.005336 % \n",
            "v3 (iou loss, Normalizer: (iou: 0.07, cls: 1.00) Region 139 Avg (IOU: 0.884437, GIOU: 0.882840), Class: 0.994434, Obj: 0.934065, No Obj: 0.004412, .5R: 1.000000, .75R: 0.974359, count: 39, class_loss = 0.360623, iou_loss = 49.149822, total_loss = 49.510445 \n",
            "v3 (iou loss, Normalizer: (iou: 0.07, cls: 1.00) Region 150 Avg (IOU: 0.831455, GIOU: 0.825921), Class: 0.998435, Obj: 0.986865, No Obj: 0.020093, .5R: 1.000000, .75R: 0.860759, count: 79, class_loss = 1.225540, iou_loss = 21.348516, total_loss = 22.574057 \n",
            "v3 (iou loss, Normalizer: (iou: 0.07, cls: 1.00) Region 161 Avg (IOU: 0.743153, GIOU: 0.728046), Class: 0.993639, Obj: 0.908905, No Obj: 0.013906, .5R: 0.888889, .75R: 0.611111, count: 18, class_loss = 0.530134, iou_loss = 1.061025, total_loss = 1.591159 \n",
            " total_bbox = 4553773, rewritten_bbox = 0.005336 % \n",
            "v3 (iou loss, Normalizer: (iou: 0.07, cls: 1.00) Region 139 Avg (IOU: 0.890919, GIOU: 0.889754), Class: 0.995596, Obj: 0.995417, No Obj: 0.005494, .5R: 1.000000, .75R: 1.000000, count: 60, class_loss = 0.003460, iou_loss = 84.597404, total_loss = 84.600868 \n",
            "v3 (iou loss, Normalizer: (iou: 0.07, cls: 1.00) Region 150 Avg (IOU: 0.864230, GIOU: 0.861372), Class: 0.997367, Obj: 0.989122, No Obj: 0.018571, .5R: 1.000000, .75R: 0.942857, count: 70, class_loss = 0.546865, iou_loss = 27.465891, total_loss = 28.012756 \n",
            "v3 (iou loss, Normalizer: (iou: 0.07, cls: 1.00) Region 161 Avg (IOU: 0.707259, GIOU: 0.688830), Class: 0.995513, Obj: 0.880667, No Obj: 0.006680, .5R: 1.000000, .75R: 0.428571, count: 7, class_loss = 0.698462, iou_loss = 0.252171, total_loss = 0.950633 \n",
            " total_bbox = 4553910, rewritten_bbox = 0.005336 % \n",
            "v3 (iou loss, Normalizer: (iou: 0.07, cls: 1.00) Region 139 Avg (IOU: 0.895294, GIOU: 0.894466), Class: 0.992874, Obj: 0.993311, No Obj: 0.004712, .5R: 1.000000, .75R: 1.000000, count: 51, class_loss = 0.010155, iou_loss = 70.948280, total_loss = 70.958435 \n",
            "v3 (iou loss, Normalizer: (iou: 0.07, cls: 1.00) Region 150 Avg (IOU: 0.838523, GIOU: 0.833107), Class: 0.998149, Obj: 0.987540, No Obj: 0.019414, .5R: 1.000000, .75R: 0.901408, count: 71, class_loss = 1.082790, iou_loss = 19.868694, total_loss = 20.951485 \n",
            "v3 (iou loss, Normalizer: (iou: 0.07, cls: 1.00) Region 161 Avg (IOU: 0.740816, GIOU: 0.727612), Class: 0.995093, Obj: 0.929529, No Obj: 0.010559, .5R: 0.928571, .75R: 0.428571, count: 14, class_loss = 0.249469, iou_loss = 0.608774, total_loss = 0.858243 \n",
            " total_bbox = 4554046, rewritten_bbox = 0.005336 % \n",
            "v3 (iou loss, Normalizer: (iou: 0.07, cls: 1.00) Region 139 Avg (IOU: 0.881609, GIOU: 0.879867), Class: 0.993995, Obj: 0.996416, No Obj: 0.005372, .5R: 1.000000, .75R: 1.000000, count: 64, class_loss = 0.003057, iou_loss = 99.052544, total_loss = 99.055603 \n",
            "v3 (iou loss, Normalizer: (iou: 0.07, cls: 1.00) Region 150 Avg (IOU: 0.848490, GIOU: 0.843988), Class: 0.997118, Obj: 0.983753, No Obj: 0.016502, .5R: 1.000000, .75R: 0.838235, count: 68, class_loss = 0.472259, iou_loss = 22.906570, total_loss = 23.378830 \n",
            "v3 (iou loss, Normalizer: (iou: 0.07, cls: 1.00) Region 161 Avg (IOU: 0.692815, GIOU: 0.668035), Class: 0.992279, Obj: 0.783404, No Obj: 0.004922, .5R: 1.000000, .75R: 0.333333, count: 6, class_loss = 0.421343, iou_loss = 0.201721, total_loss = 0.623064 \n",
            " total_bbox = 4554184, rewritten_bbox = 0.005336 % \n",
            "v3 (iou loss, Normalizer: (iou: 0.07, cls: 1.00) Region 139 Avg (IOU: 0.887165, GIOU: 0.886369), Class: 0.995006, Obj: 0.985561, No Obj: 0.004778, .5R: 1.000000, .75R: 1.000000, count: 46, class_loss = 0.069437, iou_loss = 61.341339, total_loss = 61.410778 \n",
            "v3 (iou loss, Normalizer: (iou: 0.07, cls: 1.00) Region 150 Avg (IOU: 0.845222, GIOU: 0.841594), Class: 0.997253, Obj: 0.984836, No Obj: 0.019212, .5R: 1.000000, .75R: 0.893333, count: 75, class_loss = 0.048683, iou_loss = 27.722879, total_loss = 27.771563 \n",
            "v3 (iou loss, Normalizer: (iou: 0.07, cls: 1.00) Region 161 Avg (IOU: 0.649266, GIOU: 0.613959), Class: 0.988946, Obj: 0.935096, No Obj: 0.009030, .5R: 0.909091, .75R: 0.181818, count: 11, class_loss = 0.212761, iou_loss = 0.459384, total_loss = 0.672146 \n",
            " total_bbox = 4554316, rewritten_bbox = 0.005336 % \n",
            "v3 (iou loss, Normalizer: (iou: 0.07, cls: 1.00) Region 139 Avg (IOU: 0.884811, GIOU: 0.883844), Class: 0.994155, Obj: 0.993814, No Obj: 0.004966, .5R: 1.000000, .75R: 1.000000, count: 46, class_loss = 0.003947, iou_loss = 63.329910, total_loss = 63.333858 \n",
            "v3 (iou loss, Normalizer: (iou: 0.07, cls: 1.00) Region 150 Avg (IOU: 0.816147, GIOU: 0.807864), Class: 0.998415, Obj: 0.985386, No Obj: 0.021340, .5R: 1.000000, .75R: 0.782051, count: 78, class_loss = 0.824003, iou_loss = 20.096844, total_loss = 20.920847 \n",
            "v3 (iou loss, Normalizer: (iou: 0.07, cls: 1.00) Region 161 Avg (IOU: 0.757555, GIOU: 0.738150), Class: 0.996890, Obj: 0.942678, No Obj: 0.012599, .5R: 0.875000, .75R: 0.625000, count: 16, class_loss = 0.050514, iou_loss = 0.999132, total_loss = 1.049645 \n",
            " total_bbox = 4554456, rewritten_bbox = 0.005335 % \n",
            "v3 (iou loss, Normalizer: (iou: 0.07, cls: 1.00) Region 139 Avg (IOU: 0.882993, GIOU: 0.881409), Class: 0.995934, Obj: 0.987472, No Obj: 0.003964, .5R: 1.000000, .75R: 1.000000, count: 40, class_loss = 0.041476, iou_loss = 46.921978, total_loss = 46.963455 \n",
            "v3 (iou loss, Normalizer: (iou: 0.07, cls: 1.00) Region 150 Avg (IOU: 0.843061, GIOU: 0.838016), Class: 0.998045, Obj: 0.980436, No Obj: 0.020277, .5R: 1.000000, .75R: 0.896104, count: 77, class_loss = 0.453370, iou_loss = 23.659973, total_loss = 24.113342 \n",
            "v3 (iou loss, Normalizer: (iou: 0.07, cls: 1.00) Region 161 Avg (IOU: 0.752143, GIOU: 0.744141), Class: 0.996338, Obj: 0.899092, No Obj: 0.013033, .5R: 1.000000, .75R: 0.466667, count: 15, class_loss = 0.320283, iou_loss = 0.881467, total_loss = 1.201749 \n",
            " total_bbox = 4554588, rewritten_bbox = 0.005335 % \n",
            "v3 (iou loss, Normalizer: (iou: 0.07, cls: 1.00) Region 139 Avg (IOU: 0.861294, GIOU: 0.859793), Class: 0.995486, Obj: 0.965930, No Obj: 0.004064, .5R: 1.000000, .75R: 0.970588, count: 34, class_loss = 0.383493, iou_loss = 44.243462, total_loss = 44.626953 \n",
            "v3 (iou loss, Normalizer: (iou: 0.07, cls: 1.00) Region 150 Avg (IOU: 0.852174, GIOU: 0.849850), Class: 0.998517, Obj: 0.991758, No Obj: 0.019675, .5R: 1.000000, .75R: 0.896104, count: 77, class_loss = 0.719876, iou_loss = 22.020430, total_loss = 22.740305 \n",
            "v3 (iou loss, Normalizer: (iou: 0.07, cls: 1.00) Region 161 Avg (IOU: 0.639470, GIOU: 0.600455), Class: 0.992959, Obj: 0.920345, No Obj: 0.011609, .5R: 0.866667, .75R: 0.133333, count: 15, class_loss = 0.205312, iou_loss = 0.438262, total_loss = 0.643574 \n",
            " total_bbox = 4554714, rewritten_bbox = 0.005335 % \n",
            "v3 (iou loss, Normalizer: (iou: 0.07, cls: 1.00) Region 139 Avg (IOU: 0.879140, GIOU: 0.877978), Class: 0.993814, Obj: 0.984112, No Obj: 0.004133, .5R: 1.000000, .75R: 1.000000, count: 40, class_loss = 0.032103, iou_loss = 48.169071, total_loss = 48.201176 \n",
            "v3 (iou loss, Normalizer: (iou: 0.07, cls: 1.00) Region 150 Avg (IOU: 0.818768, GIOU: 0.811637), Class: 0.998323, Obj: 0.973206, No Obj: 0.021097, .5R: 1.000000, .75R: 0.790123, count: 81, class_loss = 1.035119, iou_loss = 19.742321, total_loss = 20.777439 \n",
            "v3 (iou loss, Normalizer: (iou: 0.07, cls: 1.00) Region 161 Avg (IOU: 0.764657, GIOU: 0.743727), Class: 0.996886, Obj: 0.880004, No Obj: 0.014207, .5R: 0.894737, .75R: 0.631579, count: 19, class_loss = 0.479385, iou_loss = 1.463080, total_loss = 1.942465 \n",
            " total_bbox = 4554854, rewritten_bbox = 0.005335 % \n",
            "v3 (iou loss, Normalizer: (iou: 0.07, cls: 1.00) Region 139 Avg (IOU: 0.852182, GIOU: 0.846004), Class: 0.993473, Obj: 0.943332, No Obj: 0.008682, .5R: 0.974684, .75R: 0.936709, count: 79, class_loss = 1.094810, iou_loss = 109.526283, total_loss = 110.621094 \n",
            "v3 (iou loss, Normalizer: (iou: 0.07, cls: 1.00) Region 150 Avg (IOU: 0.844621, GIOU: 0.841724), Class: 0.997880, Obj: 0.951098, No Obj: 0.032264, .5R: 1.000000, .75R: 0.909836, count: 122, class_loss = 1.576336, iou_loss = 43.997177, total_loss = 45.573513 \n",
            "v3 (iou loss, Normalizer: (iou: 0.07, cls: 1.00) Region 161 Avg (IOU: 0.676947, GIOU: 0.662670), Class: 0.995306, Obj: 0.907245, No Obj: 0.015483, .5R: 0.944444, .75R: 0.222222, count: 18, class_loss = 0.635991, iou_loss = 0.694502, total_loss = 1.330493 \n",
            " total_bbox = 4555073, rewritten_bbox = 0.005335 % \n",
            "v3 (iou loss, Normalizer: (iou: 0.07, cls: 1.00) Region 139 Avg (IOU: 0.827399, GIOU: 0.822673), Class: 0.987346, Obj: 0.894159, No Obj: 0.008146, .5R: 0.957447, .75R: 0.861702, count: 94, class_loss = 2.340138, iou_loss = 160.420090, total_loss = 162.760223 \n",
            "v3 (iou loss, Normalizer: (iou: 0.07, cls: 1.00) Region 150 Avg (IOU: 0.846117, GIOU: 0.842704), Class: 0.993995, Obj: 0.962851, No Obj: 0.031745, .5R: 1.000000, .75R: 0.867925, count: 106, class_loss = 1.263951, iou_loss = 32.484192, total_loss = 33.748142 \n",
            "v3 (iou loss, Normalizer: (iou: 0.07, cls: 1.00) Region 161 Avg (IOU: 0.787491, GIOU: 0.783191), Class: 0.989287, Obj: 0.899243, No Obj: 0.012632, .5R: 1.000000, .75R: 0.769231, count: 13, class_loss = 0.796034, iou_loss = 0.834549, total_loss = 1.630583 \n",
            " total_bbox = 4555286, rewritten_bbox = 0.005334 % \n",
            "v3 (iou loss, Normalizer: (iou: 0.07, cls: 1.00) Region 139 Avg (IOU: 0.858613, GIOU: 0.855495), Class: 0.988777, Obj: 0.892617, No Obj: 0.011116, .5R: 0.983333, .75R: 0.916667, count: 120, class_loss = 3.519423, iou_loss = 182.326920, total_loss = 185.846344 \n",
            "v3 (iou loss, Normalizer: (iou: 0.07, cls: 1.00) Region 150 Avg (IOU: 0.849214, GIOU: 0.844990), Class: 0.997315, Obj: 0.942348, No Obj: 0.038197, .5R: 1.000000, .75R: 0.914286, count: 140, class_loss = 2.693626, iou_loss = 49.333534, total_loss = 52.027161 \n",
            "v3 (iou loss, Normalizer: (iou: 0.07, cls: 1.00) Region 161 Avg (IOU: 0.702074, GIOU: 0.689175), Class: 0.995428, Obj: 0.916519, No Obj: 0.011638, .5R: 1.000000, .75R: 0.214286, count: 14, class_loss = 0.529319, iou_loss = 0.499140, total_loss = 1.028459 \n",
            " total_bbox = 4555560, rewritten_bbox = 0.005334 % \n",
            "\n",
            " (next mAP calculation at 1500 iterations) \n",
            " Last accuracy mAP@0.5 = 99.99 %, best = 99.99 % \n",
            " 1415: 0.928560, 1.062271 avg loss, 0.001000 rate, 3.701499 seconds, 90560 images, 8.493444 hours left\n",
            "Loaded: 0.502858 seconds - performance bottleneck on CPU or Disk HDD/SSD\n",
            "v3 (iou loss, Normalizer: (iou: 0.07, cls: 1.00) Region 139 Avg (IOU: 0.904778, GIOU: 0.903308), Class: 0.992345, Obj: 0.996409, No Obj: 0.004861, .5R: 1.000000, .75R: 1.000000, count: 52, class_loss = 0.002942, iou_loss = 66.262207, total_loss = 66.265152 \n",
            "v3 (iou loss, Normalizer: (iou: 0.07, cls: 1.00) Region 150 Avg (IOU: 0.876834, GIOU: 0.874167), Class: 0.996912, Obj: 0.989749, No Obj: 0.018919, .5R: 1.000000, .75R: 0.959459, count: 74, class_loss = 0.227612, iou_loss = 26.834841, total_loss = 27.062452 \n",
            "v3 (iou loss, Normalizer: (iou: 0.07, cls: 1.00) Region 161 Avg (IOU: 0.684978, GIOU: 0.659577), Class: 0.986390, Obj: 0.981771, No Obj: 0.008230, .5R: 1.000000, .75R: 0.111111, count: 9, class_loss = 0.335930, iou_loss = 0.287268, total_loss = 0.623199 \n",
            " total_bbox = 4555695, rewritten_bbox = 0.005334 % \n",
            "v3 (iou loss, Normalizer: (iou: 0.07, cls: 1.00) Region 139 Avg (IOU: 0.889808, GIOU: 0.887742), Class: 0.994475, Obj: 0.932723, No Obj: 0.004572, .5R: 1.000000, .75R: 1.000000, count: 40, class_loss = 0.907466, iou_loss = 45.561146, total_loss = 46.468613 \n",
            "v3 (iou loss, Normalizer: (iou: 0.07, cls: 1.00) Region 150 Avg (IOU: 0.865972, GIOU: 0.861465), Class: 0.997721, Obj: 0.973122, No Obj: 0.023524, .5R: 1.000000, .75R: 0.897436, count: 78, class_loss = 0.560760, iou_loss = 24.096281, total_loss = 24.657042 \n",
            "v3 (iou loss, Normalizer: (iou: 0.07, cls: 1.00) Region 161 Avg (IOU: 0.729149, GIOU: 0.707105), Class: 0.993026, Obj: 0.926506, No Obj: 0.013774, .5R: 0.875000, .75R: 0.562500, count: 16, class_loss = 0.251648, iou_loss = 0.916718, total_loss = 1.168367 \n",
            " total_bbox = 4555829, rewritten_bbox = 0.005334 % \n",
            "v3 (iou loss, Normalizer: (iou: 0.07, cls: 1.00) Region 139 Avg (IOU: 0.887495, GIOU: 0.885644), Class: 0.994705, Obj: 0.993979, No Obj: 0.005438, .5R: 1.000000, .75R: 1.000000, count: 61, class_loss = 1.419068, iou_loss = 94.914192, total_loss = 96.333260 \n",
            "v3 (iou loss, Normalizer: (iou: 0.07, cls: 1.00) Region 150 Avg (IOU: 0.868514, GIOU: 0.865198), Class: 0.994527, Obj: 0.984238, No Obj: 0.018599, .5R: 1.000000, .75R: 0.921875, count: 64, class_loss = 0.368662, iou_loss = 23.389366, total_loss = 23.758028 \n",
            "v3 (iou loss, Normalizer: (iou: 0.07, cls: 1.00) Region 161 Avg (IOU: 0.739289, GIOU: 0.730345), Class: 0.991396, Obj: 0.949560, No Obj: 0.005846, .5R: 1.000000, .75R: 0.333333, count: 6, class_loss = 0.017045, iou_loss = 0.236925, total_loss = 0.253970 \n",
            " total_bbox = 4555960, rewritten_bbox = 0.005334 % \n",
            "v3 (iou loss, Normalizer: (iou: 0.07, cls: 1.00) Region 139 Avg (IOU: 0.915676, GIOU: 0.914221), Class: 0.994898, Obj: 0.997786, No Obj: 0.004716, .5R: 1.000000, .75R: 1.000000, count: 44, class_loss = 0.001212, iou_loss = 50.272030, total_loss = 50.273243 \n",
            "v3 (iou loss, Normalizer: (iou: 0.07, cls: 1.00) Region 150 Avg (IOU: 0.877640, GIOU: 0.873824), Class: 0.997645, Obj: 0.988267, No Obj: 0.020400, .5R: 1.000000, .75R: 0.914634, count: 82, class_loss = 0.321437, iou_loss = 23.353552, total_loss = 23.674988 \n",
            "v3 (iou loss, Normalizer: (iou: 0.07, cls: 1.00) Region 161 Avg (IOU: 0.758625, GIOU: 0.743160), Class: 0.991283, Obj: 0.979773, No Obj: 0.010771, .5R: 1.000000, .75R: 0.538462, count: 13, class_loss = 0.119901, iou_loss = 0.550129, total_loss = 0.670031 \n",
            " total_bbox = 4556099, rewritten_bbox = 0.005334 % \n",
            "v3 (iou loss, Normalizer: (iou: 0.07, cls: 1.00) Region 139 Avg (IOU: 0.864160, GIOU: 0.859572), Class: 0.991075, Obj: 0.924111, No Obj: 0.003320, .5R: 1.000000, .75R: 0.875000, count: 32, class_loss = 0.393022, iou_loss = 50.469616, total_loss = 50.862637 \n",
            "v3 (iou loss, Normalizer: (iou: 0.07, cls: 1.00) Region 150 Avg (IOU: 0.863104, GIOU: 0.860999), Class: 0.997837, Obj: 0.965095, No Obj: 0.023278, .5R: 1.000000, .75R: 0.933333, count: 75, class_loss = 0.576261, iou_loss = 20.901459, total_loss = 21.477720 \n",
            "v3 (iou loss, Normalizer: (iou: 0.07, cls: 1.00) Region 161 Avg (IOU: 0.713230, GIOU: 0.688251), Class: 0.996518, Obj: 0.815170, No Obj: 0.016441, .5R: 0.857143, .75R: 0.523810, count: 21, class_loss = 0.617014, iou_loss = 1.625207, total_loss = 2.242221 \n",
            " total_bbox = 4556227, rewritten_bbox = 0.005333 % \n",
            "v3 (iou loss, Normalizer: (iou: 0.07, cls: 1.00) Region 139 Avg (IOU: 0.881306, GIOU: 0.878515), Class: 0.993634, Obj: 0.920050, No Obj: 0.007463, .5R: 1.000000, .75R: 0.935897, count: 78, class_loss = 1.182096, iou_loss = 109.647163, total_loss = 110.829262 \n",
            "v3 (iou loss, Normalizer: (iou: 0.07, cls: 1.00) Region 150 Avg (IOU: 0.872952, GIOU: 0.870253), Class: 0.996572, Obj: 0.945695, No Obj: 0.028406, .5R: 1.000000, .75R: 0.965517, count: 116, class_loss = 1.133536, iou_loss = 40.688232, total_loss = 41.821770 \n",
            "v3 (iou loss, Normalizer: (iou: 0.07, cls: 1.00) Region 161 Avg (IOU: 0.675407, GIOU: 0.650468), Class: 0.997174, Obj: 0.887505, No Obj: 0.013357, .5R: 0.941176, .75R: 0.235294, count: 17, class_loss = 0.425810, iou_loss = 0.515633, total_loss = 0.941443 \n",
            " total_bbox = 4556438, rewritten_bbox = 0.005333 % \n",
            "v3 (iou loss, Normalizer: (iou: 0.07, cls: 1.00) Region 139 Avg (IOU: 0.841648, GIOU: 0.837578), Class: 0.983337, Obj: 0.894182, No Obj: 0.014336, .5R: 1.000000, .75R: 0.895706, count: 163, class_loss = 4.155730, iou_loss = 252.900299, total_loss = 257.056030 \n",
            "v3 (iou loss, Normalizer: (iou: 0.07, cls: 1.00) Region 150 Avg (IOU: 0.847588, GIOU: 0.844295), Class: 0.996867, Obj: 0.945859, No Obj: 0.042577, .5R: 1.000000, .75R: 0.870968, count: 155, class_loss = 1.625766, iou_loss = 58.619942, total_loss = 60.245708 \n",
            "v3 (iou loss, Normalizer: (iou: 0.07, cls: 1.00) Region 161 Avg (IOU: 0.676835, GIOU: 0.661668), Class: 0.993373, Obj: 0.802774, No Obj: 0.011702, .5R: 1.000000, .75R: 0.142857, count: 14, class_loss = 1.430915, iou_loss = 0.773557, total_loss = 2.204472 \n",
            " total_bbox = 4556770, rewritten_bbox = 0.005333 % \n",
            "v3 (iou loss, Normalizer: (iou: 0.07, cls: 1.00) Region 139 Avg (IOU: 0.824273, GIOU: 0.818229), Class: 0.985961, Obj: 0.910398, No Obj: 0.011751, .5R: 0.977273, .75R: 0.810606, count: 132, class_loss = 3.621319, iou_loss = 214.849701, total_loss = 218.471024 \n",
            "v3 (iou loss, Normalizer: (iou: 0.07, cls: 1.00) Region 150 Avg (IOU: 0.850546, GIOU: 0.845969), Class: 0.997577, Obj: 0.948720, No Obj: 0.034924, .5R: 1.000000, .75R: 0.900000, count: 130, class_loss = 1.436630, iou_loss = 49.226761, total_loss = 50.663391 \n",
            "v3 (iou loss, Normalizer: (iou: 0.07, cls: 1.00) Region 161 Avg (IOU: 0.712069, GIOU: 0.695273), Class: 0.989256, Obj: 0.918038, No Obj: 0.011272, .5R: 1.000000, .75R: 0.428571, count: 14, class_loss = 0.709193, iou_loss = 0.502116, total_loss = 1.211308 \n",
            " total_bbox = 4557046, rewritten_bbox = 0.005332 % \n",
            "v3 (iou loss, Normalizer: (iou: 0.07, cls: 1.00) Region 139 Avg (IOU: 0.881442, GIOU: 0.878804), Class: 0.995426, Obj: 0.996125, No Obj: 0.003706, .5R: 1.000000, .75R: 1.000000, count: 43, class_loss = 0.002158, iou_loss = 56.872078, total_loss = 56.874237 \n",
            "v3 (iou loss, Normalizer: (iou: 0.07, cls: 1.00) Region 150 Avg (IOU: 0.868782, GIOU: 0.865843), Class: 0.997730, Obj: 0.995113, No Obj: 0.018182, .5R: 1.000000, .75R: 0.930556, count: 72, class_loss = 0.008278, iou_loss = 23.744852, total_loss = 23.753130 \n",
            "v3 (iou loss, Normalizer: (iou: 0.07, cls: 1.00) Region 161 Avg (IOU: 0.779535, GIOU: 0.765914), Class: 0.996981, Obj: 0.967788, No Obj: 0.010796, .5R: 1.000000, .75R: 0.692308, count: 13, class_loss = 0.307402, iou_loss = 1.059279, total_loss = 1.366681 \n",
            " total_bbox = 4557174, rewritten_bbox = 0.005332 % \n",
            "v3 (iou loss, Normalizer: (iou: 0.07, cls: 1.00) Region 139 Avg (IOU: 0.878485, GIOU: 0.876405), Class: 0.995459, Obj: 0.993673, No Obj: 0.005258, .5R: 1.000000, .75R: 1.000000, count: 52, class_loss = 0.003081, iou_loss = 73.763939, total_loss = 73.767021 \n",
            "v3 (iou loss, Normalizer: (iou: 0.07, cls: 1.00) Region 150 Avg (IOU: 0.857849, GIOU: 0.852482), Class: 0.997825, Obj: 0.976196, No Obj: 0.021116, .5R: 1.000000, .75R: 0.918919, count: 74, class_loss = 0.334426, iou_loss = 25.853563, total_loss = 26.187990 \n",
            "v3 (iou loss, Normalizer: (iou: 0.07, cls: 1.00) Region 161 Avg (IOU: 0.711126, GIOU: 0.689828), Class: 0.995285, Obj: 0.861545, No Obj: 0.010973, .5R: 0.923077, .75R: 0.384615, count: 13, class_loss = 0.678482, iou_loss = 0.532311, total_loss = 1.210793 \n",
            " total_bbox = 4557313, rewritten_bbox = 0.005332 % \n",
            "v3 (iou loss, Normalizer: (iou: 0.07, cls: 1.00) Region 139 Avg (IOU: 0.874683, GIOU: 0.869638), Class: 0.987586, Obj: 0.958290, No Obj: 0.006971, .5R: 0.972603, .75R: 0.958904, count: 73, class_loss = 0.839841, iou_loss = 106.076134, total_loss = 106.915977 \n",
            "v3 (iou loss, Normalizer: (iou: 0.07, cls: 1.00) Region 150 Avg (IOU: 0.849401, GIOU: 0.844086), Class: 0.997120, Obj: 0.971951, No Obj: 0.027685, .5R: 1.000000, .75R: 0.842105, count: 95, class_loss = 1.406603, iou_loss = 33.709515, total_loss = 35.116116 \n",
            "v3 (iou loss, Normalizer: (iou: 0.07, cls: 1.00) Region 161 Avg (IOU: 0.697016, GIOU: 0.677273), Class: 0.995228, Obj: 0.922181, No Obj: 0.015099, .5R: 0.857143, .75R: 0.500000, count: 14, class_loss = 0.727225, iou_loss = 0.813036, total_loss = 1.540262 \n",
            " total_bbox = 4557495, rewritten_bbox = 0.005332 % \n",
            "v3 (iou loss, Normalizer: (iou: 0.07, cls: 1.00) Region 139 Avg (IOU: 0.839574, GIOU: 0.830589), Class: 0.968482, Obj: 0.878375, No Obj: 0.008374, .5R: 0.963415, .75R: 0.902439, count: 82, class_loss = 3.578441, iou_loss = 106.571205, total_loss = 110.149643 \n",
            "v3 (iou loss, Normalizer: (iou: 0.07, cls: 1.00) Region 150 Avg (IOU: 0.853962, GIOU: 0.850360), Class: 0.995944, Obj: 0.965410, No Obj: 0.033602, .5R: 1.000000, .75R: 0.899225, count: 129, class_loss = 0.942398, iou_loss = 44.277260, total_loss = 45.219658 \n",
            "v3 (iou loss, Normalizer: (iou: 0.07, cls: 1.00) Region 161 Avg (IOU: 0.731045, GIOU: 0.716977), Class: 0.995947, Obj: 0.848898, No Obj: 0.015056, .5R: 1.000000, .75R: 0.368421, count: 19, class_loss = 0.785035, iou_loss = 0.959574, total_loss = 1.744609 \n",
            " total_bbox = 4557725, rewritten_bbox = 0.005332 % \n",
            "v3 (iou loss, Normalizer: (iou: 0.07, cls: 1.00) Region 139 Avg (IOU: 0.851395, GIOU: 0.846943), Class: 0.986646, Obj: 0.863523, No Obj: 0.012172, .5R: 0.967480, .75R: 0.894309, count: 123, class_loss = 4.392254, iou_loss = 204.388321, total_loss = 208.780579 \n",
            "v3 (iou loss, Normalizer: (iou: 0.07, cls: 1.00) Region 150 Avg (IOU: 0.850645, GIOU: 0.846409), Class: 0.995548, Obj: 0.958388, No Obj: 0.037186, .5R: 0.992806, .75R: 0.899281, count: 139, class_loss = 2.424681, iou_loss = 48.359787, total_loss = 50.784470 \n",
            "v3 (iou loss, Normalizer: (iou: 0.07, cls: 1.00) Region 161 Avg (IOU: 0.749569, GIOU: 0.732153), Class: 0.990788, Obj: 0.885464, No Obj: 0.014428, .5R: 1.000000, .75R: 0.571429, count: 14, class_loss = 1.246531, iou_loss = 0.540535, total_loss = 1.787066 \n",
            " total_bbox = 4558001, rewritten_bbox = 0.005331 % \n",
            "v3 (iou loss, Normalizer: (iou: 0.07, cls: 1.00) Region 139 Avg (IOU: 0.833184, GIOU: 0.827034), Class: 0.992070, Obj: 0.880205, No Obj: 0.009296, .5R: 0.970297, .75R: 0.841584, count: 101, class_loss = 3.226226, iou_loss = 174.236938, total_loss = 177.463165 \n",
            "v3 (iou loss, Normalizer: (iou: 0.07, cls: 1.00) Region 150 Avg (IOU: 0.855719, GIOU: 0.852144), Class: 0.997686, Obj: 0.952711, No Obj: 0.031364, .5R: 1.000000, .75R: 0.895652, count: 115, class_loss = 1.602769, iou_loss = 43.318134, total_loss = 44.920902 \n",
            "v3 (iou loss, Normalizer: (iou: 0.07, cls: 1.00) Region 161 Avg (IOU: 0.711998, GIOU: 0.694086), Class: 0.988491, Obj: 0.956259, No Obj: 0.013606, .5R: 0.937500, .75R: 0.437500, count: 16, class_loss = 0.397760, iou_loss = 0.957665, total_loss = 1.355425 \n",
            " total_bbox = 4558233, rewritten_bbox = 0.005331 % \n",
            "v3 (iou loss, Normalizer: (iou: 0.07, cls: 1.00) Region 139 Avg (IOU: 0.844941, GIOU: 0.839580), Class: 0.978996, Obj: 0.914591, No Obj: 0.008053, .5R: 0.979167, .75R: 0.916667, count: 96, class_loss = 2.619452, iou_loss = 169.880829, total_loss = 172.500275 \n",
            "v3 (iou loss, Normalizer: (iou: 0.07, cls: 1.00) Region 150 Avg (IOU: 0.859946, GIOU: 0.856713), Class: 0.995517, Obj: 0.949207, No Obj: 0.025863, .5R: 1.000000, .75R: 0.913979, count: 93, class_loss = 1.542252, iou_loss = 32.234772, total_loss = 33.777023 \n",
            "v3 (iou loss, Normalizer: (iou: 0.07, cls: 1.00) Region 161 Avg (IOU: 0.720540, GIOU: 0.710460), Class: 0.992474, Obj: 0.932470, No Obj: 0.008947, .5R: 1.000000, .75R: 0.363636, count: 11, class_loss = 0.219355, iou_loss = 0.425282, total_loss = 0.644637 \n",
            " total_bbox = 4558433, rewritten_bbox = 0.005331 % \n",
            "v3 (iou loss, Normalizer: (iou: 0.07, cls: 1.00) Region 139 Avg (IOU: 0.853098, GIOU: 0.847585), Class: 0.990284, Obj: 0.882700, No Obj: 0.008203, .5R: 1.000000, .75R: 0.888889, count: 90, class_loss = 2.062412, iou_loss = 139.544312, total_loss = 141.606720 \n",
            "v3 (iou loss, Normalizer: (iou: 0.07, cls: 1.00) Region 150 Avg (IOU: 0.840161, GIOU: 0.835875), Class: 0.997149, Obj: 0.958470, No Obj: 0.027502, .5R: 1.000000, .75R: 0.892157, count: 102, class_loss = 1.134124, iou_loss = 38.416859, total_loss = 39.550983 \n",
            "v3 (iou loss, Normalizer: (iou: 0.07, cls: 1.00) Region 161 Avg (IOU: 0.714720, GIOU: 0.689279), Class: 0.982285, Obj: 0.979589, No Obj: 0.007726, .5R: 0.857143, .75R: 0.571429, count: 7, class_loss = 0.309355, iou_loss = 0.523302, total_loss = 0.832657 \n",
            " total_bbox = 4558632, rewritten_bbox = 0.005331 % \n",
            "\n",
            " (next mAP calculation at 1500 iterations) \n",
            " Last accuracy mAP@0.5 = 99.99 %, best = 99.99 % \n",
            " 1416: 1.099724, 1.066016 avg loss, 0.001000 rate, 3.270643 seconds, 90624 images, 8.455653 hours left\n",
            "Loaded: 0.000046 seconds\n",
            "v3 (iou loss, Normalizer: (iou: 0.07, cls: 1.00) Region 139 Avg (IOU: 0.868763, GIOU: 0.867605), Class: 0.994750, Obj: 0.971831, No Obj: 0.004290, .5R: 1.000000, .75R: 1.000000, count: 40, class_loss = 0.239005, iou_loss = 58.449791, total_loss = 58.688797 \n",
            "v3 (iou loss, Normalizer: (iou: 0.07, cls: 1.00) Region 150 Avg (IOU: 0.879119, GIOU: 0.876985), Class: 0.997941, Obj: 0.994775, No Obj: 0.019709, .5R: 1.000000, .75R: 0.944444, count: 72, class_loss = 0.002536, iou_loss = 27.122999, total_loss = 27.125536 \n",
            "v3 (iou loss, Normalizer: (iou: 0.07, cls: 1.00) Region 161 Avg (IOU: 0.708781, GIOU: 0.684483), Class: 0.993291, Obj: 0.913830, No Obj: 0.011981, .5R: 0.875000, .75R: 0.375000, count: 16, class_loss = 0.138023, iou_loss = 1.053243, total_loss = 1.191266 \n",
            " total_bbox = 4558760, rewritten_bbox = 0.005330 % \n",
            "v3 (iou loss, Normalizer: (iou: 0.07, cls: 1.00) Region 139 Avg (IOU: 0.855976, GIOU: 0.855024), Class: 0.996681, Obj: 0.987640, No Obj: 0.005145, .5R: 1.000000, .75R: 0.964286, count: 56, class_loss = 0.016427, iou_loss = 85.886497, total_loss = 85.902924 \n",
            "v3 (iou loss, Normalizer: (iou: 0.07, cls: 1.00) Region 150 Avg (IOU: 0.868556, GIOU: 0.867123), Class: 0.997899, Obj: 0.971160, No Obj: 0.021117, .5R: 1.000000, .75R: 0.930556, count: 72, class_loss = 0.384590, iou_loss = 28.955587, total_loss = 29.340178 \n",
            "v3 (iou loss, Normalizer: (iou: 0.07, cls: 1.00) Region 161 Avg (IOU: 0.686787, GIOU: 0.659809), Class: 0.995092, Obj: 0.927702, No Obj: 0.009377, .5R: 1.000000, .75R: 0.200000, count: 10, class_loss = 0.293471, iou_loss = 0.321034, total_loss = 0.614505 \n",
            " total_bbox = 4558898, rewritten_bbox = 0.005330 % \n",
            "v3 (iou loss, Normalizer: (iou: 0.07, cls: 1.00) Region 139 Avg (IOU: 0.860728, GIOU: 0.859134), Class: 0.991908, Obj: 0.986055, No Obj: 0.004988, .5R: 1.000000, .75R: 0.983051, count: 59, class_loss = 0.080084, iou_loss = 88.080292, total_loss = 88.160378 \n",
            "v3 (iou loss, Normalizer: (iou: 0.07, cls: 1.00) Region 150 Avg (IOU: 0.854072, GIOU: 0.852566), Class: 0.994902, Obj: 0.990987, No Obj: 0.016552, .5R: 1.000000, .75R: 0.896552, count: 58, class_loss = 0.121485, iou_loss = 21.416044, total_loss = 21.537529 \n",
            "v3 (iou loss, Normalizer: (iou: 0.07, cls: 1.00) Region 161 Avg (IOU: 0.706745, GIOU: 0.691687), Class: 0.986661, Obj: 0.912329, No Obj: 0.006933, .5R: 1.000000, .75R: 0.285714, count: 7, class_loss = 0.531007, iou_loss = 0.303042, total_loss = 0.834048 \n",
            " total_bbox = 4559022, rewritten_bbox = 0.005330 % \n",
            "v3 (iou loss, Normalizer: (iou: 0.07, cls: 1.00) Region 139 Avg (IOU: 0.870451, GIOU: 0.868734), Class: 0.996178, Obj: 0.993710, No Obj: 0.005008, .5R: 1.000000, .75R: 0.954545, count: 44, class_loss = 0.308907, iou_loss = 50.157856, total_loss = 50.466763 \n",
            "v3 (iou loss, Normalizer: (iou: 0.07, cls: 1.00) Region 150 Avg (IOU: 0.870181, GIOU: 0.867815), Class: 0.997421, Obj: 0.985855, No Obj: 0.021978, .5R: 1.000000, .75R: 0.949367, count: 79, class_loss = 0.200635, iou_loss = 24.684738, total_loss = 24.885372 \n",
            "v3 (iou loss, Normalizer: (iou: 0.07, cls: 1.00) Region 161 Avg (IOU: 0.656018, GIOU: 0.627731), Class: 0.994500, Obj: 0.874727, No Obj: 0.011809, .5R: 0.933333, .75R: 0.200000, count: 15, class_loss = 0.526915, iou_loss = 0.479522, total_loss = 1.006438 \n",
            " total_bbox = 4559160, rewritten_bbox = 0.005330 % \n",
            "v3 (iou loss, Normalizer: (iou: 0.07, cls: 1.00) Region 139 Avg (IOU: 0.873022, GIOU: 0.871984), Class: 0.994052, Obj: 0.995403, No Obj: 0.005938, .5R: 1.000000, .75R: 0.982143, count: 56, class_loss = 0.021023, iou_loss = 76.424072, total_loss = 76.445099 \n",
            "v3 (iou loss, Normalizer: (iou: 0.07, cls: 1.00) Region 150 Avg (IOU: 0.867495, GIOU: 0.864718), Class: 0.997649, Obj: 0.988669, No Obj: 0.020302, .5R: 1.000000, .75R: 0.929577, count: 71, class_loss = 0.127473, iou_loss = 26.918074, total_loss = 27.045547 \n",
            "v3 (iou loss, Normalizer: (iou: 0.07, cls: 1.00) Region 161 Avg (IOU: 0.683424, GIOU: 0.661195), Class: 0.993522, Obj: 0.970710, No Obj: 0.007982, .5R: 1.000000, .75R: 0.100000, count: 10, class_loss = 0.040252, iou_loss = 0.328233, total_loss = 0.368485 \n",
            " total_bbox = 4559297, rewritten_bbox = 0.005330 % \n",
            "v3 (iou loss, Normalizer: (iou: 0.07, cls: 1.00) Region 139 Avg (IOU: 0.864132, GIOU: 0.862671), Class: 0.995100, Obj: 0.981954, No Obj: 0.004668, .5R: 1.000000, .75R: 0.973684, count: 38, class_loss = 0.141748, iou_loss = 44.742947, total_loss = 44.884693 \n",
            "v3 (iou loss, Normalizer: (iou: 0.07, cls: 1.00) Region 150 Avg (IOU: 0.875890, GIOU: 0.873546), Class: 0.998494, Obj: 0.982696, No Obj: 0.021886, .5R: 1.000000, .75R: 0.925000, count: 80, class_loss = 0.455960, iou_loss = 24.855406, total_loss = 25.311365 \n",
            "v3 (iou loss, Normalizer: (iou: 0.07, cls: 1.00) Region 161 Avg (IOU: 0.723724, GIOU: 0.697033), Class: 0.996561, Obj: 0.953825, No Obj: 0.012733, .5R: 0.941176, .75R: 0.411765, count: 17, class_loss = 0.166754, iou_loss = 1.097701, total_loss = 1.264454 \n",
            " total_bbox = 4559432, rewritten_bbox = 0.005330 % \n",
            "v3 (iou loss, Normalizer: (iou: 0.07, cls: 1.00) Region 139 Avg (IOU: 0.878138, GIOU: 0.875720), Class: 0.994590, Obj: 0.981818, No Obj: 0.003923, .5R: 1.000000, .75R: 0.971429, count: 35, class_loss = 0.090499, iou_loss = 42.929367, total_loss = 43.019867 \n",
            "v3 (iou loss, Normalizer: (iou: 0.07, cls: 1.00) Region 150 Avg (IOU: 0.874424, GIOU: 0.872362), Class: 0.998011, Obj: 0.981995, No Obj: 0.020988, .5R: 0.987013, .75R: 0.974026, count: 77, class_loss = 0.475754, iou_loss = 23.927376, total_loss = 24.403130 \n",
            "v3 (iou loss, Normalizer: (iou: 0.07, cls: 1.00) Region 161 Avg (IOU: 0.669444, GIOU: 0.640235), Class: 0.993976, Obj: 0.867681, No Obj: 0.013626, .5R: 0.842105, .75R: 0.473684, count: 19, class_loss = 0.698380, iou_loss = 0.894528, total_loss = 1.592908 \n",
            " total_bbox = 4559563, rewritten_bbox = 0.005329 % \n",
            "v3 (iou loss, Normalizer: (iou: 0.07, cls: 1.00) Region 139 Avg (IOU: 0.872029, GIOU: 0.869915), Class: 0.995583, Obj: 0.992071, No Obj: 0.003592, .5R: 1.000000, .75R: 0.974359, count: 39, class_loss = 0.011082, iou_loss = 45.087105, total_loss = 45.098186 \n",
            "v3 (iou loss, Normalizer: (iou: 0.07, cls: 1.00) Region 150 Avg (IOU: 0.869464, GIOU: 0.867363), Class: 0.998428, Obj: 0.969060, No Obj: 0.021348, .5R: 1.000000, .75R: 0.948052, count: 77, class_loss = 0.835089, iou_loss = 23.996258, total_loss = 24.831347 \n",
            "v3 (iou loss, Normalizer: (iou: 0.07, cls: 1.00) Region 161 Avg (IOU: 0.694619, GIOU: 0.666286), Class: 0.994210, Obj: 0.916111, No Obj: 0.013059, .5R: 0.875000, .75R: 0.437500, count: 16, class_loss = 0.097135, iou_loss = 0.846653, total_loss = 0.943788 \n",
            " total_bbox = 4559695, rewritten_bbox = 0.005329 % \n",
            "^C\n"
          ],
          "name": "stdout"
        }
      ]
    },
    {
      "cell_type": "code",
      "metadata": {
        "id": "DA-jNLzuVsdA",
        "colab_type": "code",
        "colab": {}
      },
      "source": [
        "imShow('chart.png')"
      ],
      "execution_count": null,
      "outputs": []
    },
    {
      "cell_type": "code",
      "metadata": {
        "id": "_llTQhNsTGfw",
        "colab_type": "code",
        "colab": {}
      },
      "source": [
        "!cp cfg/yolov4-custom.cfg /content/drive/My\\ Drive/20200722/yolov4-custom.cfg"
      ],
      "execution_count": null,
      "outputs": []
    },
    {
      "cell_type": "code",
      "metadata": {
        "id": "Cpx3ZSxeIadR",
        "colab_type": "code",
        "colab": {}
      },
      "source": [
        "!mkdir /content/drive/My\\ Drive/20200722/yolow_backup"
      ],
      "execution_count": null,
      "outputs": []
    },
    {
      "cell_type": "code",
      "metadata": {
        "id": "M02UDSerIkiO",
        "colab_type": "code",
        "colab": {}
      },
      "source": [
        "!cp /content/darknet/backup/* /content/drive/My\\ Drive/20200724/yolo_backup"
      ],
      "execution_count": 121,
      "outputs": []
    },
    {
      "cell_type": "code",
      "metadata": {
        "id": "bxb3LLxpItgU",
        "colab_type": "code",
        "colab": {}
      },
      "source": [
        ""
      ],
      "execution_count": null,
      "outputs": []
    },
    {
      "cell_type": "markdown",
      "metadata": {
        "id": "FOUEA4_pJJ5E",
        "colab_type": "text"
      },
      "source": [
        "# Detections"
      ]
    },
    {
      "cell_type": "markdown",
      "metadata": {
        "id": "N4qwh0S0QJPi",
        "colab_type": "text"
      },
      "source": [
        "### Import existing model"
      ]
    },
    {
      "cell_type": "code",
      "metadata": {
        "id": "Fd1KwfE2QIFu",
        "colab_type": "code",
        "colab": {}
      },
      "source": [
        "_data_path = 'data/obj.data'\n",
        "_cfg_path = 'cfg/yolov4-custom.cfg'\n",
        "_weight_path = '/content/drive/My\\ Drive/20200722/yolow_backup/yolov4-custom_best.weights'"
      ],
      "execution_count": 115,
      "outputs": []
    },
    {
      "cell_type": "code",
      "metadata": {
        "id": "dz53gChkYHIJ",
        "colab_type": "code",
        "colab": {}
      },
      "source": [
        "img_path = '/content/fps_5_frame_0014.jpg'\n",
        "# !./darknet detector map data/obj.data cfg/yolov4-custom.cfg /content/darknet/backup/yolov4-custom_last.weights {img_path} -thresh 0.3 -dont_show #-out /content/my_img.jpg\n",
        "# !./darknet detector test data/obj.data cfg/yolov4-custom.cfg \\\n",
        "#         /content/darknet/backup/yolov4-custom_last.weights {img_path} \\\n",
        "#         -thresh 0.1 -dont_show #-out /content/my_img.jpg\n",
        "!./darknet detector test data/obj.data cfg/yolov4-custom.cfg \\\n",
        "        {weight_path} {img_path} \\\n",
        "        -thresh 0.1 -dont_show #-out /content/my_img.jpg\n",
        "\n",
        "imShow('predictions.jpg')"
      ],
      "execution_count": null,
      "outputs": []
    },
    {
      "cell_type": "code",
      "metadata": {
        "id": "PQ7mhKn2Oavg",
        "colab_type": "code",
        "colab": {}
      },
      "source": [
        "video_path = '/content/drive/My\\ Drive/20200724/VID_20200722_115436_stabiilizo_annot.mp4'\n",
        "!./darknet detector demo data/obj.data cfg/yolov4-custom.cfg \\\n",
        "    /content/darknet/backup/yolov4-custom_last.weights -dont_show {video_path} -i 0 -out_filename /content/results.avi -thresh 0.1"
      ],
      "execution_count": null,
      "outputs": []
    },
    {
      "cell_type": "code",
      "metadata": {
        "id": "oTDBsqEMPDwA",
        "colab_type": "code",
        "colab": {
          "base_uri": "https://localhost:8080/",
          "height": 34
        },
        "outputId": "4eb6cb05-e85b-4c40-ad92-e4f7d729be22"
      },
      "source": [
        "!cp ./results.avi /content/drive/My\\ Drive/20200722/"
      ],
      "execution_count": 119,
      "outputs": [
        {
          "output_type": "stream",
          "text": [
            "^C\n"
          ],
          "name": "stdout"
        }
      ]
    },
    {
      "cell_type": "code",
      "metadata": {
        "id": "pyww7uRyR24_",
        "colab_type": "code",
        "colab": {}
      },
      "source": [
        "!cp data/obj.data /content/drive/My\\ Drive/20200722/yolow_backup\n",
        "!cp cfg/yolov4-custom.cfg /content/drive/My\\ Drive/20200722/yolow_backup"
      ],
      "execution_count": null,
      "outputs": []
    },
    {
      "cell_type": "markdown",
      "metadata": {
        "id": "r0VMxE6KRZwx",
        "colab_type": "text"
      },
      "source": [
        "# Generate annotations"
      ]
    },
    {
      "cell_type": "code",
      "metadata": {
        "id": "jnC_1i22VU5i",
        "colab_type": "code",
        "colab": {}
      },
      "source": [
        "import os\n",
        "import shutil"
      ],
      "execution_count": 16,
      "outputs": []
    },
    {
      "cell_type": "markdown",
      "metadata": {
        "id": "e8npqP2ThCO6",
        "colab_type": "text"
      },
      "source": [
        "## Convert Video to frames and create frame_list.txt "
      ]
    },
    {
      "cell_type": "code",
      "metadata": {
        "id": "CsYBju1jtLSk",
        "colab_type": "code",
        "colab": {}
      },
      "source": [
        "def create_empty_dir(dir):\n",
        "    if os.path.isdir(dir):\n",
        "        shutil.rmtree(dir)    \n",
        "    os.mkdir(dir)"
      ],
      "execution_count": 97,
      "outputs": []
    },
    {
      "cell_type": "code",
      "metadata": {
        "id": "5SUhCTjAU3gd",
        "colab_type": "code",
        "colab": {}
      },
      "source": [
        "%%capture\n",
        "# Video to frames\n",
        "frame_dir = '/content/frames'\n",
        "input_video = '/content/VID_20200722_115436_stabiilizo_annot.mp4'\n",
        "# clear folder if exsists\n",
        "# if os.path.isdir(frame_dir):\n",
        "#     shutil.rmtree(frame_dir)    \n",
        "# os.mkdir(frame_dir)\n",
        "create_empty_dir(frame_dir)\n",
        "\n",
        "fps = 15\n",
        "frames_name = os.path.join(frame_dir, \"fps_{}_frame_%04d.jpg\".format(fps))\n",
        "!ffmpeg -i {input_video} -vf fps={fps} -qscale:v 2 {frames_name}"
      ],
      "execution_count": 98,
      "outputs": []
    },
    {
      "cell_type": "code",
      "metadata": {
        "id": "7IGvvj3uXuDl",
        "colab_type": "code",
        "colab": {
          "base_uri": "https://localhost:8080/",
          "height": 34
        },
        "outputId": "a33681d7-4c60-415c-e1d4-3b777762a46f"
      },
      "source": [
        "from os import listdir\n",
        "from os.path import isfile, join\n",
        "\n",
        "frame_list_file = '/content/frames_list.txt'\n",
        "\n",
        "frame_list = [join(frame_dir, f) for f in listdir(frame_dir) if isfile(join(frame_dir, f)) and f.split(\".\")[-1] == 'jpg']\n",
        "print(len(frame_list))\n",
        "# print(frame_list)\n",
        "\n",
        "with open(frame_list_file, 'w') as f:\n",
        "    for frame_path in frame_list:\n",
        "        f.write(frame_path + \"\\n\")"
      ],
      "execution_count": 102,
      "outputs": [
        {
          "output_type": "stream",
          "text": [
            "322\n"
          ],
          "name": "stdout"
        }
      ]
    },
    {
      "cell_type": "code",
      "metadata": {
        "id": "wM1ojBDfRazB",
        "colab_type": "code",
        "colab": {
          "base_uri": "https://localhost:8080/",
          "height": 1000
        },
        "outputId": "e33248f1-6cd1-4b9c-c2a8-c1cbef51d8ea"
      },
      "source": [
        "!./darknet detector test {_data_path} {_cfg_path} {_weight_path} -dont_show -out /content/result.json -ext_output <{frame_list_file}> /content/result.txt -thresh 0.1"
      ],
      "execution_count": 103,
      "outputs": [
        {
          "output_type": "stream",
          "text": [
            " CUDA-version: 10010 (10010), cuDNN: 7.6.5, CUDNN_HALF=1, GPU count: 1  \n",
            " OpenCV version: 3.2.0\n",
            " 0 : compute_capability = 600, cudnn_half = 0, GPU: Tesla P100-PCIE-16GB \n",
            "   layer   filters  size/strd(dil)      input                output\n",
            "   0 conv     32       3 x 3/ 1    416 x 416 x   3 ->  416 x 416 x  32 0.299 BF\n",
            "   1 conv     64       3 x 3/ 2    416 x 416 x  32 ->  208 x 208 x  64 1.595 BF\n",
            "   2 conv     64       1 x 1/ 1    208 x 208 x  64 ->  208 x 208 x  64 0.354 BF\n",
            "   3 route  1 \t\t                           ->  208 x 208 x  64 \n",
            "   4 conv     64       1 x 1/ 1    208 x 208 x  64 ->  208 x 208 x  64 0.354 BF\n",
            "   5 conv     32       1 x 1/ 1    208 x 208 x  64 ->  208 x 208 x  32 0.177 BF\n",
            "   6 conv     64       3 x 3/ 1    208 x 208 x  32 ->  208 x 208 x  64 1.595 BF\n",
            "   7 Shortcut Layer: 4,  wt = 0, wn = 0, outputs: 208 x 208 x  64 0.003 BF\n",
            "   8 conv     64       1 x 1/ 1    208 x 208 x  64 ->  208 x 208 x  64 0.354 BF\n",
            "   9 route  8 2 \t                           ->  208 x 208 x 128 \n",
            "  10 conv     64       1 x 1/ 1    208 x 208 x 128 ->  208 x 208 x  64 0.709 BF\n",
            "  11 conv    128       3 x 3/ 2    208 x 208 x  64 ->  104 x 104 x 128 1.595 BF\n",
            "  12 conv     64       1 x 1/ 1    104 x 104 x 128 ->  104 x 104 x  64 0.177 BF\n",
            "  13 route  11 \t\t                           ->  104 x 104 x 128 \n",
            "  14 conv     64       1 x 1/ 1    104 x 104 x 128 ->  104 x 104 x  64 0.177 BF\n",
            "  15 conv     64       1 x 1/ 1    104 x 104 x  64 ->  104 x 104 x  64 0.089 BF\n",
            "  16 conv     64       3 x 3/ 1    104 x 104 x  64 ->  104 x 104 x  64 0.797 BF\n",
            "  17 Shortcut Layer: 14,  wt = 0, wn = 0, outputs: 104 x 104 x  64 0.001 BF\n",
            "  18 conv     64       1 x 1/ 1    104 x 104 x  64 ->  104 x 104 x  64 0.089 BF\n",
            "  19 conv     64       3 x 3/ 1    104 x 104 x  64 ->  104 x 104 x  64 0.797 BF\n",
            "  20 Shortcut Layer: 17,  wt = 0, wn = 0, outputs: 104 x 104 x  64 0.001 BF\n",
            "  21 conv     64       1 x 1/ 1    104 x 104 x  64 ->  104 x 104 x  64 0.089 BF\n",
            "  22 route  21 12 \t                           ->  104 x 104 x 128 \n",
            "  23 conv    128       1 x 1/ 1    104 x 104 x 128 ->  104 x 104 x 128 0.354 BF\n",
            "  24 conv    256       3 x 3/ 2    104 x 104 x 128 ->   52 x  52 x 256 1.595 BF\n",
            "  25 conv    128       1 x 1/ 1     52 x  52 x 256 ->   52 x  52 x 128 0.177 BF\n",
            "  26 route  24 \t\t                           ->   52 x  52 x 256 \n",
            "  27 conv    128       1 x 1/ 1     52 x  52 x 256 ->   52 x  52 x 128 0.177 BF\n",
            "  28 conv    128       1 x 1/ 1     52 x  52 x 128 ->   52 x  52 x 128 0.089 BF\n",
            "  29 conv    128       3 x 3/ 1     52 x  52 x 128 ->   52 x  52 x 128 0.797 BF\n",
            "  30 Shortcut Layer: 27,  wt = 0, wn = 0, outputs:  52 x  52 x 128 0.000 BF\n",
            "  31 conv    128       1 x 1/ 1     52 x  52 x 128 ->   52 x  52 x 128 0.089 BF\n",
            "  32 conv    128       3 x 3/ 1     52 x  52 x 128 ->   52 x  52 x 128 0.797 BF\n",
            "  33 Shortcut Layer: 30,  wt = 0, wn = 0, outputs:  52 x  52 x 128 0.000 BF\n",
            "  34 conv    128       1 x 1/ 1     52 x  52 x 128 ->   52 x  52 x 128 0.089 BF\n",
            "  35 conv    128       3 x 3/ 1     52 x  52 x 128 ->   52 x  52 x 128 0.797 BF\n",
            "  36 Shortcut Layer: 33,  wt = 0, wn = 0, outputs:  52 x  52 x 128 0.000 BF\n",
            "  37 conv    128       1 x 1/ 1     52 x  52 x 128 ->   52 x  52 x 128 0.089 BF\n",
            "  38 conv    128       3 x 3/ 1     52 x  52 x 128 ->   52 x  52 x 128 0.797 BF\n",
            "  39 Shortcut Layer: 36,  wt = 0, wn = 0, outputs:  52 x  52 x 128 0.000 BF\n",
            "  40 conv    128       1 x 1/ 1     52 x  52 x 128 ->   52 x  52 x 128 0.089 BF\n",
            "  41 conv    128       3 x 3/ 1     52 x  52 x 128 ->   52 x  52 x 128 0.797 BF\n",
            "  42 Shortcut Layer: 39,  wt = 0, wn = 0, outputs:  52 x  52 x 128 0.000 BF\n",
            "  43 conv    128       1 x 1/ 1     52 x  52 x 128 ->   52 x  52 x 128 0.089 BF\n",
            "  44 conv    128       3 x 3/ 1     52 x  52 x 128 ->   52 x  52 x 128 0.797 BF\n",
            "  45 Shortcut Layer: 42,  wt = 0, wn = 0, outputs:  52 x  52 x 128 0.000 BF\n",
            "  46 conv    128       1 x 1/ 1     52 x  52 x 128 ->   52 x  52 x 128 0.089 BF\n",
            "  47 conv    128       3 x 3/ 1     52 x  52 x 128 ->   52 x  52 x 128 0.797 BF\n",
            "  48 Shortcut Layer: 45,  wt = 0, wn = 0, outputs:  52 x  52 x 128 0.000 BF\n",
            "  49 conv    128       1 x 1/ 1     52 x  52 x 128 ->   52 x  52 x 128 0.089 BF\n",
            "  50 conv    128       3 x 3/ 1     52 x  52 x 128 ->   52 x  52 x 128 0.797 BF\n",
            "  51 Shortcut Layer: 48,  wt = 0, wn = 0, outputs:  52 x  52 x 128 0.000 BF\n",
            "  52 conv    128       1 x 1/ 1     52 x  52 x 128 ->   52 x  52 x 128 0.089 BF\n",
            "  53 route  52 25 \t                           ->   52 x  52 x 256 \n",
            "  54 conv    256       1 x 1/ 1     52 x  52 x 256 ->   52 x  52 x 256 0.354 BF\n",
            "  55 conv    512       3 x 3/ 2     52 x  52 x 256 ->   26 x  26 x 512 1.595 BF\n",
            "  56 conv    256       1 x 1/ 1     26 x  26 x 512 ->   26 x  26 x 256 0.177 BF\n",
            "  57 route  55 \t\t                           ->   26 x  26 x 512 \n",
            "  58 conv    256       1 x 1/ 1     26 x  26 x 512 ->   26 x  26 x 256 0.177 BF\n",
            "  59 conv    256       1 x 1/ 1     26 x  26 x 256 ->   26 x  26 x 256 0.089 BF\n",
            "  60 conv    256       3 x 3/ 1     26 x  26 x 256 ->   26 x  26 x 256 0.797 BF\n",
            "  61 Shortcut Layer: 58,  wt = 0, wn = 0, outputs:  26 x  26 x 256 0.000 BF\n",
            "  62 conv    256       1 x 1/ 1     26 x  26 x 256 ->   26 x  26 x 256 0.089 BF\n",
            "  63 conv    256       3 x 3/ 1     26 x  26 x 256 ->   26 x  26 x 256 0.797 BF\n",
            "  64 Shortcut Layer: 61,  wt = 0, wn = 0, outputs:  26 x  26 x 256 0.000 BF\n",
            "  65 conv    256       1 x 1/ 1     26 x  26 x 256 ->   26 x  26 x 256 0.089 BF\n",
            "  66 conv    256       3 x 3/ 1     26 x  26 x 256 ->   26 x  26 x 256 0.797 BF\n",
            "  67 Shortcut Layer: 64,  wt = 0, wn = 0, outputs:  26 x  26 x 256 0.000 BF\n",
            "  68 conv    256       1 x 1/ 1     26 x  26 x 256 ->   26 x  26 x 256 0.089 BF\n",
            "  69 conv    256       3 x 3/ 1     26 x  26 x 256 ->   26 x  26 x 256 0.797 BF\n",
            "  70 Shortcut Layer: 67,  wt = 0, wn = 0, outputs:  26 x  26 x 256 0.000 BF\n",
            "  71 conv    256       1 x 1/ 1     26 x  26 x 256 ->   26 x  26 x 256 0.089 BF\n",
            "  72 conv    256       3 x 3/ 1     26 x  26 x 256 ->   26 x  26 x 256 0.797 BF\n",
            "  73 Shortcut Layer: 70,  wt = 0, wn = 0, outputs:  26 x  26 x 256 0.000 BF\n",
            "  74 conv    256       1 x 1/ 1     26 x  26 x 256 ->   26 x  26 x 256 0.089 BF\n",
            "  75 conv    256       3 x 3/ 1     26 x  26 x 256 ->   26 x  26 x 256 0.797 BF\n",
            "  76 Shortcut Layer: 73,  wt = 0, wn = 0, outputs:  26 x  26 x 256 0.000 BF\n",
            "  77 conv    256       1 x 1/ 1     26 x  26 x 256 ->   26 x  26 x 256 0.089 BF\n",
            "  78 conv    256       3 x 3/ 1     26 x  26 x 256 ->   26 x  26 x 256 0.797 BF\n",
            "  79 Shortcut Layer: 76,  wt = 0, wn = 0, outputs:  26 x  26 x 256 0.000 BF\n",
            "  80 conv    256       1 x 1/ 1     26 x  26 x 256 ->   26 x  26 x 256 0.089 BF\n",
            "  81 conv    256       3 x 3/ 1     26 x  26 x 256 ->   26 x  26 x 256 0.797 BF\n",
            "  82 Shortcut Layer: 79,  wt = 0, wn = 0, outputs:  26 x  26 x 256 0.000 BF\n",
            "  83 conv    256       1 x 1/ 1     26 x  26 x 256 ->   26 x  26 x 256 0.089 BF\n",
            "  84 route  83 56 \t                           ->   26 x  26 x 512 \n",
            "  85 conv    512       1 x 1/ 1     26 x  26 x 512 ->   26 x  26 x 512 0.354 BF\n",
            "  86 conv   1024       3 x 3/ 2     26 x  26 x 512 ->   13 x  13 x1024 1.595 BF\n",
            "  87 conv    512       1 x 1/ 1     13 x  13 x1024 ->   13 x  13 x 512 0.177 BF\n",
            "  88 route  86 \t\t                           ->   13 x  13 x1024 \n",
            "  89 conv    512       1 x 1/ 1     13 x  13 x1024 ->   13 x  13 x 512 0.177 BF\n",
            "  90 conv    512       1 x 1/ 1     13 x  13 x 512 ->   13 x  13 x 512 0.089 BF\n",
            "  91 conv    512       3 x 3/ 1     13 x  13 x 512 ->   13 x  13 x 512 0.797 BF\n",
            "  92 Shortcut Layer: 89,  wt = 0, wn = 0, outputs:  13 x  13 x 512 0.000 BF\n",
            "  93 conv    512       1 x 1/ 1     13 x  13 x 512 ->   13 x  13 x 512 0.089 BF\n",
            "  94 conv    512       3 x 3/ 1     13 x  13 x 512 ->   13 x  13 x 512 0.797 BF\n",
            "  95 Shortcut Layer: 92,  wt = 0, wn = 0, outputs:  13 x  13 x 512 0.000 BF\n",
            "  96 conv    512       1 x 1/ 1     13 x  13 x 512 ->   13 x  13 x 512 0.089 BF\n",
            "  97 conv    512       3 x 3/ 1     13 x  13 x 512 ->   13 x  13 x 512 0.797 BF\n",
            "  98 Shortcut Layer: 95,  wt = 0, wn = 0, outputs:  13 x  13 x 512 0.000 BF\n",
            "  99 conv    512       1 x 1/ 1     13 x  13 x 512 ->   13 x  13 x 512 0.089 BF\n",
            " 100 conv    512       3 x 3/ 1     13 x  13 x 512 ->   13 x  13 x 512 0.797 BF\n",
            " 101 Shortcut Layer: 98,  wt = 0, wn = 0, outputs:  13 x  13 x 512 0.000 BF\n",
            " 102 conv    512       1 x 1/ 1     13 x  13 x 512 ->   13 x  13 x 512 0.089 BF\n",
            " 103 route  102 87 \t                           ->   13 x  13 x1024 \n",
            " 104 conv   1024       1 x 1/ 1     13 x  13 x1024 ->   13 x  13 x1024 0.354 BF\n",
            " 105 conv    512       1 x 1/ 1     13 x  13 x1024 ->   13 x  13 x 512 0.177 BF\n",
            " 106 conv   1024       3 x 3/ 1     13 x  13 x 512 ->   13 x  13 x1024 1.595 BF\n",
            " 107 conv    512       1 x 1/ 1     13 x  13 x1024 ->   13 x  13 x 512 0.177 BF\n",
            " 108 max                5x 5/ 1     13 x  13 x 512 ->   13 x  13 x 512 0.002 BF\n",
            " 109 route  107 \t\t                           ->   13 x  13 x 512 \n",
            " 110 max                9x 9/ 1     13 x  13 x 512 ->   13 x  13 x 512 0.007 BF\n",
            " 111 route  107 \t\t                           ->   13 x  13 x 512 \n",
            " 112 max               13x13/ 1     13 x  13 x 512 ->   13 x  13 x 512 0.015 BF\n",
            " 113 route  112 110 108 107 \t                   ->   13 x  13 x2048 \n",
            " 114 conv    512       1 x 1/ 1     13 x  13 x2048 ->   13 x  13 x 512 0.354 BF\n",
            " 115 conv   1024       3 x 3/ 1     13 x  13 x 512 ->   13 x  13 x1024 1.595 BF\n",
            " 116 conv    512       1 x 1/ 1     13 x  13 x1024 ->   13 x  13 x 512 0.177 BF\n",
            " 117 conv    256       1 x 1/ 1     13 x  13 x 512 ->   13 x  13 x 256 0.044 BF\n",
            " 118 upsample                 2x    13 x  13 x 256 ->   26 x  26 x 256\n",
            " 119 route  85 \t\t                           ->   26 x  26 x 512 \n",
            " 120 conv    256       1 x 1/ 1     26 x  26 x 512 ->   26 x  26 x 256 0.177 BF\n",
            " 121 route  120 118 \t                           ->   26 x  26 x 512 \n",
            " 122 conv    256       1 x 1/ 1     26 x  26 x 512 ->   26 x  26 x 256 0.177 BF\n",
            " 123 conv    512       3 x 3/ 1     26 x  26 x 256 ->   26 x  26 x 512 1.595 BF\n",
            " 124 conv    256       1 x 1/ 1     26 x  26 x 512 ->   26 x  26 x 256 0.177 BF\n",
            " 125 conv    512       3 x 3/ 1     26 x  26 x 256 ->   26 x  26 x 512 1.595 BF\n",
            " 126 conv    256       1 x 1/ 1     26 x  26 x 512 ->   26 x  26 x 256 0.177 BF\n",
            " 127 conv    128       1 x 1/ 1     26 x  26 x 256 ->   26 x  26 x 128 0.044 BF\n",
            " 128 upsample                 2x    26 x  26 x 128 ->   52 x  52 x 128\n",
            " 129 route  54 \t\t                           ->   52 x  52 x 256 \n",
            " 130 conv    128       1 x 1/ 1     52 x  52 x 256 ->   52 x  52 x 128 0.177 BF\n",
            " 131 route  130 128 \t                           ->   52 x  52 x 256 \n",
            " 132 conv    128       1 x 1/ 1     52 x  52 x 256 ->   52 x  52 x 128 0.177 BF\n",
            " 133 conv    256       3 x 3/ 1     52 x  52 x 128 ->   52 x  52 x 256 1.595 BF\n",
            " 134 conv    128       1 x 1/ 1     52 x  52 x 256 ->   52 x  52 x 128 0.177 BF\n",
            " 135 conv    256       3 x 3/ 1     52 x  52 x 128 ->   52 x  52 x 256 1.595 BF\n",
            " 136 conv    128       1 x 1/ 1     52 x  52 x 256 ->   52 x  52 x 128 0.177 BF\n",
            " 137 conv    256       3 x 3/ 1     52 x  52 x 128 ->   52 x  52 x 256 1.595 BF\n",
            " 138 conv     30       1 x 1/ 1     52 x  52 x 256 ->   52 x  52 x  30 0.042 BF\n",
            " 139 yolo\n",
            "[yolo] params: iou loss: ciou (4), iou_norm: 0.07, cls_norm: 1.00, scale_x_y: 1.20\n",
            " 140 route  136 \t\t                           ->   52 x  52 x 128 \n",
            " 141 conv    256       3 x 3/ 2     52 x  52 x 128 ->   26 x  26 x 256 0.399 BF\n",
            " 142 route  141 126 \t                           ->   26 x  26 x 512 \n",
            " 143 conv    256       1 x 1/ 1     26 x  26 x 512 ->   26 x  26 x 256 0.177 BF\n",
            " 144 conv    512       3 x 3/ 1     26 x  26 x 256 ->   26 x  26 x 512 1.595 BF\n",
            " 145 conv    256       1 x 1/ 1     26 x  26 x 512 ->   26 x  26 x 256 0.177 BF\n",
            " 146 conv    512       3 x 3/ 1     26 x  26 x 256 ->   26 x  26 x 512 1.595 BF\n",
            " 147 conv    256       1 x 1/ 1     26 x  26 x 512 ->   26 x  26 x 256 0.177 BF\n",
            " 148 conv    512       3 x 3/ 1     26 x  26 x 256 ->   26 x  26 x 512 1.595 BF\n",
            " 149 conv     30       1 x 1/ 1     26 x  26 x 512 ->   26 x  26 x  30 0.021 BF\n",
            " 150 yolo\n",
            "[yolo] params: iou loss: ciou (4), iou_norm: 0.07, cls_norm: 1.00, scale_x_y: 1.10\n",
            " 151 route  147 \t\t                           ->   26 x  26 x 256 \n",
            " 152 conv    512       3 x 3/ 2     26 x  26 x 256 ->   13 x  13 x 512 0.399 BF\n",
            " 153 route  152 116 \t                           ->   13 x  13 x1024 \n",
            " 154 conv    512       1 x 1/ 1     13 x  13 x1024 ->   13 x  13 x 512 0.177 BF\n",
            " 155 conv   1024       3 x 3/ 1     13 x  13 x 512 ->   13 x  13 x1024 1.595 BF\n",
            " 156 conv    512       1 x 1/ 1     13 x  13 x1024 ->   13 x  13 x 512 0.177 BF\n",
            " 157 conv   1024       3 x 3/ 1     13 x  13 x 512 ->   13 x  13 x1024 1.595 BF\n",
            " 158 conv    512       1 x 1/ 1     13 x  13 x1024 ->   13 x  13 x 512 0.177 BF\n",
            " 159 conv   1024       3 x 3/ 1     13 x  13 x 512 ->   13 x  13 x1024 1.595 BF\n",
            " 160 conv     30       1 x 1/ 1     13 x  13 x1024 ->   13 x  13 x  30 0.010 BF\n",
            " 161 yolo\n",
            "[yolo] params: iou loss: ciou (4), iou_norm: 0.07, cls_norm: 1.00, scale_x_y: 1.05\n",
            "Total BFLOPS 59.592 \n",
            "avg_outputs = 490304 \n",
            " Allocate additional workspace_size = 52.43 MB \n",
            "Loading weights from /content/drive/My Drive/20200722/yolow_backup/yolov4-custom_best.weights...Done! Loaded 162 layers from weights-file \n"
          ],
          "name": "stdout"
        }
      ]
    },
    {
      "cell_type": "markdown",
      "metadata": {
        "id": "sPvkSE92jQYH",
        "colab_type": "text"
      },
      "source": [
        "## Convert JSON to Pascal VOC"
      ]
    },
    {
      "cell_type": "code",
      "metadata": {
        "id": "dtjvGfmzkXLn",
        "colab_type": "code",
        "colab": {
          "base_uri": "https://localhost:8080/",
          "height": 121
        },
        "outputId": "03a1dd00-979c-49d4-8a93-f689d2485809"
      },
      "source": [
        "!pip install pascal-voc-writer"
      ],
      "execution_count": 58,
      "outputs": [
        {
          "output_type": "stream",
          "text": [
            "Collecting pascal-voc-writer\n",
            "  Downloading https://files.pythonhosted.org/packages/9d/82/dd86999e6062fc34478f11ead7a68e6615d7e270b39624547edd1dbaba76/pascal_voc_writer-0.1.4-py2.py3-none-any.whl\n",
            "Requirement already satisfied: jinja2 in /usr/local/lib/python3.6/dist-packages (from pascal-voc-writer) (2.11.2)\n",
            "Requirement already satisfied: MarkupSafe>=0.23 in /usr/local/lib/python3.6/dist-packages (from jinja2->pascal-voc-writer) (1.1.1)\n",
            "Installing collected packages: pascal-voc-writer\n",
            "Successfully installed pascal-voc-writer-0.1.4\n"
          ],
          "name": "stdout"
        }
      ]
    },
    {
      "cell_type": "code",
      "metadata": {
        "id": "-skOJt58jUrM",
        "colab_type": "code",
        "colab": {}
      },
      "source": [
        "import json\n",
        "from pprint import pprint\n",
        "from PIL import Image\n",
        "from pascal_voc_writer import Writer"
      ],
      "execution_count": 104,
      "outputs": []
    },
    {
      "cell_type": "code",
      "metadata": {
        "id": "N64l9UuRlPWS",
        "colab_type": "code",
        "colab": {}
      },
      "source": [
        "with open('/content/result.json') as f:\n",
        "    data = json.load(f)\n",
        "# pprint(data)"
      ],
      "execution_count": 105,
      "outputs": []
    },
    {
      "cell_type": "code",
      "metadata": {
        "id": "R9bcmPdcj4OH",
        "colab_type": "code",
        "colab": {}
      },
      "source": [
        "# clear folder if exsists\n",
        "annot_dir = '/content/pascal_voc'\n",
        "\n",
        "# if os.path.isdir(annot_dir):\n",
        "#     shutil.rmtree(annot_dir)    \n",
        "# os.mkdir(annot_dir)\n",
        "create_empty_dir(annot_dir)\n",
        "\n",
        "for det_result in data:\n",
        "    # pprint(image_res)\n",
        "    # writer = Writer('path/to/img.jpg', 800, 400)\n",
        "\n",
        "    img_path = det_result['filename']\n",
        "    img = Image.open(img_path)\n",
        "    width, height = img.size\n",
        "\n",
        "    # Writer(path, width, height)\n",
        "    writer = Writer(img_path, width, height)\n",
        "\n",
        "    for obj in det_result['objects']:\n",
        "        bb_x_center = obj['relative_coordinates']['center_x']\n",
        "        bb_y_center = obj['relative_coordinates']['center_y']\n",
        "        \n",
        "        bb_width = obj['relative_coordinates']['width']\n",
        "        bb_height = obj['relative_coordinates']['height']\n",
        "\n",
        "        xmin = int((bb_x_center - bb_width/2) * width)\n",
        "        xmax = int((bb_x_center + bb_width/2) * width)\n",
        "        \n",
        "        ymin = int((bb_y_center - bb_height/2) * height)\n",
        "        ymax = int((bb_y_center + bb_height/2) * height)\n",
        "\n",
        "        # ::addObject(name, xmin, ymin, xmax, ymax)\n",
        "        writer.addObject(obj['name'], xmin, ymin, xmax, ymax)\n",
        "\n",
        "    #image name without extension\n",
        "    xml_name = img_path.split(\"/\")[-1].split('.')[0] + \".xml\"\n",
        "    xml_path = os.path.join(annot_dir, xml_name)\n",
        "    writer.save(xml_path)\n",
        "    # print(xml_name)"
      ],
      "execution_count": 107,
      "outputs": []
    },
    {
      "cell_type": "code",
      "metadata": {
        "id": "7KbhscCFp4QH",
        "colab_type": "code",
        "colab": {}
      },
      "source": [
        "!cd /content/; zip frames/pascal_voc.zip pascal_voc/*\n",
        "!cd /content/; zip garbage_det_fps_15_img_annot_322.zip frames/*"
      ],
      "execution_count": null,
      "outputs": []
    },
    {
      "cell_type": "code",
      "metadata": {
        "id": "RfllE1WQqgE8",
        "colab_type": "code",
        "colab": {}
      },
      "source": [
        "!cp /content/garbage_det_fps_15_img_annot_322.zip /content/drive/My\\ Drive/20200722"
      ],
      "execution_count": 109,
      "outputs": []
    },
    {
      "cell_type": "markdown",
      "metadata": {
        "id": "m9wmq8xvrHUn",
        "colab_type": "text"
      },
      "source": [
        "# Pytorch"
      ]
    },
    {
      "cell_type": "code",
      "metadata": {
        "id": "sBMG1fIaeJSf",
        "colab_type": "code",
        "colab": {}
      },
      "source": [
        "%cd /content/\n",
        "!git clone --depth 1 https://github.com/Tianxiaomo/pytorch-YOLOv4"
      ],
      "execution_count": null,
      "outputs": []
    },
    {
      "cell_type": "code",
      "metadata": {
        "id": "EwEeMvSigXPl",
        "colab_type": "code",
        "colab": {}
      },
      "source": [
        "# !pip install -U setuptools\n",
        "# !apt install enchant\n",
        "# !pip install pyenchant"
      ],
      "execution_count": null,
      "outputs": []
    },
    {
      "cell_type": "code",
      "metadata": {
        "id": "Ch4GOFAcek-C",
        "colab_type": "code",
        "colab": {}
      },
      "source": [
        "# !pip3 install skimage\n",
        "# !pip install scikit-image\n",
        "!pip install tensorboardX"
      ],
      "execution_count": null,
      "outputs": []
    },
    {
      "cell_type": "code",
      "metadata": {
        "id": "dVtqWVnOeZ4_",
        "colab_type": "code",
        "colab": {}
      },
      "source": [
        "%cd /content/pytorch-YOLOv4/\n",
        "!pip install -r requirements.txt"
      ],
      "execution_count": null,
      "outputs": []
    },
    {
      "cell_type": "code",
      "metadata": {
        "id": "2kI0ot2JiuiN",
        "colab_type": "code",
        "colab": {}
      },
      "source": [
        "!python train.py -g 0 -dir /content/pytorch-YOLOv4/data"
      ],
      "execution_count": null,
      "outputs": []
    },
    {
      "cell_type": "code",
      "metadata": {
        "id": "PKGIKW55wDgn",
        "colab_type": "code",
        "colab": {}
      },
      "source": [
        "%cd /content/pytorch-YOLOv4"
      ],
      "execution_count": null,
      "outputs": []
    },
    {
      "cell_type": "code",
      "metadata": {
        "id": "aA4UAbotwaY0",
        "colab_type": "code",
        "colab": {}
      },
      "source": [
        "_data_path = 'data/obj.data'\n",
        "_cfg_path = '/content/darknet/cfg/yolov4-custom.cfg'\n",
        "_weight_path = '/content/drive/My\\ Drive/20200722/yolow_backup/yolov4-custom_best.weights'\n",
        "_img_path = '/content/fps_5_frame_0002.jpg'"
      ],
      "execution_count": 128,
      "outputs": []
    },
    {
      "cell_type": "code",
      "metadata": {
        "id": "UEDML5SpwJHP",
        "colab_type": "code",
        "colab": {}
      },
      "source": [
        "!python demo.py -cfgfile {_cfg_path} -weightfile {_weight_path} -imgfile {_img_path}"
      ],
      "execution_count": null,
      "outputs": []
    },
    {
      "cell_type": "code",
      "metadata": {
        "id": "X5SSyg6hWLIQ",
        "colab_type": "code",
        "colab": {}
      },
      "source": [
        "# !cat /content/pytorch-YOLOv4/data/train.txt"
      ],
      "execution_count": null,
      "outputs": []
    }
  ]
}